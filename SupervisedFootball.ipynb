{
  "nbformat": 4,
  "nbformat_minor": 0,
  "metadata": {
    "colab": {
      "name": "SupervisedFootball.ipynb",
      "provenance": [],
      "toc_visible": true,
      "authorship_tag": "ABX9TyO+5w7W7asdQKzNwg0EM+Ba",
      "include_colab_link": true
    },
    "kernelspec": {
      "name": "python3",
      "display_name": "Python 3"
    },
    "language_info": {
      "name": "python"
    }
  },
  "cells": [
    {
      "cell_type": "markdown",
      "metadata": {
        "id": "view-in-github",
        "colab_type": "text"
      },
      "source": [
        "<a href=\"https://colab.research.google.com/github/nisode/MSDS/blob/main/SupervisedFootball.ipynb\" target=\"_parent\"><img src=\"https://colab.research.google.com/assets/colab-badge.svg\" alt=\"Open In Colab\"/></a>"
      ]
    },
    {
      "cell_type": "markdown",
      "source": [
        "# Data Loading and EDA"
      ],
      "metadata": {
        "id": "5DSevgRvf17B"
      }
    },
    {
      "cell_type": "code",
      "source": [
        "import numpy as np \n",
        "import pandas as pd "
      ],
      "metadata": {
        "id": "wzl-XxUUzEeI"
      },
      "execution_count": 3,
      "outputs": []
    },
    {
      "cell_type": "code",
      "source": [
        "!gdown --id 1Qzp2SE6rV9JjnI7pgmHyHc7OBXC3iWPP\n",
        "!gdown --id 1hbcEXwrN80fhpdLZpyD3I5oVFq_fdY5L\n",
        "\n",
        "print('Data Loaded!')"
      ],
      "metadata": {
        "colab": {
          "base_uri": "https://localhost:8080/"
        },
        "id": "6CEWAmqr0Zne",
        "outputId": "c1e53244-2294-4875-a7d8-0772bb292d93"
      },
      "execution_count": 4,
      "outputs": [
        {
          "output_type": "stream",
          "name": "stdout",
          "text": [
            "/usr/local/lib/python3.7/dist-packages/gdown/cli.py:131: FutureWarning: Option `--id` was deprecated in version 4.3.1 and will be removed in 5.0. You don't need to pass it anymore to use a file ID.\n",
            "  category=FutureWarning,\n",
            "Downloading...\n",
            "From: https://drive.google.com/uc?id=1Qzp2SE6rV9JjnI7pgmHyHc7OBXC3iWPP\n",
            "To: /content/train_target_and_scores.csv\n",
            "100% 2.00M/2.00M [00:00<00:00, 104MB/s]\n",
            "/usr/local/lib/python3.7/dist-packages/gdown/cli.py:131: FutureWarning: Option `--id` was deprecated in version 4.3.1 and will be removed in 5.0. You don't need to pass it anymore to use a file ID.\n",
            "  category=FutureWarning,\n",
            "Downloading...\n",
            "From: https://drive.google.com/uc?id=1hbcEXwrN80fhpdLZpyD3I5oVFq_fdY5L\n",
            "To: /content/train.csv\n",
            "100% 180M/180M [00:03<00:00, 55.4MB/s]\n",
            "Data Loaded!\n"
          ]
        }
      ]
    },
    {
      "cell_type": "code",
      "source": [
        "train_df = pd.read_csv('train.csv')\n",
        "targets_df = pd.read_csv('train_target_and_scores.csv')"
      ],
      "metadata": {
        "colab": {
          "base_uri": "https://localhost:8080/"
        },
        "id": "0Ou5uAOI1ifJ",
        "outputId": "32060d6f-adfe-49f7-9ca7-a4b91d057ce1"
      },
      "execution_count": 5,
      "outputs": [
        {
          "output_type": "stream",
          "name": "stderr",
          "text": [
            "/usr/local/lib/python3.7/dist-packages/IPython/core/interactiveshell.py:2882: DtypeWarning: Columns (7) have mixed types.Specify dtype option on import or set low_memory=False.\n",
            "  exec(code_obj, self.user_global_ns, self.user_ns)\n"
          ]
        }
      ]
    },
    {
      "cell_type": "code",
      "source": [
        "train_df.head()"
      ],
      "metadata": {
        "colab": {
          "base_uri": "https://localhost:8080/",
          "height": 386
        },
        "id": "KynGC3NZ1zF-",
        "outputId": "c9303f3a-9d2f-4af9-d087-dec2c347751f"
      },
      "execution_count": 6,
      "outputs": [
        {
          "output_type": "execute_result",
          "data": {
            "text/plain": [
              "         id target     home_team_name         away_team_name  \\\n",
              "0  11906497   away  Newell's Old Boys            River Plate   \n",
              "1  11984383   home        Real Estelí  Deportivo Las Sabanas   \n",
              "2  11983301   draw              UPNFM               Marathón   \n",
              "3  11983471   away               León                Morelia   \n",
              "4  11883005   home     Cobán Imperial                 Iztapa   \n",
              "\n",
              "            match_date       league_name  league_id is_cup  \\\n",
              "0  2019-12-01 00:45:00         Superliga        636  False   \n",
              "1  2019-12-01 01:00:00  Primera Division        752  False   \n",
              "2  2019-12-01 01:00:00     Liga Nacional        734  False   \n",
              "3  2019-12-01 01:00:00           Liga MX        743  False   \n",
              "4  2019-12-01 01:00:00     Liga Nacional        705  False   \n",
              "\n",
              "   home_team_coach_id  away_team_coach_id  ... away_team_history_league_id_1  \\\n",
              "0            468196.0            468200.0  ...                        1122.0   \n",
              "1            516788.0          22169161.0  ...                         752.0   \n",
              "2           2510608.0            456313.0  ...                         734.0   \n",
              "3           1552508.0            465797.0  ...                         743.0   \n",
              "4            429958.0            426870.0  ...                         705.0   \n",
              "\n",
              "  away_team_history_league_id_2 away_team_history_league_id_3  \\\n",
              "0                         642.0                         636.0   \n",
              "1                         752.0                         752.0   \n",
              "2                         734.0                         734.0   \n",
              "3                         743.0                         743.0   \n",
              "4                         705.0                         705.0   \n",
              "\n",
              "  away_team_history_league_id_4 away_team_history_league_id_5  \\\n",
              "0                         636.0                         636.0   \n",
              "1                         752.0                         752.0   \n",
              "2                         734.0                         734.0   \n",
              "3                         743.0                         743.0   \n",
              "4                         705.0                         705.0   \n",
              "\n",
              "  away_team_history_league_id_6 away_team_history_league_id_7  \\\n",
              "0                        1122.0                         636.0   \n",
              "1                         752.0                         752.0   \n",
              "2                         734.0                         734.0   \n",
              "3                         743.0                         743.0   \n",
              "4                         705.0                         705.0   \n",
              "\n",
              "  away_team_history_league_id_8 away_team_history_league_id_9  \\\n",
              "0                         642.0                         636.0   \n",
              "1                         752.0                         752.0   \n",
              "2                         734.0                         734.0   \n",
              "3                         743.0                         746.0   \n",
              "4                         705.0                         705.0   \n",
              "\n",
              "  away_team_history_league_id_10  \n",
              "0                         1122.0  \n",
              "1                          752.0  \n",
              "2                          734.0  \n",
              "3                          743.0  \n",
              "4                          705.0  \n",
              "\n",
              "[5 rows x 190 columns]"
            ],
            "text/html": [
              "\n",
              "  <div id=\"df-ba7f1486-0a75-4a83-b496-46e9a4435602\">\n",
              "    <div class=\"colab-df-container\">\n",
              "      <div>\n",
              "<style scoped>\n",
              "    .dataframe tbody tr th:only-of-type {\n",
              "        vertical-align: middle;\n",
              "    }\n",
              "\n",
              "    .dataframe tbody tr th {\n",
              "        vertical-align: top;\n",
              "    }\n",
              "\n",
              "    .dataframe thead th {\n",
              "        text-align: right;\n",
              "    }\n",
              "</style>\n",
              "<table border=\"1\" class=\"dataframe\">\n",
              "  <thead>\n",
              "    <tr style=\"text-align: right;\">\n",
              "      <th></th>\n",
              "      <th>id</th>\n",
              "      <th>target</th>\n",
              "      <th>home_team_name</th>\n",
              "      <th>away_team_name</th>\n",
              "      <th>match_date</th>\n",
              "      <th>league_name</th>\n",
              "      <th>league_id</th>\n",
              "      <th>is_cup</th>\n",
              "      <th>home_team_coach_id</th>\n",
              "      <th>away_team_coach_id</th>\n",
              "      <th>...</th>\n",
              "      <th>away_team_history_league_id_1</th>\n",
              "      <th>away_team_history_league_id_2</th>\n",
              "      <th>away_team_history_league_id_3</th>\n",
              "      <th>away_team_history_league_id_4</th>\n",
              "      <th>away_team_history_league_id_5</th>\n",
              "      <th>away_team_history_league_id_6</th>\n",
              "      <th>away_team_history_league_id_7</th>\n",
              "      <th>away_team_history_league_id_8</th>\n",
              "      <th>away_team_history_league_id_9</th>\n",
              "      <th>away_team_history_league_id_10</th>\n",
              "    </tr>\n",
              "  </thead>\n",
              "  <tbody>\n",
              "    <tr>\n",
              "      <th>0</th>\n",
              "      <td>11906497</td>\n",
              "      <td>away</td>\n",
              "      <td>Newell's Old Boys</td>\n",
              "      <td>River Plate</td>\n",
              "      <td>2019-12-01 00:45:00</td>\n",
              "      <td>Superliga</td>\n",
              "      <td>636</td>\n",
              "      <td>False</td>\n",
              "      <td>468196.0</td>\n",
              "      <td>468200.0</td>\n",
              "      <td>...</td>\n",
              "      <td>1122.0</td>\n",
              "      <td>642.0</td>\n",
              "      <td>636.0</td>\n",
              "      <td>636.0</td>\n",
              "      <td>636.0</td>\n",
              "      <td>1122.0</td>\n",
              "      <td>636.0</td>\n",
              "      <td>642.0</td>\n",
              "      <td>636.0</td>\n",
              "      <td>1122.0</td>\n",
              "    </tr>\n",
              "    <tr>\n",
              "      <th>1</th>\n",
              "      <td>11984383</td>\n",
              "      <td>home</td>\n",
              "      <td>Real Estelí</td>\n",
              "      <td>Deportivo Las Sabanas</td>\n",
              "      <td>2019-12-01 01:00:00</td>\n",
              "      <td>Primera Division</td>\n",
              "      <td>752</td>\n",
              "      <td>False</td>\n",
              "      <td>516788.0</td>\n",
              "      <td>22169161.0</td>\n",
              "      <td>...</td>\n",
              "      <td>752.0</td>\n",
              "      <td>752.0</td>\n",
              "      <td>752.0</td>\n",
              "      <td>752.0</td>\n",
              "      <td>752.0</td>\n",
              "      <td>752.0</td>\n",
              "      <td>752.0</td>\n",
              "      <td>752.0</td>\n",
              "      <td>752.0</td>\n",
              "      <td>752.0</td>\n",
              "    </tr>\n",
              "    <tr>\n",
              "      <th>2</th>\n",
              "      <td>11983301</td>\n",
              "      <td>draw</td>\n",
              "      <td>UPNFM</td>\n",
              "      <td>Marathón</td>\n",
              "      <td>2019-12-01 01:00:00</td>\n",
              "      <td>Liga Nacional</td>\n",
              "      <td>734</td>\n",
              "      <td>False</td>\n",
              "      <td>2510608.0</td>\n",
              "      <td>456313.0</td>\n",
              "      <td>...</td>\n",
              "      <td>734.0</td>\n",
              "      <td>734.0</td>\n",
              "      <td>734.0</td>\n",
              "      <td>734.0</td>\n",
              "      <td>734.0</td>\n",
              "      <td>734.0</td>\n",
              "      <td>734.0</td>\n",
              "      <td>734.0</td>\n",
              "      <td>734.0</td>\n",
              "      <td>734.0</td>\n",
              "    </tr>\n",
              "    <tr>\n",
              "      <th>3</th>\n",
              "      <td>11983471</td>\n",
              "      <td>away</td>\n",
              "      <td>León</td>\n",
              "      <td>Morelia</td>\n",
              "      <td>2019-12-01 01:00:00</td>\n",
              "      <td>Liga MX</td>\n",
              "      <td>743</td>\n",
              "      <td>False</td>\n",
              "      <td>1552508.0</td>\n",
              "      <td>465797.0</td>\n",
              "      <td>...</td>\n",
              "      <td>743.0</td>\n",
              "      <td>743.0</td>\n",
              "      <td>743.0</td>\n",
              "      <td>743.0</td>\n",
              "      <td>743.0</td>\n",
              "      <td>743.0</td>\n",
              "      <td>743.0</td>\n",
              "      <td>743.0</td>\n",
              "      <td>746.0</td>\n",
              "      <td>743.0</td>\n",
              "    </tr>\n",
              "    <tr>\n",
              "      <th>4</th>\n",
              "      <td>11883005</td>\n",
              "      <td>home</td>\n",
              "      <td>Cobán Imperial</td>\n",
              "      <td>Iztapa</td>\n",
              "      <td>2019-12-01 01:00:00</td>\n",
              "      <td>Liga Nacional</td>\n",
              "      <td>705</td>\n",
              "      <td>False</td>\n",
              "      <td>429958.0</td>\n",
              "      <td>426870.0</td>\n",
              "      <td>...</td>\n",
              "      <td>705.0</td>\n",
              "      <td>705.0</td>\n",
              "      <td>705.0</td>\n",
              "      <td>705.0</td>\n",
              "      <td>705.0</td>\n",
              "      <td>705.0</td>\n",
              "      <td>705.0</td>\n",
              "      <td>705.0</td>\n",
              "      <td>705.0</td>\n",
              "      <td>705.0</td>\n",
              "    </tr>\n",
              "  </tbody>\n",
              "</table>\n",
              "<p>5 rows × 190 columns</p>\n",
              "</div>\n",
              "      <button class=\"colab-df-convert\" onclick=\"convertToInteractive('df-ba7f1486-0a75-4a83-b496-46e9a4435602')\"\n",
              "              title=\"Convert this dataframe to an interactive table.\"\n",
              "              style=\"display:none;\">\n",
              "        \n",
              "  <svg xmlns=\"http://www.w3.org/2000/svg\" height=\"24px\"viewBox=\"0 0 24 24\"\n",
              "       width=\"24px\">\n",
              "    <path d=\"M0 0h24v24H0V0z\" fill=\"none\"/>\n",
              "    <path d=\"M18.56 5.44l.94 2.06.94-2.06 2.06-.94-2.06-.94-.94-2.06-.94 2.06-2.06.94zm-11 1L8.5 8.5l.94-2.06 2.06-.94-2.06-.94L8.5 2.5l-.94 2.06-2.06.94zm10 10l.94 2.06.94-2.06 2.06-.94-2.06-.94-.94-2.06-.94 2.06-2.06.94z\"/><path d=\"M17.41 7.96l-1.37-1.37c-.4-.4-.92-.59-1.43-.59-.52 0-1.04.2-1.43.59L10.3 9.45l-7.72 7.72c-.78.78-.78 2.05 0 2.83L4 21.41c.39.39.9.59 1.41.59.51 0 1.02-.2 1.41-.59l7.78-7.78 2.81-2.81c.8-.78.8-2.07 0-2.86zM5.41 20L4 18.59l7.72-7.72 1.47 1.35L5.41 20z\"/>\n",
              "  </svg>\n",
              "      </button>\n",
              "      \n",
              "  <style>\n",
              "    .colab-df-container {\n",
              "      display:flex;\n",
              "      flex-wrap:wrap;\n",
              "      gap: 12px;\n",
              "    }\n",
              "\n",
              "    .colab-df-convert {\n",
              "      background-color: #E8F0FE;\n",
              "      border: none;\n",
              "      border-radius: 50%;\n",
              "      cursor: pointer;\n",
              "      display: none;\n",
              "      fill: #1967D2;\n",
              "      height: 32px;\n",
              "      padding: 0 0 0 0;\n",
              "      width: 32px;\n",
              "    }\n",
              "\n",
              "    .colab-df-convert:hover {\n",
              "      background-color: #E2EBFA;\n",
              "      box-shadow: 0px 1px 2px rgba(60, 64, 67, 0.3), 0px 1px 3px 1px rgba(60, 64, 67, 0.15);\n",
              "      fill: #174EA6;\n",
              "    }\n",
              "\n",
              "    [theme=dark] .colab-df-convert {\n",
              "      background-color: #3B4455;\n",
              "      fill: #D2E3FC;\n",
              "    }\n",
              "\n",
              "    [theme=dark] .colab-df-convert:hover {\n",
              "      background-color: #434B5C;\n",
              "      box-shadow: 0px 1px 3px 1px rgba(0, 0, 0, 0.15);\n",
              "      filter: drop-shadow(0px 1px 2px rgba(0, 0, 0, 0.3));\n",
              "      fill: #FFFFFF;\n",
              "    }\n",
              "  </style>\n",
              "\n",
              "      <script>\n",
              "        const buttonEl =\n",
              "          document.querySelector('#df-ba7f1486-0a75-4a83-b496-46e9a4435602 button.colab-df-convert');\n",
              "        buttonEl.style.display =\n",
              "          google.colab.kernel.accessAllowed ? 'block' : 'none';\n",
              "\n",
              "        async function convertToInteractive(key) {\n",
              "          const element = document.querySelector('#df-ba7f1486-0a75-4a83-b496-46e9a4435602');\n",
              "          const dataTable =\n",
              "            await google.colab.kernel.invokeFunction('convertToInteractive',\n",
              "                                                     [key], {});\n",
              "          if (!dataTable) return;\n",
              "\n",
              "          const docLinkHtml = 'Like what you see? Visit the ' +\n",
              "            '<a target=\"_blank\" href=https://colab.research.google.com/notebooks/data_table.ipynb>data table notebook</a>'\n",
              "            + ' to learn more about interactive tables.';\n",
              "          element.innerHTML = '';\n",
              "          dataTable['output_type'] = 'display_data';\n",
              "          await google.colab.output.renderOutput(dataTable, element);\n",
              "          const docLink = document.createElement('div');\n",
              "          docLink.innerHTML = docLinkHtml;\n",
              "          element.appendChild(docLink);\n",
              "        }\n",
              "      </script>\n",
              "    </div>\n",
              "  </div>\n",
              "  "
            ]
          },
          "metadata": {},
          "execution_count": 6
        }
      ]
    },
    {
      "cell_type": "code",
      "source": [
        "train_df.info()"
      ],
      "metadata": {
        "colab": {
          "base_uri": "https://localhost:8080/"
        },
        "id": "T99PmfiOaJ-3",
        "outputId": "854b3054-4d6d-48bb-ae3a-ab8b7f005e65"
      },
      "execution_count": 7,
      "outputs": [
        {
          "output_type": "stream",
          "name": "stdout",
          "text": [
            "<class 'pandas.core.frame.DataFrame'>\n",
            "RangeIndex: 110938 entries, 0 to 110937\n",
            "Columns: 190 entries, id to away_team_history_league_id_10\n",
            "dtypes: float64(162), int64(2), object(26)\n",
            "memory usage: 160.8+ MB\n"
          ]
        }
      ]
    },
    {
      "cell_type": "code",
      "source": [
        "train_df.columns[:20]"
      ],
      "metadata": {
        "colab": {
          "base_uri": "https://localhost:8080/"
        },
        "id": "urZWqiNbHTS7",
        "outputId": "a4ffa6f7-6e00-45c7-caef-29f9a1a850e3"
      },
      "execution_count": 8,
      "outputs": [
        {
          "output_type": "execute_result",
          "data": {
            "text/plain": [
              "Index(['id', 'target', 'home_team_name', 'away_team_name', 'match_date',\n",
              "       'league_name', 'league_id', 'is_cup', 'home_team_coach_id',\n",
              "       'away_team_coach_id', 'home_team_history_match_date_1',\n",
              "       'home_team_history_match_date_2', 'home_team_history_match_date_3',\n",
              "       'home_team_history_match_date_4', 'home_team_history_match_date_5',\n",
              "       'home_team_history_match_date_6', 'home_team_history_match_date_7',\n",
              "       'home_team_history_match_date_8', 'home_team_history_match_date_9',\n",
              "       'home_team_history_match_date_10'],\n",
              "      dtype='object')"
            ]
          },
          "metadata": {},
          "execution_count": 8
        }
      ]
    },
    {
      "cell_type": "markdown",
      "source": [
        "## Column Descriptions"
      ],
      "metadata": {
        "id": "Fr_j4W7HfZcz"
      }
    },
    {
      "cell_type": "markdown",
      "source": [
        "### Descriptive Columns\n",
        "\n",
        "* **target** - The variable you have to predict the probabilities only available in the train set.\n",
        "* **home_team_name** - The name of the Home the team. Hidden in test set, see this discussion\n",
        "* **away_team_name** - The name of the Away the team. Hidden in test set, see this discussion\n",
        "* **match_date** - The match date (UTC).\n",
        "* **league_name** - The league name.\n",
        "* **league_id** - The league id. Note that league names can be identical for two differents id.\n",
        "* **is_cup** - If the value is 1 the match is played for a cup compettion.\n",
        "* **home_team_coach_id** - The id of the Home team coach.\n",
        "* **away_team_coach_id** - The id of the Away team coach."
      ],
      "metadata": {
        "id": "g8jsEDYeETHX"
      }
    },
    {
      "cell_type": "markdown",
      "source": [
        "### Historical Columns\n",
        "\n",
        "Historical home team features:\n",
        "\n",
        "\n",
        "* **home_team_history_match_date_{i}** - The date of the last i-th match played by Home team.\n",
        "* **home_team_history_is_play_home_{i}** - If 1, the Home team played home.\n",
        "* **home_team_history_is_cup_{i}** - If 1, the match was a cup competition.\n",
        "* **home_team_history_goal_{i}** - The number of goals scored by the Home team on its last i-th match.\n",
        "* **home_team_history_opponent_goal_{i}** - The number of goals conceded by the Home team on its last i-th match.\n",
        "* **home_team_history_rating_{i}** - The rating of the Home team on its last i-th match (pre match rating).\n",
        "* **home_team_history_opponent_rating_{i}** - The rating of the opponent team on Home team last i-th match (pre match rating).\n",
        "* **home_team_history_coach_{i}** - The coach id of the Home team on its last i-th match.\n",
        "* **home_team_history_league_id_{i}** - The league name id by the Home team on its last i-th match.\n",
        "\n",
        "\n",
        "Historical away team features:\n",
        "\n",
        "\n",
        "* **away_team_history_match_date_{i}** - The date of the last i-th match played by Away team.\n",
        "* **away_team_history_is_play_home_{i}** - If 1, the Away team played home.\n",
        "* **away_team_history_is_cup_{i}** - If 1, the match was a cup competition.\n",
        "* **away_team_history_goal_{i}** - The number of goals scored by the Away team on its last i-th match.\n",
        "* **away_team_history_opponent_goal_{i}** - The number of goals conceded by the Away team on its last i-th match.\n",
        "* **away_team_history_rating_{i}** - The rating of the Away team on its last i-th match (pre match rating).\n",
        "* **away_team_history_opponent_rating_{i}** - The rating of the opponent team on Away team last i-th match (pre match rating).\n",
        "* **away_team_history_coach_{i}** - The coach id of the Away team on its last i-th match.\n",
        "* **away_team_history_league_id_{i}** - The league name id played by the Away on its last i-th match."
      ],
      "metadata": {
        "id": "a3d6rWsnEs2N"
      }
    },
    {
      "cell_type": "code",
      "source": [
        "targets_df.head()"
      ],
      "metadata": {
        "colab": {
          "base_uri": "https://localhost:8080/",
          "height": 206
        },
        "id": "0akOcXJ1FwJv",
        "outputId": "7518ff90-3856-4822-fa85-4e52f82ab7d7"
      },
      "execution_count": 9,
      "outputs": [
        {
          "output_type": "execute_result",
          "data": {
            "text/plain": [
              "         id score target\n",
              "0  11906497   2-3   away\n",
              "1  11984383   1-0   home\n",
              "2  11983301   2-2   draw\n",
              "3  11983471   1-2   away\n",
              "4  11883005   1-0   home"
            ],
            "text/html": [
              "\n",
              "  <div id=\"df-1e8e2967-961b-40d8-80e8-283a2215ae67\">\n",
              "    <div class=\"colab-df-container\">\n",
              "      <div>\n",
              "<style scoped>\n",
              "    .dataframe tbody tr th:only-of-type {\n",
              "        vertical-align: middle;\n",
              "    }\n",
              "\n",
              "    .dataframe tbody tr th {\n",
              "        vertical-align: top;\n",
              "    }\n",
              "\n",
              "    .dataframe thead th {\n",
              "        text-align: right;\n",
              "    }\n",
              "</style>\n",
              "<table border=\"1\" class=\"dataframe\">\n",
              "  <thead>\n",
              "    <tr style=\"text-align: right;\">\n",
              "      <th></th>\n",
              "      <th>id</th>\n",
              "      <th>score</th>\n",
              "      <th>target</th>\n",
              "    </tr>\n",
              "  </thead>\n",
              "  <tbody>\n",
              "    <tr>\n",
              "      <th>0</th>\n",
              "      <td>11906497</td>\n",
              "      <td>2-3</td>\n",
              "      <td>away</td>\n",
              "    </tr>\n",
              "    <tr>\n",
              "      <th>1</th>\n",
              "      <td>11984383</td>\n",
              "      <td>1-0</td>\n",
              "      <td>home</td>\n",
              "    </tr>\n",
              "    <tr>\n",
              "      <th>2</th>\n",
              "      <td>11983301</td>\n",
              "      <td>2-2</td>\n",
              "      <td>draw</td>\n",
              "    </tr>\n",
              "    <tr>\n",
              "      <th>3</th>\n",
              "      <td>11983471</td>\n",
              "      <td>1-2</td>\n",
              "      <td>away</td>\n",
              "    </tr>\n",
              "    <tr>\n",
              "      <th>4</th>\n",
              "      <td>11883005</td>\n",
              "      <td>1-0</td>\n",
              "      <td>home</td>\n",
              "    </tr>\n",
              "  </tbody>\n",
              "</table>\n",
              "</div>\n",
              "      <button class=\"colab-df-convert\" onclick=\"convertToInteractive('df-1e8e2967-961b-40d8-80e8-283a2215ae67')\"\n",
              "              title=\"Convert this dataframe to an interactive table.\"\n",
              "              style=\"display:none;\">\n",
              "        \n",
              "  <svg xmlns=\"http://www.w3.org/2000/svg\" height=\"24px\"viewBox=\"0 0 24 24\"\n",
              "       width=\"24px\">\n",
              "    <path d=\"M0 0h24v24H0V0z\" fill=\"none\"/>\n",
              "    <path d=\"M18.56 5.44l.94 2.06.94-2.06 2.06-.94-2.06-.94-.94-2.06-.94 2.06-2.06.94zm-11 1L8.5 8.5l.94-2.06 2.06-.94-2.06-.94L8.5 2.5l-.94 2.06-2.06.94zm10 10l.94 2.06.94-2.06 2.06-.94-2.06-.94-.94-2.06-.94 2.06-2.06.94z\"/><path d=\"M17.41 7.96l-1.37-1.37c-.4-.4-.92-.59-1.43-.59-.52 0-1.04.2-1.43.59L10.3 9.45l-7.72 7.72c-.78.78-.78 2.05 0 2.83L4 21.41c.39.39.9.59 1.41.59.51 0 1.02-.2 1.41-.59l7.78-7.78 2.81-2.81c.8-.78.8-2.07 0-2.86zM5.41 20L4 18.59l7.72-7.72 1.47 1.35L5.41 20z\"/>\n",
              "  </svg>\n",
              "      </button>\n",
              "      \n",
              "  <style>\n",
              "    .colab-df-container {\n",
              "      display:flex;\n",
              "      flex-wrap:wrap;\n",
              "      gap: 12px;\n",
              "    }\n",
              "\n",
              "    .colab-df-convert {\n",
              "      background-color: #E8F0FE;\n",
              "      border: none;\n",
              "      border-radius: 50%;\n",
              "      cursor: pointer;\n",
              "      display: none;\n",
              "      fill: #1967D2;\n",
              "      height: 32px;\n",
              "      padding: 0 0 0 0;\n",
              "      width: 32px;\n",
              "    }\n",
              "\n",
              "    .colab-df-convert:hover {\n",
              "      background-color: #E2EBFA;\n",
              "      box-shadow: 0px 1px 2px rgba(60, 64, 67, 0.3), 0px 1px 3px 1px rgba(60, 64, 67, 0.15);\n",
              "      fill: #174EA6;\n",
              "    }\n",
              "\n",
              "    [theme=dark] .colab-df-convert {\n",
              "      background-color: #3B4455;\n",
              "      fill: #D2E3FC;\n",
              "    }\n",
              "\n",
              "    [theme=dark] .colab-df-convert:hover {\n",
              "      background-color: #434B5C;\n",
              "      box-shadow: 0px 1px 3px 1px rgba(0, 0, 0, 0.15);\n",
              "      filter: drop-shadow(0px 1px 2px rgba(0, 0, 0, 0.3));\n",
              "      fill: #FFFFFF;\n",
              "    }\n",
              "  </style>\n",
              "\n",
              "      <script>\n",
              "        const buttonEl =\n",
              "          document.querySelector('#df-1e8e2967-961b-40d8-80e8-283a2215ae67 button.colab-df-convert');\n",
              "        buttonEl.style.display =\n",
              "          google.colab.kernel.accessAllowed ? 'block' : 'none';\n",
              "\n",
              "        async function convertToInteractive(key) {\n",
              "          const element = document.querySelector('#df-1e8e2967-961b-40d8-80e8-283a2215ae67');\n",
              "          const dataTable =\n",
              "            await google.colab.kernel.invokeFunction('convertToInteractive',\n",
              "                                                     [key], {});\n",
              "          if (!dataTable) return;\n",
              "\n",
              "          const docLinkHtml = 'Like what you see? Visit the ' +\n",
              "            '<a target=\"_blank\" href=https://colab.research.google.com/notebooks/data_table.ipynb>data table notebook</a>'\n",
              "            + ' to learn more about interactive tables.';\n",
              "          element.innerHTML = '';\n",
              "          dataTable['output_type'] = 'display_data';\n",
              "          await google.colab.output.renderOutput(dataTable, element);\n",
              "          const docLink = document.createElement('div');\n",
              "          docLink.innerHTML = docLinkHtml;\n",
              "          element.appendChild(docLink);\n",
              "        }\n",
              "      </script>\n",
              "    </div>\n",
              "  </div>\n",
              "  "
            ]
          },
          "metadata": {},
          "execution_count": 9
        }
      ]
    },
    {
      "cell_type": "code",
      "source": [
        "targets_df.info()"
      ],
      "metadata": {
        "colab": {
          "base_uri": "https://localhost:8080/"
        },
        "id": "1N6pY3sgHIaV",
        "outputId": "a422241f-a840-4676-f4d2-b6dcc970d88e"
      },
      "execution_count": 10,
      "outputs": [
        {
          "output_type": "stream",
          "name": "stdout",
          "text": [
            "<class 'pandas.core.frame.DataFrame'>\n",
            "RangeIndex: 110938 entries, 0 to 110937\n",
            "Data columns (total 3 columns):\n",
            " #   Column  Non-Null Count   Dtype \n",
            "---  ------  --------------   ----- \n",
            " 0   id      110938 non-null  int64 \n",
            " 1   score   110938 non-null  object\n",
            " 2   target  110938 non-null  object\n",
            "dtypes: int64(1), object(2)\n",
            "memory usage: 2.5+ MB\n"
          ]
        }
      ]
    },
    {
      "cell_type": "markdown",
      "source": [
        "## EDA"
      ],
      "metadata": {
        "id": "pVcMXP4Q5hEh"
      }
    },
    {
      "cell_type": "code",
      "source": [
        "train_df['target'].value_counts(sort=True)"
      ],
      "metadata": {
        "colab": {
          "base_uri": "https://localhost:8080/"
        },
        "id": "38_xwI-s91SH",
        "outputId": "cf23e11b-6a01-4c6e-d688-581ef66e6c34"
      },
      "execution_count": 11,
      "outputs": [
        {
          "output_type": "execute_result",
          "data": {
            "text/plain": [
              "home    48113\n",
              "away    35174\n",
              "draw    27651\n",
              "Name: target, dtype: int64"
            ]
          },
          "metadata": {},
          "execution_count": 11
        }
      ]
    },
    {
      "cell_type": "code",
      "source": [
        "train_df['target'].value_counts(normalize=True, sort=True)"
      ],
      "metadata": {
        "colab": {
          "base_uri": "https://localhost:8080/"
        },
        "id": "Em2kOdz1u5ac",
        "outputId": "ed3f4b06-3c4f-4102-d52b-29268e97e477"
      },
      "execution_count": 12,
      "outputs": [
        {
          "output_type": "execute_result",
          "data": {
            "text/plain": [
              "home    0.433693\n",
              "away    0.317060\n",
              "draw    0.249247\n",
              "Name: target, dtype: float64"
            ]
          },
          "metadata": {},
          "execution_count": 12
        }
      ]
    },
    {
      "cell_type": "code",
      "source": [
        "train_df['target'].value_counts(normalize=True, sort=True).plot.bar(rot=0, color=['g','r','c'])"
      ],
      "metadata": {
        "colab": {
          "base_uri": "https://localhost:8080/",
          "height": 282
        },
        "id": "_gmtLgvj-fSC",
        "outputId": "a617ec48-1c68-4ee2-da89-6835e887813f"
      },
      "execution_count": 13,
      "outputs": [
        {
          "output_type": "execute_result",
          "data": {
            "text/plain": [
              "<matplotlib.axes._subplots.AxesSubplot at 0x7f9bc6ed41d0>"
            ]
          },
          "metadata": {},
          "execution_count": 13
        },
        {
          "output_type": "display_data",
          "data": {
            "text/plain": [
              "<Figure size 432x288 with 1 Axes>"
            ],
            "image/png": "[encoded data removed]"
          },
          "metadata": {
            "needs_background": "light"
          }
        }
      ]
    },
    {
      "cell_type": "code",
      "source": [
        "train_df[(train_df['is_cup'] == True)]['target'].value_counts(normalize=True, sort=True)"
      ],
      "metadata": {
        "colab": {
          "base_uri": "https://localhost:8080/"
        },
        "id": "rGa51plBvR_P",
        "outputId": "c6a8785c-2ccd-4432-849e-444d78a3f393"
      },
      "execution_count": 14,
      "outputs": [
        {
          "output_type": "execute_result",
          "data": {
            "text/plain": [
              "home    0.428918\n",
              "away    0.357009\n",
              "draw    0.214073\n",
              "Name: target, dtype: float64"
            ]
          },
          "metadata": {},
          "execution_count": 14
        }
      ]
    },
    {
      "cell_type": "code",
      "source": [
        "train_df[(train_df['is_cup'] == True)]['target'].value_counts(normalize=True, sort=True).plot.bar(rot=0, color=['g','r','c'])"
      ],
      "metadata": {
        "colab": {
          "base_uri": "https://localhost:8080/",
          "height": 282
        },
        "id": "SmtdUynPwOKJ",
        "outputId": "df877d11-0141-466f-e89a-e6c2494ae597"
      },
      "execution_count": 15,
      "outputs": [
        {
          "output_type": "execute_result",
          "data": {
            "text/plain": [
              "<matplotlib.axes._subplots.AxesSubplot at 0x7f9bc69573d0>"
            ]
          },
          "metadata": {},
          "execution_count": 15
        },
        {
          "output_type": "display_data",
          "data": {
            "text/plain": [
              "<Figure size 432x288 with 1 Axes>"
            ],
            "image/png": "[encoded data removed]"
          },
          "metadata": {
            "needs_background": "light"
          }
        }
      ]
    },
    {
      "cell_type": "code",
      "source": [
        "train_df.isna().sum().to_frame()"
      ],
      "metadata": {
        "colab": {
          "base_uri": "https://localhost:8080/",
          "height": 424
        },
        "id": "f6-bMTVmjTvo",
        "outputId": "b85c3865-4e3b-4626-b248-7342a267330f"
      },
      "execution_count": 16,
      "outputs": [
        {
          "output_type": "execute_result",
          "data": {
            "text/plain": [
              "                                    0\n",
              "id                                  0\n",
              "target                              0\n",
              "home_team_name                      1\n",
              "away_team_name                      1\n",
              "match_date                          0\n",
              "...                               ...\n",
              "away_team_history_league_id_6    8426\n",
              "away_team_history_league_id_7    9867\n",
              "away_team_history_league_id_8   11295\n",
              "away_team_history_league_id_9   12762\n",
              "away_team_history_league_id_10  14216\n",
              "\n",
              "[190 rows x 1 columns]"
            ],
            "text/html": [
              "\n",
              "  <div id=\"df-cd04fab7-3944-410f-9aa4-0a4a643629a9\">\n",
              "    <div class=\"colab-df-container\">\n",
              "      <div>\n",
              "<style scoped>\n",
              "    .dataframe tbody tr th:only-of-type {\n",
              "        vertical-align: middle;\n",
              "    }\n",
              "\n",
              "    .dataframe tbody tr th {\n",
              "        vertical-align: top;\n",
              "    }\n",
              "\n",
              "    .dataframe thead th {\n",
              "        text-align: right;\n",
              "    }\n",
              "</style>\n",
              "<table border=\"1\" class=\"dataframe\">\n",
              "  <thead>\n",
              "    <tr style=\"text-align: right;\">\n",
              "      <th></th>\n",
              "      <th>0</th>\n",
              "    </tr>\n",
              "  </thead>\n",
              "  <tbody>\n",
              "    <tr>\n",
              "      <th>id</th>\n",
              "      <td>0</td>\n",
              "    </tr>\n",
              "    <tr>\n",
              "      <th>target</th>\n",
              "      <td>0</td>\n",
              "    </tr>\n",
              "    <tr>\n",
              "      <th>home_team_name</th>\n",
              "      <td>1</td>\n",
              "    </tr>\n",
              "    <tr>\n",
              "      <th>away_team_name</th>\n",
              "      <td>1</td>\n",
              "    </tr>\n",
              "    <tr>\n",
              "      <th>match_date</th>\n",
              "      <td>0</td>\n",
              "    </tr>\n",
              "    <tr>\n",
              "      <th>...</th>\n",
              "      <td>...</td>\n",
              "    </tr>\n",
              "    <tr>\n",
              "      <th>away_team_history_league_id_6</th>\n",
              "      <td>8426</td>\n",
              "    </tr>\n",
              "    <tr>\n",
              "      <th>away_team_history_league_id_7</th>\n",
              "      <td>9867</td>\n",
              "    </tr>\n",
              "    <tr>\n",
              "      <th>away_team_history_league_id_8</th>\n",
              "      <td>11295</td>\n",
              "    </tr>\n",
              "    <tr>\n",
              "      <th>away_team_history_league_id_9</th>\n",
              "      <td>12762</td>\n",
              "    </tr>\n",
              "    <tr>\n",
              "      <th>away_team_history_league_id_10</th>\n",
              "      <td>14216</td>\n",
              "    </tr>\n",
              "  </tbody>\n",
              "</table>\n",
              "<p>190 rows × 1 columns</p>\n",
              "</div>\n",
              "      <button class=\"colab-df-convert\" onclick=\"convertToInteractive('df-cd04fab7-3944-410f-9aa4-0a4a643629a9')\"\n",
              "              title=\"Convert this dataframe to an interactive table.\"\n",
              "              style=\"display:none;\">\n",
              "        \n",
              "  <svg xmlns=\"http://www.w3.org/2000/svg\" height=\"24px\"viewBox=\"0 0 24 24\"\n",
              "       width=\"24px\">\n",
              "    <path d=\"M0 0h24v24H0V0z\" fill=\"none\"/>\n",
              "    <path d=\"M18.56 5.44l.94 2.06.94-2.06 2.06-.94-2.06-.94-.94-2.06-.94 2.06-2.06.94zm-11 1L8.5 8.5l.94-2.06 2.06-.94-2.06-.94L8.5 2.5l-.94 2.06-2.06.94zm10 10l.94 2.06.94-2.06 2.06-.94-2.06-.94-.94-2.06-.94 2.06-2.06.94z\"/><path d=\"M17.41 7.96l-1.37-1.37c-.4-.4-.92-.59-1.43-.59-.52 0-1.04.2-1.43.59L10.3 9.45l-7.72 7.72c-.78.78-.78 2.05 0 2.83L4 21.41c.39.39.9.59 1.41.59.51 0 1.02-.2 1.41-.59l7.78-7.78 2.81-2.81c.8-.78.8-2.07 0-2.86zM5.41 20L4 18.59l7.72-7.72 1.47 1.35L5.41 20z\"/>\n",
              "  </svg>\n",
              "      </button>\n",
              "      \n",
              "  <style>\n",
              "    .colab-df-container {\n",
              "      display:flex;\n",
              "      flex-wrap:wrap;\n",
              "      gap: 12px;\n",
              "    }\n",
              "\n",
              "    .colab-df-convert {\n",
              "      background-color: #E8F0FE;\n",
              "      border: none;\n",
              "      border-radius: 50%;\n",
              "      cursor: pointer;\n",
              "      display: none;\n",
              "      fill: #1967D2;\n",
              "      height: 32px;\n",
              "      padding: 0 0 0 0;\n",
              "      width: 32px;\n",
              "    }\n",
              "\n",
              "    .colab-df-convert:hover {\n",
              "      background-color: #E2EBFA;\n",
              "      box-shadow: 0px 1px 2px rgba(60, 64, 67, 0.3), 0px 1px 3px 1px rgba(60, 64, 67, 0.15);\n",
              "      fill: #174EA6;\n",
              "    }\n",
              "\n",
              "    [theme=dark] .colab-df-convert {\n",
              "      background-color: #3B4455;\n",
              "      fill: #D2E3FC;\n",
              "    }\n",
              "\n",
              "    [theme=dark] .colab-df-convert:hover {\n",
              "      background-color: #434B5C;\n",
              "      box-shadow: 0px 1px 3px 1px rgba(0, 0, 0, 0.15);\n",
              "      filter: drop-shadow(0px 1px 2px rgba(0, 0, 0, 0.3));\n",
              "      fill: #FFFFFF;\n",
              "    }\n",
              "  </style>\n",
              "\n",
              "      <script>\n",
              "        const buttonEl =\n",
              "          document.querySelector('#df-cd04fab7-3944-410f-9aa4-0a4a643629a9 button.colab-df-convert');\n",
              "        buttonEl.style.display =\n",
              "          google.colab.kernel.accessAllowed ? 'block' : 'none';\n",
              "\n",
              "        async function convertToInteractive(key) {\n",
              "          const element = document.querySelector('#df-cd04fab7-3944-410f-9aa4-0a4a643629a9');\n",
              "          const dataTable =\n",
              "            await google.colab.kernel.invokeFunction('convertToInteractive',\n",
              "                                                     [key], {});\n",
              "          if (!dataTable) return;\n",
              "\n",
              "          const docLinkHtml = 'Like what you see? Visit the ' +\n",
              "            '<a target=\"_blank\" href=https://colab.research.google.com/notebooks/data_table.ipynb>data table notebook</a>'\n",
              "            + ' to learn more about interactive tables.';\n",
              "          element.innerHTML = '';\n",
              "          dataTable['output_type'] = 'display_data';\n",
              "          await google.colab.output.renderOutput(dataTable, element);\n",
              "          const docLink = document.createElement('div');\n",
              "          docLink.innerHTML = docLinkHtml;\n",
              "          element.appendChild(docLink);\n",
              "        }\n",
              "      </script>\n",
              "    </div>\n",
              "  </div>\n",
              "  "
            ]
          },
          "metadata": {},
          "execution_count": 16
        }
      ]
    },
    {
      "cell_type": "code",
      "source": [
        "# rows with NA\n",
        "train_df.isna().any(axis=1).sum()"
      ],
      "metadata": {
        "colab": {
          "base_uri": "https://localhost:8080/"
        },
        "id": "7NfCn1BnvgOo",
        "outputId": "c8999d91-a7b4-48ff-f727-41fc6c47423d"
      },
      "execution_count": 17,
      "outputs": [
        {
          "output_type": "execute_result",
          "data": {
            "text/plain": [
              "46821"
            ]
          },
          "metadata": {},
          "execution_count": 17
        }
      ]
    },
    {
      "cell_type": "markdown",
      "source": [
        "We're gonna remove any names, dates, league, and coach related variables."
      ],
      "metadata": {
        "id": "RUbFyHqpLIKI"
      }
    },
    {
      "cell_type": "code",
      "source": [
        "train = train_df.drop(['home_team_name', \n",
        "                       'away_team_name', \n",
        "                       'match_date', \n",
        "                       'league_name', \n",
        "                       'league_id', \n",
        "                       'home_team_coach_id', \n",
        "                       'away_team_coach_id',\n",
        "                       'home_team_history_match_date_1',\n",
        "                       'home_team_history_match_date_2',\n",
        "                       'home_team_history_match_date_3',\n",
        "                       'home_team_history_match_date_4',\n",
        "                       'home_team_history_match_date_5',\n",
        "                       'home_team_history_match_date_6',\n",
        "                       'home_team_history_match_date_7',\n",
        "                       'home_team_history_match_date_8',\n",
        "                       'home_team_history_match_date_9',\n",
        "                       'home_team_history_match_date_10',\n",
        "                       'home_team_history_coach_1',\n",
        "                       'home_team_history_coach_2',\n",
        "                       'home_team_history_coach_3',\n",
        "                       'home_team_history_coach_4',\n",
        "                       'home_team_history_coach_5',\n",
        "                       'home_team_history_coach_6',\n",
        "                       'home_team_history_coach_7',\n",
        "                       'home_team_history_coach_8',\n",
        "                       'home_team_history_coach_9',\n",
        "                       'home_team_history_coach_10',\n",
        "                       'home_team_history_league_id_1',\n",
        "                       'home_team_history_league_id_2',\n",
        "                       'home_team_history_league_id_3',\n",
        "                       'home_team_history_league_id_4',\n",
        "                       'home_team_history_league_id_5',\n",
        "                       'home_team_history_league_id_6',\n",
        "                       'home_team_history_league_id_7',\n",
        "                       'home_team_history_league_id_8',\n",
        "                       'home_team_history_league_id_9',\n",
        "                       'away_team_history_league_id_10',\n",
        "                       'away_team_history_match_date_1',\n",
        "                       'away_team_history_match_date_2',\n",
        "                       'away_team_history_match_date_3',\n",
        "                       'away_team_history_match_date_4',\n",
        "                       'away_team_history_match_date_5',\n",
        "                       'away_team_history_match_date_6',\n",
        "                       'away_team_history_match_date_7',\n",
        "                       'away_team_history_match_date_8',\n",
        "                       'away_team_history_match_date_9',\n",
        "                       'away_team_history_match_date_10',\n",
        "                       'away_team_history_coach_1',\n",
        "                       'away_team_history_coach_2',\n",
        "                       'away_team_history_coach_3',\n",
        "                       'away_team_history_coach_4',\n",
        "                       'away_team_history_coach_5',\n",
        "                       'away_team_history_coach_6',\n",
        "                       'away_team_history_coach_7',\n",
        "                       'away_team_history_coach_8',\n",
        "                       'away_team_history_coach_9',\n",
        "                       'away_team_history_coach_10',\n",
        "                       'away_team_history_league_id_1',\n",
        "                       'away_team_history_league_id_2',\n",
        "                       'away_team_history_league_id_3',\n",
        "                       'away_team_history_league_id_4',\n",
        "                       'away_team_history_league_id_5',\n",
        "                       'away_team_history_league_id_6',\n",
        "                       'away_team_history_league_id_7',\n",
        "                       'away_team_history_league_id_8',\n",
        "                       'away_team_history_league_id_9',\n",
        "                       'away_team_history_league_id_10',], axis=1)"
      ],
      "metadata": {
        "id": "jXuZ8JkW5mVx"
      },
      "execution_count": 18,
      "outputs": []
    },
    {
      "cell_type": "code",
      "source": [
        "train.isna().any(axis=1).sum()"
      ],
      "metadata": {
        "colab": {
          "base_uri": "https://localhost:8080/"
        },
        "id": "xdSTCmSGKv6A",
        "outputId": "24a3a0e0-0617-45dc-ebef-a56e0cf7df29"
      },
      "execution_count": 87,
      "outputs": [
        {
          "output_type": "execute_result",
          "data": {
            "text/plain": [
              "20680"
            ]
          },
          "metadata": {},
          "execution_count": 87
        }
      ]
    },
    {
      "cell_type": "code",
      "source": [
        "train_final = train[['target','id', 'is_cup']]"
      ],
      "metadata": {
        "id": "B3dm2ncOx3L4"
      },
      "execution_count": 207,
      "outputs": []
    },
    {
      "cell_type": "code",
      "source": [
        "temp1 = pd.DataFrame()\n",
        "temp2 = pd.DataFrame()\n",
        "temp3 = pd.DataFrame()\n",
        "temp4 = pd.DataFrame()\n",
        "temp5 = pd.DataFrame()\n",
        "temp6 = pd.DataFrame()\n",
        "temp7 = pd.DataFrame()\n",
        "temp8 = pd.DataFrame()\n",
        "temp9 = train[['home_team_history_rating_1','home_team_history_rating_2','home_team_history_rating_3','home_team_history_rating_4','home_team_history_rating_5','home_team_history_rating_6','home_team_history_rating_7','home_team_history_rating_8','home_team_history_rating_9','home_team_history_rating_10']]\n",
        "temp10 = train[['away_team_history_rating_1','away_team_history_rating_2','away_team_history_rating_3','away_team_history_rating_4','away_team_history_rating_5','away_team_history_rating_6','away_team_history_rating_7','away_team_history_rating_8','away_team_history_rating_9','away_team_history_rating_10']]\n",
        "temp11 = train[['home_team_history_goal_1','home_team_history_goal_2','home_team_history_goal_3','home_team_history_goal_4','home_team_history_goal_5','home_team_history_goal_6','home_team_history_goal_7','home_team_history_goal_8','home_team_history_goal_9','home_team_history_goal_10']]\n",
        "temp12 = train[['away_team_history_goal_1','away_team_history_goal_2','away_team_history_goal_3','away_team_history_goal_4','away_team_history_goal_5','away_team_history_goal_6','away_team_history_goal_7','away_team_history_goal_8','away_team_history_goal_9','away_team_history_goal_10']]"
      ],
      "metadata": {
        "id": "ti6ljMOSQ_CU"
      },
      "execution_count": 208,
      "outputs": []
    },
    {
      "cell_type": "code",
      "source": [
        "for i in range(1, 11):\n",
        "  temp1['goal_diff_home_'+str(i)] = train['home_team_history_goal_'+str(i)] - train['home_team_history_opponent_goal_'+str(i)]\n",
        "  temp2['home_team_rating_diff_'+str(i)] = train['home_team_history_rating_'+str(i)] - train['home_team_history_opponent_rating_'+str(i)]\n",
        "  temp3['home_team_rating_goal_diff_'+str(i)] = temp2['home_team_rating_diff_'+str(i)] * temp1['goal_diff_home_'+str(i)]\n",
        "  temp4['goal_diff_is_home_'+str(i)] = temp1['goal_diff_home_'+str(i)] * train['home_team_history_is_play_home_'+str(i)]\n",
        "  temp5['goal_diff_away_'+str(i)] = train['away_team_history_goal_'+str(i)] - train['away_team_history_opponent_goal_'+str(i)]\n",
        "  temp6['away_team_rating_diff_'+str(i)] = train['away_team_history_rating_'+str(i)] - train['away_team_history_opponent_rating_'+str(i)]\n",
        "  temp7['away_team_rating_goal_diff_'+str(i)] = temp6['away_team_rating_diff_'+str(i)] * temp5['goal_diff_away_'+str(i)]\n",
        "  temp8['goal_diff_is_away_'+str(i)] = temp5['goal_diff_away_'+str(i)] * train['away_team_history_is_play_home_'+str(i)]"
      ],
      "metadata": {
        "id": "r7j8RjI03m8O"
      },
      "execution_count": 209,
      "outputs": []
    },
    {
      "cell_type": "code",
      "source": [
        "train_final['avg_goal_diff_home'] = temp1.mean(axis=1)\n",
        "train_final['avg_home_team_rating_diff'] = temp2.mean(axis=1)\n",
        "train_final['home_team_rating_goal_diff'] = temp3.mean(axis=1)\n",
        "train_final['goal_diff_is_home'] = temp4.mean(axis=1)\n",
        "train_final['avg_goal_diff_away'] = temp5.mean(axis=1)\n",
        "train_final['avg_away_team_rating_diff'] = temp6.mean(axis=1)\n",
        "train_final['away_team_rating_goal_diff'] = temp7.mean(axis=1)\n",
        "train_final['goal_diff_is_home_away'] = temp8.mean(axis=1) * - 1\n",
        "train_final['target_rating_diff'] = temp9.mean(axis=1) - temp10.mean(axis=1)\n",
        "train_final['goals_home_less_2'] = temp11.mean(axis=1) < 2\n",
        "train_final['goals_away_less_2'] = temp12.mean(axis=1) < 2\n",
        "train_final['goals_home_away_less_2'] = train_final['goals_home_less_2'] * train_final['goals_away_less_2']"
      ],
      "metadata": {
        "colab": {
          "base_uri": "https://localhost:8080/"
        },
        "id": "CFBb8UptRM2R",
        "outputId": "ecf40f77-93b1-41dc-e144-c2ef46f3e403"
      },
      "execution_count": 210,
      "outputs": [
        {
          "output_type": "stream",
          "name": "stderr",
          "text": [
            "/usr/local/lib/python3.7/dist-packages/ipykernel_launcher.py:1: SettingWithCopyWarning: \n",
            "A value is trying to be set on a copy of a slice from a DataFrame.\n",
            "Try using .loc[row_indexer,col_indexer] = value instead\n",
            "\n",
            "See the caveats in the documentation: https://pandas.pydata.org/pandas-docs/stable/user_guide/indexing.html#returning-a-view-versus-a-copy\n",
            "  \"\"\"Entry point for launching an IPython kernel.\n",
            "/usr/local/lib/python3.7/dist-packages/ipykernel_launcher.py:2: SettingWithCopyWarning: \n",
            "A value is trying to be set on a copy of a slice from a DataFrame.\n",
            "Try using .loc[row_indexer,col_indexer] = value instead\n",
            "\n",
            "See the caveats in the documentation: https://pandas.pydata.org/pandas-docs/stable/user_guide/indexing.html#returning-a-view-versus-a-copy\n",
            "  \n",
            "/usr/local/lib/python3.7/dist-packages/ipykernel_launcher.py:3: SettingWithCopyWarning: \n",
            "A value is trying to be set on a copy of a slice from a DataFrame.\n",
            "Try using .loc[row_indexer,col_indexer] = value instead\n",
            "\n",
            "See the caveats in the documentation: https://pandas.pydata.org/pandas-docs/stable/user_guide/indexing.html#returning-a-view-versus-a-copy\n",
            "  This is separate from the ipykernel package so we can avoid doing imports until\n",
            "/usr/local/lib/python3.7/dist-packages/ipykernel_launcher.py:4: SettingWithCopyWarning: \n",
            "A value is trying to be set on a copy of a slice from a DataFrame.\n",
            "Try using .loc[row_indexer,col_indexer] = value instead\n",
            "\n",
            "See the caveats in the documentation: https://pandas.pydata.org/pandas-docs/stable/user_guide/indexing.html#returning-a-view-versus-a-copy\n",
            "  after removing the cwd from sys.path.\n",
            "/usr/local/lib/python3.7/dist-packages/ipykernel_launcher.py:5: SettingWithCopyWarning: \n",
            "A value is trying to be set on a copy of a slice from a DataFrame.\n",
            "Try using .loc[row_indexer,col_indexer] = value instead\n",
            "\n",
            "See the caveats in the documentation: https://pandas.pydata.org/pandas-docs/stable/user_guide/indexing.html#returning-a-view-versus-a-copy\n",
            "  \"\"\"\n",
            "/usr/local/lib/python3.7/dist-packages/ipykernel_launcher.py:6: SettingWithCopyWarning: \n",
            "A value is trying to be set on a copy of a slice from a DataFrame.\n",
            "Try using .loc[row_indexer,col_indexer] = value instead\n",
            "\n",
            "See the caveats in the documentation: https://pandas.pydata.org/pandas-docs/stable/user_guide/indexing.html#returning-a-view-versus-a-copy\n",
            "  \n",
            "/usr/local/lib/python3.7/dist-packages/ipykernel_launcher.py:7: SettingWithCopyWarning: \n",
            "A value is trying to be set on a copy of a slice from a DataFrame.\n",
            "Try using .loc[row_indexer,col_indexer] = value instead\n",
            "\n",
            "See the caveats in the documentation: https://pandas.pydata.org/pandas-docs/stable/user_guide/indexing.html#returning-a-view-versus-a-copy\n",
            "  import sys\n",
            "/usr/local/lib/python3.7/dist-packages/ipykernel_launcher.py:8: SettingWithCopyWarning: \n",
            "A value is trying to be set on a copy of a slice from a DataFrame.\n",
            "Try using .loc[row_indexer,col_indexer] = value instead\n",
            "\n",
            "See the caveats in the documentation: https://pandas.pydata.org/pandas-docs/stable/user_guide/indexing.html#returning-a-view-versus-a-copy\n",
            "  \n",
            "/usr/local/lib/python3.7/dist-packages/ipykernel_launcher.py:9: SettingWithCopyWarning: \n",
            "A value is trying to be set on a copy of a slice from a DataFrame.\n",
            "Try using .loc[row_indexer,col_indexer] = value instead\n",
            "\n",
            "See the caveats in the documentation: https://pandas.pydata.org/pandas-docs/stable/user_guide/indexing.html#returning-a-view-versus-a-copy\n",
            "  if __name__ == '__main__':\n",
            "/usr/local/lib/python3.7/dist-packages/ipykernel_launcher.py:10: SettingWithCopyWarning: \n",
            "A value is trying to be set on a copy of a slice from a DataFrame.\n",
            "Try using .loc[row_indexer,col_indexer] = value instead\n",
            "\n",
            "See the caveats in the documentation: https://pandas.pydata.org/pandas-docs/stable/user_guide/indexing.html#returning-a-view-versus-a-copy\n",
            "  # Remove the CWD from sys.path while we load stuff.\n",
            "/usr/local/lib/python3.7/dist-packages/ipykernel_launcher.py:11: SettingWithCopyWarning: \n",
            "A value is trying to be set on a copy of a slice from a DataFrame.\n",
            "Try using .loc[row_indexer,col_indexer] = value instead\n",
            "\n",
            "See the caveats in the documentation: https://pandas.pydata.org/pandas-docs/stable/user_guide/indexing.html#returning-a-view-versus-a-copy\n",
            "  # This is added back by InteractiveShellApp.init_path()\n",
            "/usr/local/lib/python3.7/dist-packages/ipykernel_launcher.py:12: SettingWithCopyWarning: \n",
            "A value is trying to be set on a copy of a slice from a DataFrame.\n",
            "Try using .loc[row_indexer,col_indexer] = value instead\n",
            "\n",
            "See the caveats in the documentation: https://pandas.pydata.org/pandas-docs/stable/user_guide/indexing.html#returning-a-view-versus-a-copy\n",
            "  if sys.path[0] == '':\n"
          ]
        }
      ]
    },
    {
      "cell_type": "code",
      "source": [
        "train_final[(train_final['is_cup'] == True)]['target'].value_counts(normalize=True, sort=True).plot.bar(rot=0, color=['g','r','c'])"
      ],
      "metadata": {
        "colab": {
          "base_uri": "https://localhost:8080/",
          "height": 282
        },
        "id": "qggvrOdQDRwe",
        "outputId": "1b741a02-9dd1-4b17-c2cc-96f4b2d76c4b"
      },
      "execution_count": 211,
      "outputs": [
        {
          "output_type": "execute_result",
          "data": {
            "text/plain": [
              "<matplotlib.axes._subplots.AxesSubplot at 0x7f9bb60ccf90>"
            ]
          },
          "metadata": {},
          "execution_count": 211
        },
        {
          "output_type": "display_data",
          "data": {
            "text/plain": [
              "<Figure size 432x288 with 1 Axes>"
            ],
            "image/png": "[encoded data removed]"
          },
          "metadata": {
            "needs_background": "light"
          }
        }
      ]
    },
    {
      "cell_type": "code",
      "source": [
        "train_final.isna().any(axis=1).sum()"
      ],
      "metadata": {
        "colab": {
          "base_uri": "https://localhost:8080/"
        },
        "id": "DMXC9b4qplbN",
        "outputId": "8b20be68-2ce6-4600-a455-c8437fd64432"
      },
      "execution_count": 212,
      "outputs": [
        {
          "output_type": "execute_result",
          "data": {
            "text/plain": [
              "1986"
            ]
          },
          "metadata": {},
          "execution_count": 212
        }
      ]
    },
    {
      "cell_type": "code",
      "source": [
        "train_final[(train_final['target'] != 'draw')]['goals_home_away_less_2'].value_counts(normalize=True, sort=True)"
      ],
      "metadata": {
        "colab": {
          "base_uri": "https://localhost:8080/"
        },
        "id": "TQr26IO-FOQJ",
        "outputId": "380c6333-76fe-4713-8714-5d69e49d53db"
      },
      "execution_count": 213,
      "outputs": [
        {
          "output_type": "execute_result",
          "data": {
            "text/plain": [
              "True     0.698789\n",
              "False    0.301211\n",
              "Name: goals_home_away_less_2, dtype: float64"
            ]
          },
          "metadata": {},
          "execution_count": 213
        }
      ]
    },
    {
      "cell_type": "code",
      "source": [
        "train_final[(train_final['target'] == 'draw')]['goals_home_away_less_2'].value_counts(normalize=True, sort=True)"
      ],
      "metadata": {
        "colab": {
          "base_uri": "https://localhost:8080/"
        },
        "id": "F1PS8HksH6BA",
        "outputId": "657f99be-13e9-40c0-85b9-54593b950372"
      },
      "execution_count": 214,
      "outputs": [
        {
          "output_type": "execute_result",
          "data": {
            "text/plain": [
              "True     0.758743\n",
              "False    0.241257\n",
              "Name: goals_home_away_less_2, dtype: float64"
            ]
          },
          "metadata": {},
          "execution_count": 214
        }
      ]
    },
    {
      "cell_type": "code",
      "source": [
        "train_final.isna().sum()"
      ],
      "metadata": {
        "colab": {
          "base_uri": "https://localhost:8080/"
        },
        "id": "RfurPLnsGemv",
        "outputId": "9cc5b77a-7e29-432a-c349-6da7b6676428"
      },
      "execution_count": 215,
      "outputs": [
        {
          "output_type": "execute_result",
          "data": {
            "text/plain": [
              "target                           0\n",
              "id                               0\n",
              "is_cup                           1\n",
              "avg_goal_diff_home            1159\n",
              "avg_home_team_rating_diff     1159\n",
              "home_team_rating_goal_diff    1159\n",
              "goal_diff_is_home             1159\n",
              "avg_goal_diff_away            1226\n",
              "avg_away_team_rating_diff     1226\n",
              "away_team_rating_goal_diff    1226\n",
              "goal_diff_is_home_away        1226\n",
              "target_rating_diff            1985\n",
              "goals_home_less_2                0\n",
              "goals_away_less_2                0\n",
              "goals_home_away_less_2           0\n",
              "dtype: int64"
            ]
          },
          "metadata": {},
          "execution_count": 215
        }
      ]
    },
    {
      "cell_type": "code",
      "source": [
        "train_final['target'].value_counts(normalize=True, sort=True)"
      ],
      "metadata": {
        "colab": {
          "base_uri": "https://localhost:8080/"
        },
        "id": "wLP_1mqP_QyN",
        "outputId": "5545f74f-5cc5-49ea-8f67-73d27e549c59"
      },
      "execution_count": 216,
      "outputs": [
        {
          "output_type": "execute_result",
          "data": {
            "text/plain": [
              "home    0.433693\n",
              "away    0.317060\n",
              "draw    0.249247\n",
              "Name: target, dtype: float64"
            ]
          },
          "metadata": {},
          "execution_count": 216
        }
      ]
    },
    {
      "cell_type": "code",
      "source": [
        "train_final['target'].value_counts(normalize=True, sort=True).plot.bar(rot=0, color=['g','r','c'])"
      ],
      "metadata": {
        "colab": {
          "base_uri": "https://localhost:8080/",
          "height": 282
        },
        "id": "Hx9fdBLh_F4k",
        "outputId": "43db477f-89f4-43d0-a458-a9f6aeaa0224"
      },
      "execution_count": 217,
      "outputs": [
        {
          "output_type": "execute_result",
          "data": {
            "text/plain": [
              "<matplotlib.axes._subplots.AxesSubplot at 0x7f9bb2fa6110>"
            ]
          },
          "metadata": {},
          "execution_count": 217
        },
        {
          "output_type": "display_data",
          "data": {
            "text/plain": [
              "<Figure size 432x288 with 1 Axes>"
            ],
            "image/png": "[encoded data removed]"
          },
          "metadata": {
            "needs_background": "light"
          }
        }
      ]
    },
    {
      "cell_type": "code",
      "source": [
        "X = train_final.dropna(axis=0)\n",
        "X.isna().sum()"
      ],
      "metadata": {
        "colab": {
          "base_uri": "https://localhost:8080/"
        },
        "id": "PQ7VZfRxWXnh",
        "outputId": "5d09c700-4d9c-403e-84d9-3f173e38df9b"
      },
      "execution_count": 218,
      "outputs": [
        {
          "output_type": "execute_result",
          "data": {
            "text/plain": [
              "target                        0\n",
              "id                            0\n",
              "is_cup                        0\n",
              "avg_goal_diff_home            0\n",
              "avg_home_team_rating_diff     0\n",
              "home_team_rating_goal_diff    0\n",
              "goal_diff_is_home             0\n",
              "avg_goal_diff_away            0\n",
              "avg_away_team_rating_diff     0\n",
              "away_team_rating_goal_diff    0\n",
              "goal_diff_is_home_away        0\n",
              "target_rating_diff            0\n",
              "goals_home_less_2             0\n",
              "goals_away_less_2             0\n",
              "goals_home_away_less_2        0\n",
              "dtype: int64"
            ]
          },
          "metadata": {},
          "execution_count": 218
        }
      ]
    },
    {
      "cell_type": "code",
      "source": [
        "y = X['target']"
      ],
      "metadata": {
        "id": "VHaYUSpBTHs9"
      },
      "execution_count": 219,
      "outputs": []
    },
    {
      "cell_type": "code",
      "source": [
        "y[0:10]"
      ],
      "metadata": {
        "colab": {
          "base_uri": "https://localhost:8080/"
        },
        "id": "32nqrk_MX5Rg",
        "outputId": "acd38831-c0f9-4767-9844-39ea72a74463"
      },
      "execution_count": 220,
      "outputs": [
        {
          "output_type": "execute_result",
          "data": {
            "text/plain": [
              "0    away\n",
              "1    home\n",
              "2    draw\n",
              "3    away\n",
              "4    home\n",
              "5    draw\n",
              "6    home\n",
              "7    away\n",
              "8    home\n",
              "9    home\n",
              "Name: target, dtype: object"
            ]
          },
          "metadata": {},
          "execution_count": 220
        }
      ]
    },
    {
      "cell_type": "code",
      "source": [
        "X.drop(['target', 'id'], axis=1, inplace=True)\n",
        "X.info()"
      ],
      "metadata": {
        "colab": {
          "base_uri": "https://localhost:8080/"
        },
        "id": "LE3NoiCNXl04",
        "outputId": "e44281fa-0086-4587-a700-7b2049d92ca3"
      },
      "execution_count": 221,
      "outputs": [
        {
          "output_type": "stream",
          "name": "stdout",
          "text": [
            "<class 'pandas.core.frame.DataFrame'>\n",
            "Int64Index: 108952 entries, 0 to 110937\n",
            "Data columns (total 13 columns):\n",
            " #   Column                      Non-Null Count   Dtype  \n",
            "---  ------                      --------------   -----  \n",
            " 0   is_cup                      108952 non-null  object \n",
            " 1   avg_goal_diff_home          108952 non-null  float64\n",
            " 2   avg_home_team_rating_diff   108952 non-null  float64\n",
            " 3   home_team_rating_goal_diff  108952 non-null  float64\n",
            " 4   goal_diff_is_home           108952 non-null  float64\n",
            " 5   avg_goal_diff_away          108952 non-null  float64\n",
            " 6   avg_away_team_rating_diff   108952 non-null  float64\n",
            " 7   away_team_rating_goal_diff  108952 non-null  float64\n",
            " 8   goal_diff_is_home_away      108952 non-null  float64\n",
            " 9   target_rating_diff          108952 non-null  float64\n",
            " 10  goals_home_less_2           108952 non-null  bool   \n",
            " 11  goals_away_less_2           108952 non-null  bool   \n",
            " 12  goals_home_away_less_2      108952 non-null  bool   \n",
            "dtypes: bool(3), float64(9), object(1)\n",
            "memory usage: 9.5+ MB\n"
          ]
        },
        {
          "output_type": "stream",
          "name": "stderr",
          "text": [
            "/usr/local/lib/python3.7/dist-packages/pandas/core/frame.py:4913: SettingWithCopyWarning: \n",
            "A value is trying to be set on a copy of a slice from a DataFrame\n",
            "\n",
            "See the caveats in the documentation: https://pandas.pydata.org/pandas-docs/stable/user_guide/indexing.html#returning-a-view-versus-a-copy\n",
            "  errors=errors,\n"
          ]
        }
      ]
    },
    {
      "cell_type": "code",
      "source": [
        "X2 = X[['target_rating_diff', 'goals_home_away_less_2']]"
      ],
      "metadata": {
        "id": "Me_4xgYGJAeF"
      },
      "execution_count": 233,
      "outputs": []
    },
    {
      "cell_type": "markdown",
      "source": [
        "# Modeling"
      ],
      "metadata": {
        "id": "9DcruLdQLzeO"
      }
    },
    {
      "cell_type": "code",
      "source": [
        "from sklearn.model_selection import train_test_split"
      ],
      "metadata": {
        "id": "2-7qUzm8ZDWU"
      },
      "execution_count": 198,
      "outputs": []
    },
    {
      "cell_type": "code",
      "source": [
        "X_train, X_valid, y_train, y_valid = train_test_split(X, y, test_size=0.2, random_state=1234)"
      ],
      "metadata": {
        "id": "vD8ztU19Kkqm"
      },
      "execution_count": 243,
      "outputs": []
    },
    {
      "cell_type": "code",
      "source": [
        "X2_train, X2_valid, y2_train, y2_valid = train_test_split(X2, y, test_size=0.2, random_state=1234)"
      ],
      "metadata": {
        "id": "kCmZYCnpJWDx"
      },
      "execution_count": 244,
      "outputs": []
    },
    {
      "cell_type": "code",
      "source": [
        "from sklearn.linear_model import LogisticRegression\n",
        "log_model = LogisticRegression(multi_class='multinomial', solver='lbfgs')\n",
        "log_model.fit(X_train, y_train)"
      ],
      "metadata": {
        "colab": {
          "base_uri": "https://localhost:8080/"
        },
        "id": "l1nW0zvHKsJt",
        "outputId": "64bd4138-16df-4204-e3de-aafff7dae5cd"
      },
      "execution_count": 245,
      "outputs": [
        {
          "output_type": "stream",
          "name": "stderr",
          "text": [
            "/usr/local/lib/python3.7/dist-packages/sklearn/linear_model/_logistic.py:818: ConvergenceWarning: lbfgs failed to converge (status=1):\n",
            "STOP: TOTAL NO. of ITERATIONS REACHED LIMIT.\n",
            "\n",
            "Increase the number of iterations (max_iter) or scale the data as shown in:\n",
            "    https://scikit-learn.org/stable/modules/preprocessing.html\n",
            "Please also refer to the documentation for alternative solver options:\n",
            "    https://scikit-learn.org/stable/modules/linear_model.html#logistic-regression\n",
            "  extra_warning_msg=_LOGISTIC_SOLVER_CONVERGENCE_MSG,\n"
          ]
        },
        {
          "output_type": "execute_result",
          "data": {
            "text/plain": [
              "LogisticRegression(multi_class='multinomial')"
            ]
          },
          "metadata": {},
          "execution_count": 245
        }
      ]
    },
    {
      "cell_type": "code",
      "source": [
        "from sklearn.linear_model import LogisticRegression\n",
        "log_model2 = LogisticRegression(multi_class='multinomial', solver='lbfgs')\n",
        "log_model2.fit(X2_train, y2_train)"
      ],
      "metadata": {
        "colab": {
          "base_uri": "https://localhost:8080/"
        },
        "id": "FvEZ6q70oLkd",
        "outputId": "957f338f-cd96-4611-c2bb-30c17cdb09c4"
      },
      "execution_count": 253,
      "outputs": [
        {
          "output_type": "execute_result",
          "data": {
            "text/plain": [
              "LogisticRegression(multi_class='multinomial')"
            ]
          },
          "metadata": {},
          "execution_count": 253
        }
      ]
    },
    {
      "cell_type": "markdown",
      "source": [
        "## Predicitons and Accuracy"
      ],
      "metadata": {
        "id": "TJQAgkVwL9Tt"
      }
    },
    {
      "cell_type": "code",
      "source": [
        "preds = log_model.predict(X_train)\n",
        "np.unique(preds, return_counts=True)"
      ],
      "metadata": {
        "colab": {
          "base_uri": "https://localhost:8080/"
        },
        "id": "C8ZSh83foasY",
        "outputId": "a5c8f6c3-9d0d-4f75-bedd-a4cb3cd08a57"
      },
      "execution_count": 247,
      "outputs": [
        {
          "output_type": "execute_result",
          "data": {
            "text/plain": [
              "(array(['away', 'draw', 'home'], dtype=object), array([26047,     3, 61111]))"
            ]
          },
          "metadata": {},
          "execution_count": 247
        }
      ]
    },
    {
      "cell_type": "code",
      "source": [
        "np.sum(preds == y_train)/len(preds)"
      ],
      "metadata": {
        "colab": {
          "base_uri": "https://localhost:8080/"
        },
        "id": "_B_9Kr09okka",
        "outputId": "97033167-6f4f-4c1c-8a25-1b9d20378d56"
      },
      "execution_count": 248,
      "outputs": [
        {
          "output_type": "execute_result",
          "data": {
            "text/plain": [
              "0.4925367997154691"
            ]
          },
          "metadata": {},
          "execution_count": 248
        }
      ]
    },
    {
      "cell_type": "code",
      "source": [
        "log_model.predict_proba(X_train)"
      ],
      "metadata": {
        "colab": {
          "base_uri": "https://localhost:8080/"
        },
        "id": "MCol8xRDo17W",
        "outputId": "af4c36aa-e160-4dbf-c735-134541ae7c0a"
      },
      "execution_count": 249,
      "outputs": [
        {
          "output_type": "execute_result",
          "data": {
            "text/plain": [
              "array([[0.30483218, 0.29895128, 0.39621654],\n",
              "       [0.38747165, 0.29815158, 0.31437677],\n",
              "       [0.454473  , 0.26601065, 0.27951634],\n",
              "       ...,\n",
              "       [0.46483194, 0.25954013, 0.27562792],\n",
              "       [0.26968212, 0.27657504, 0.45374285],\n",
              "       [0.31190283, 0.2819271 , 0.40617007]])"
            ]
          },
          "metadata": {},
          "execution_count": 249
        }
      ]
    },
    {
      "cell_type": "markdown",
      "source": [
        "Predict on validation set."
      ],
      "metadata": {
        "id": "0A2PHucdIVjN"
      }
    },
    {
      "cell_type": "code",
      "source": [
        "preds2 = log_model.predict(X_valid)\n",
        "np.sum(preds2 == y_valid)/len(preds2)"
      ],
      "metadata": {
        "colab": {
          "base_uri": "https://localhost:8080/"
        },
        "id": "XN3X1CLI7vuN",
        "outputId": "bafb9046-56a2-499e-b27f-943d12e388e6"
      },
      "execution_count": 250,
      "outputs": [
        {
          "output_type": "execute_result",
          "data": {
            "text/plain": [
              "0.49410307007480153"
            ]
          },
          "metadata": {},
          "execution_count": 250
        }
      ]
    },
    {
      "cell_type": "code",
      "source": [
        "preds3 = log_model2.predict(X2_valid)\n",
        "np.sum(preds3 == y2_valid)/len(preds3)"
      ],
      "metadata": {
        "colab": {
          "base_uri": "https://localhost:8080/"
        },
        "id": "TDhiaZ4JK-Wb",
        "outputId": "43af5263-14a2-462e-dc8c-c91305be7fd3"
      },
      "execution_count": 257,
      "outputs": [
        {
          "output_type": "execute_result",
          "data": {
            "text/plain": [
              "0.48643935569730623"
            ]
          },
          "metadata": {},
          "execution_count": 257
        }
      ]
    },
    {
      "cell_type": "markdown",
      "source": [
        "Simpler model provides a slightly less accurate score on validation set by about 1%."
      ],
      "metadata": {
        "id": "BQSOt-BXLoQ7"
      }
    },
    {
      "cell_type": "markdown",
      "source": [
        "Compared to just predicting the home team every time:"
      ],
      "metadata": {
        "id": "zoY_ucmwIT8-"
      }
    },
    {
      "cell_type": "code",
      "source": [
        "pred_basic = ['home']*len(y_valid)\n",
        "np.sum(pred_basic == y_valid)/len(pred_basic)"
      ],
      "metadata": {
        "colab": {
          "base_uri": "https://localhost:8080/"
        },
        "id": "yhhIe9-Z8cC0",
        "outputId": "fb972765-d2c4-44a9-b150-a4361ea78f86"
      },
      "execution_count": 251,
      "outputs": [
        {
          "output_type": "execute_result",
          "data": {
            "text/plain": [
              "0.43614336193841496"
            ]
          },
          "metadata": {},
          "execution_count": 251
        }
      ]
    }
  ]
}