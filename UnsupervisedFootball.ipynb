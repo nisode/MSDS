{
  "nbformat": 4,
  "nbformat_minor": 0,
  "metadata": {
    "colab": {
      "name": "UnsupervisedFootball.ipynb",
      "provenance": [],
      "toc_visible": true,
      "authorship_tag": "ABX9TyMmB6qe8TC1gD0QPm/PhHJ7",
      "include_colab_link": true
    },
    "kernelspec": {
      "name": "python3",
      "display_name": "Python 3"
    },
    "language_info": {
      "name": "python"
    }
  },
  "cells": [
    {
      "cell_type": "markdown",
      "metadata": {
        "id": "view-in-github",
        "colab_type": "text"
      },
      "source": [
        "<a href=\"https://colab.research.google.com/github/nisode/MSDS/blob/main/UnsupervisedFootball.ipynb\" target=\"_parent\"><img src=\"https://colab.research.google.com/assets/colab-badge.svg\" alt=\"Open In Colab\"/></a>"
      ]
    },
    {
      "cell_type": "markdown",
      "source": [
        "https://www.kaggle.com/competitions/football-match-probability-prediction/overview"
      ],
      "metadata": {
        "id": "0FmQLrNDcf6E"
      }
    },
    {
      "cell_type": "markdown",
      "source": [
        "# Data Loading and EDA"
      ],
      "metadata": {
        "id": "5DSevgRvf17B"
      }
    },
    {
      "cell_type": "code",
      "source": [
        "import numpy as np \n",
        "import pandas as pd "
      ],
      "metadata": {
        "id": "wzl-XxUUzEeI"
      },
      "execution_count": 28,
      "outputs": []
    },
    {
      "cell_type": "code",
      "source": [
        "!gdown --id 1Qzp2SE6rV9JjnI7pgmHyHc7OBXC3iWPP\n",
        "!gdown --id 1hbcEXwrN80fhpdLZpyD3I5oVFq_fdY5L\n",
        "\n",
        "print('Data Loaded!')"
      ],
      "metadata": {
        "colab": {
          "base_uri": "https://localhost:8080/"
        },
        "id": "6CEWAmqr0Zne",
        "outputId": "91193e7f-8b8f-4909-c100-31ae6b8376b7"
      },
      "execution_count": 29,
      "outputs": [
        {
          "output_type": "stream",
          "name": "stdout",
          "text": [
            "/usr/local/lib/python3.7/dist-packages/gdown/cli.py:131: FutureWarning: Option `--id` was deprecated in version 4.3.1 and will be removed in 5.0. You don't need to pass it anymore to use a file ID.\n",
            "  category=FutureWarning,\n",
            "Downloading...\n",
            "From: https://drive.google.com/uc?id=1Qzp2SE6rV9JjnI7pgmHyHc7OBXC3iWPP\n",
            "To: /content/train_target_and_scores.csv\n",
            "100% 2.00M/2.00M [00:00<00:00, 41.1MB/s]\n",
            "/usr/local/lib/python3.7/dist-packages/gdown/cli.py:131: FutureWarning: Option `--id` was deprecated in version 4.3.1 and will be removed in 5.0. You don't need to pass it anymore to use a file ID.\n",
            "  category=FutureWarning,\n",
            "Downloading...\n",
            "From: https://drive.google.com/uc?id=1hbcEXwrN80fhpdLZpyD3I5oVFq_fdY5L\n",
            "To: /content/train.csv\n",
            "100% 180M/180M [00:04<00:00, 42.9MB/s]\n",
            "Data Loaded!\n"
          ]
        }
      ]
    },
    {
      "cell_type": "code",
      "source": [
        "train_df = pd.read_csv('train.csv')\n",
        "targets_df = pd.read_csv('train_target_and_scores.csv')"
      ],
      "metadata": {
        "colab": {
          "base_uri": "https://localhost:8080/"
        },
        "id": "0Ou5uAOI1ifJ",
        "outputId": "af06c63e-06bc-4684-8a16-3894d405c832"
      },
      "execution_count": 95,
      "outputs": [
        {
          "output_type": "stream",
          "name": "stderr",
          "text": [
            "/usr/local/lib/python3.7/dist-packages/IPython/core/interactiveshell.py:2882: DtypeWarning: Columns (7) have mixed types.Specify dtype option on import or set low_memory=False.\n",
            "  exec(code_obj, self.user_global_ns, self.user_ns)\n"
          ]
        }
      ]
    },
    {
      "cell_type": "code",
      "source": [
        "train_df.head()"
      ],
      "metadata": {
        "colab": {
          "base_uri": "https://localhost:8080/",
          "height": 386
        },
        "id": "KynGC3NZ1zF-",
        "outputId": "2cec2e83-475e-4996-db29-549af99c6368"
      },
      "execution_count": 96,
      "outputs": [
        {
          "output_type": "execute_result",
          "data": {
            "text/plain": [
              "         id target     home_team_name         away_team_name  \\\n",
              "0  11906497   away  Newell's Old Boys            River Plate   \n",
              "1  11984383   home        Real Estelí  Deportivo Las Sabanas   \n",
              "2  11983301   draw              UPNFM               Marathón   \n",
              "3  11983471   away               León                Morelia   \n",
              "4  11883005   home     Cobán Imperial                 Iztapa   \n",
              "\n",
              "            match_date       league_name  league_id is_cup  \\\n",
              "0  2019-12-01 00:45:00         Superliga        636  False   \n",
              "1  2019-12-01 01:00:00  Primera Division        752  False   \n",
              "2  2019-12-01 01:00:00     Liga Nacional        734  False   \n",
              "3  2019-12-01 01:00:00           Liga MX        743  False   \n",
              "4  2019-12-01 01:00:00     Liga Nacional        705  False   \n",
              "\n",
              "   home_team_coach_id  away_team_coach_id  ... away_team_history_league_id_1  \\\n",
              "0            468196.0            468200.0  ...                        1122.0   \n",
              "1            516788.0          22169161.0  ...                         752.0   \n",
              "2           2510608.0            456313.0  ...                         734.0   \n",
              "3           1552508.0            465797.0  ...                         743.0   \n",
              "4            429958.0            426870.0  ...                         705.0   \n",
              "\n",
              "  away_team_history_league_id_2 away_team_history_league_id_3  \\\n",
              "0                         642.0                         636.0   \n",
              "1                         752.0                         752.0   \n",
              "2                         734.0                         734.0   \n",
              "3                         743.0                         743.0   \n",
              "4                         705.0                         705.0   \n",
              "\n",
              "  away_team_history_league_id_4 away_team_history_league_id_5  \\\n",
              "0                         636.0                         636.0   \n",
              "1                         752.0                         752.0   \n",
              "2                         734.0                         734.0   \n",
              "3                         743.0                         743.0   \n",
              "4                         705.0                         705.0   \n",
              "\n",
              "  away_team_history_league_id_6 away_team_history_league_id_7  \\\n",
              "0                        1122.0                         636.0   \n",
              "1                         752.0                         752.0   \n",
              "2                         734.0                         734.0   \n",
              "3                         743.0                         743.0   \n",
              "4                         705.0                         705.0   \n",
              "\n",
              "  away_team_history_league_id_8 away_team_history_league_id_9  \\\n",
              "0                         642.0                         636.0   \n",
              "1                         752.0                         752.0   \n",
              "2                         734.0                         734.0   \n",
              "3                         743.0                         746.0   \n",
              "4                         705.0                         705.0   \n",
              "\n",
              "  away_team_history_league_id_10  \n",
              "0                         1122.0  \n",
              "1                          752.0  \n",
              "2                          734.0  \n",
              "3                          743.0  \n",
              "4                          705.0  \n",
              "\n",
              "[5 rows x 190 columns]"
            ],
            "text/html": [
              "\n",
              "  <div id=\"df-05cebb7f-59cf-40db-907d-a732631cb13b\">\n",
              "    <div class=\"colab-df-container\">\n",
              "      <div>\n",
              "<style scoped>\n",
              "    .dataframe tbody tr th:only-of-type {\n",
              "        vertical-align: middle;\n",
              "    }\n",
              "\n",
              "    .dataframe tbody tr th {\n",
              "        vertical-align: top;\n",
              "    }\n",
              "\n",
              "    .dataframe thead th {\n",
              "        text-align: right;\n",
              "    }\n",
              "</style>\n",
              "<table border=\"1\" class=\"dataframe\">\n",
              "  <thead>\n",
              "    <tr style=\"text-align: right;\">\n",
              "      <th></th>\n",
              "      <th>id</th>\n",
              "      <th>target</th>\n",
              "      <th>home_team_name</th>\n",
              "      <th>away_team_name</th>\n",
              "      <th>match_date</th>\n",
              "      <th>league_name</th>\n",
              "      <th>league_id</th>\n",
              "      <th>is_cup</th>\n",
              "      <th>home_team_coach_id</th>\n",
              "      <th>away_team_coach_id</th>\n",
              "      <th>...</th>\n",
              "      <th>away_team_history_league_id_1</th>\n",
              "      <th>away_team_history_league_id_2</th>\n",
              "      <th>away_team_history_league_id_3</th>\n",
              "      <th>away_team_history_league_id_4</th>\n",
              "      <th>away_team_history_league_id_5</th>\n",
              "      <th>away_team_history_league_id_6</th>\n",
              "      <th>away_team_history_league_id_7</th>\n",
              "      <th>away_team_history_league_id_8</th>\n",
              "      <th>away_team_history_league_id_9</th>\n",
              "      <th>away_team_history_league_id_10</th>\n",
              "    </tr>\n",
              "  </thead>\n",
              "  <tbody>\n",
              "    <tr>\n",
              "      <th>0</th>\n",
              "      <td>11906497</td>\n",
              "      <td>away</td>\n",
              "      <td>Newell's Old Boys</td>\n",
              "      <td>River Plate</td>\n",
              "      <td>2019-12-01 00:45:00</td>\n",
              "      <td>Superliga</td>\n",
              "      <td>636</td>\n",
              "      <td>False</td>\n",
              "      <td>468196.0</td>\n",
              "      <td>468200.0</td>\n",
              "      <td>...</td>\n",
              "      <td>1122.0</td>\n",
              "      <td>642.0</td>\n",
              "      <td>636.0</td>\n",
              "      <td>636.0</td>\n",
              "      <td>636.0</td>\n",
              "      <td>1122.0</td>\n",
              "      <td>636.0</td>\n",
              "      <td>642.0</td>\n",
              "      <td>636.0</td>\n",
              "      <td>1122.0</td>\n",
              "    </tr>\n",
              "    <tr>\n",
              "      <th>1</th>\n",
              "      <td>11984383</td>\n",
              "      <td>home</td>\n",
              "      <td>Real Estelí</td>\n",
              "      <td>Deportivo Las Sabanas</td>\n",
              "      <td>2019-12-01 01:00:00</td>\n",
              "      <td>Primera Division</td>\n",
              "      <td>752</td>\n",
              "      <td>False</td>\n",
              "      <td>516788.0</td>\n",
              "      <td>22169161.0</td>\n",
              "      <td>...</td>\n",
              "      <td>752.0</td>\n",
              "      <td>752.0</td>\n",
              "      <td>752.0</td>\n",
              "      <td>752.0</td>\n",
              "      <td>752.0</td>\n",
              "      <td>752.0</td>\n",
              "      <td>752.0</td>\n",
              "      <td>752.0</td>\n",
              "      <td>752.0</td>\n",
              "      <td>752.0</td>\n",
              "    </tr>\n",
              "    <tr>\n",
              "      <th>2</th>\n",
              "      <td>11983301</td>\n",
              "      <td>draw</td>\n",
              "      <td>UPNFM</td>\n",
              "      <td>Marathón</td>\n",
              "      <td>2019-12-01 01:00:00</td>\n",
              "      <td>Liga Nacional</td>\n",
              "      <td>734</td>\n",
              "      <td>False</td>\n",
              "      <td>2510608.0</td>\n",
              "      <td>456313.0</td>\n",
              "      <td>...</td>\n",
              "      <td>734.0</td>\n",
              "      <td>734.0</td>\n",
              "      <td>734.0</td>\n",
              "      <td>734.0</td>\n",
              "      <td>734.0</td>\n",
              "      <td>734.0</td>\n",
              "      <td>734.0</td>\n",
              "      <td>734.0</td>\n",
              "      <td>734.0</td>\n",
              "      <td>734.0</td>\n",
              "    </tr>\n",
              "    <tr>\n",
              "      <th>3</th>\n",
              "      <td>11983471</td>\n",
              "      <td>away</td>\n",
              "      <td>León</td>\n",
              "      <td>Morelia</td>\n",
              "      <td>2019-12-01 01:00:00</td>\n",
              "      <td>Liga MX</td>\n",
              "      <td>743</td>\n",
              "      <td>False</td>\n",
              "      <td>1552508.0</td>\n",
              "      <td>465797.0</td>\n",
              "      <td>...</td>\n",
              "      <td>743.0</td>\n",
              "      <td>743.0</td>\n",
              "      <td>743.0</td>\n",
              "      <td>743.0</td>\n",
              "      <td>743.0</td>\n",
              "      <td>743.0</td>\n",
              "      <td>743.0</td>\n",
              "      <td>743.0</td>\n",
              "      <td>746.0</td>\n",
              "      <td>743.0</td>\n",
              "    </tr>\n",
              "    <tr>\n",
              "      <th>4</th>\n",
              "      <td>11883005</td>\n",
              "      <td>home</td>\n",
              "      <td>Cobán Imperial</td>\n",
              "      <td>Iztapa</td>\n",
              "      <td>2019-12-01 01:00:00</td>\n",
              "      <td>Liga Nacional</td>\n",
              "      <td>705</td>\n",
              "      <td>False</td>\n",
              "      <td>429958.0</td>\n",
              "      <td>426870.0</td>\n",
              "      <td>...</td>\n",
              "      <td>705.0</td>\n",
              "      <td>705.0</td>\n",
              "      <td>705.0</td>\n",
              "      <td>705.0</td>\n",
              "      <td>705.0</td>\n",
              "      <td>705.0</td>\n",
              "      <td>705.0</td>\n",
              "      <td>705.0</td>\n",
              "      <td>705.0</td>\n",
              "      <td>705.0</td>\n",
              "    </tr>\n",
              "  </tbody>\n",
              "</table>\n",
              "<p>5 rows × 190 columns</p>\n",
              "</div>\n",
              "      <button class=\"colab-df-convert\" onclick=\"convertToInteractive('df-05cebb7f-59cf-40db-907d-a732631cb13b')\"\n",
              "              title=\"Convert this dataframe to an interactive table.\"\n",
              "              style=\"display:none;\">\n",
              "        \n",
              "  <svg xmlns=\"http://www.w3.org/2000/svg\" height=\"24px\"viewBox=\"0 0 24 24\"\n",
              "       width=\"24px\">\n",
              "    <path d=\"M0 0h24v24H0V0z\" fill=\"none\"/>\n",
              "    <path d=\"M18.56 5.44l.94 2.06.94-2.06 2.06-.94-2.06-.94-.94-2.06-.94 2.06-2.06.94zm-11 1L8.5 8.5l.94-2.06 2.06-.94-2.06-.94L8.5 2.5l-.94 2.06-2.06.94zm10 10l.94 2.06.94-2.06 2.06-.94-2.06-.94-.94-2.06-.94 2.06-2.06.94z\"/><path d=\"M17.41 7.96l-1.37-1.37c-.4-.4-.92-.59-1.43-.59-.52 0-1.04.2-1.43.59L10.3 9.45l-7.72 7.72c-.78.78-.78 2.05 0 2.83L4 21.41c.39.39.9.59 1.41.59.51 0 1.02-.2 1.41-.59l7.78-7.78 2.81-2.81c.8-.78.8-2.07 0-2.86zM5.41 20L4 18.59l7.72-7.72 1.47 1.35L5.41 20z\"/>\n",
              "  </svg>\n",
              "      </button>\n",
              "      \n",
              "  <style>\n",
              "    .colab-df-container {\n",
              "      display:flex;\n",
              "      flex-wrap:wrap;\n",
              "      gap: 12px;\n",
              "    }\n",
              "\n",
              "    .colab-df-convert {\n",
              "      background-color: #E8F0FE;\n",
              "      border: none;\n",
              "      border-radius: 50%;\n",
              "      cursor: pointer;\n",
              "      display: none;\n",
              "      fill: #1967D2;\n",
              "      height: 32px;\n",
              "      padding: 0 0 0 0;\n",
              "      width: 32px;\n",
              "    }\n",
              "\n",
              "    .colab-df-convert:hover {\n",
              "      background-color: #E2EBFA;\n",
              "      box-shadow: 0px 1px 2px rgba(60, 64, 67, 0.3), 0px 1px 3px 1px rgba(60, 64, 67, 0.15);\n",
              "      fill: #174EA6;\n",
              "    }\n",
              "\n",
              "    [theme=dark] .colab-df-convert {\n",
              "      background-color: #3B4455;\n",
              "      fill: #D2E3FC;\n",
              "    }\n",
              "\n",
              "    [theme=dark] .colab-df-convert:hover {\n",
              "      background-color: #434B5C;\n",
              "      box-shadow: 0px 1px 3px 1px rgba(0, 0, 0, 0.15);\n",
              "      filter: drop-shadow(0px 1px 2px rgba(0, 0, 0, 0.3));\n",
              "      fill: #FFFFFF;\n",
              "    }\n",
              "  </style>\n",
              "\n",
              "      <script>\n",
              "        const buttonEl =\n",
              "          document.querySelector('#df-05cebb7f-59cf-40db-907d-a732631cb13b button.colab-df-convert');\n",
              "        buttonEl.style.display =\n",
              "          google.colab.kernel.accessAllowed ? 'block' : 'none';\n",
              "\n",
              "        async function convertToInteractive(key) {\n",
              "          const element = document.querySelector('#df-05cebb7f-59cf-40db-907d-a732631cb13b');\n",
              "          const dataTable =\n",
              "            await google.colab.kernel.invokeFunction('convertToInteractive',\n",
              "                                                     [key], {});\n",
              "          if (!dataTable) return;\n",
              "\n",
              "          const docLinkHtml = 'Like what you see? Visit the ' +\n",
              "            '<a target=\"_blank\" href=https://colab.research.google.com/notebooks/data_table.ipynb>data table notebook</a>'\n",
              "            + ' to learn more about interactive tables.';\n",
              "          element.innerHTML = '';\n",
              "          dataTable['output_type'] = 'display_data';\n",
              "          await google.colab.output.renderOutput(dataTable, element);\n",
              "          const docLink = document.createElement('div');\n",
              "          docLink.innerHTML = docLinkHtml;\n",
              "          element.appendChild(docLink);\n",
              "        }\n",
              "      </script>\n",
              "    </div>\n",
              "  </div>\n",
              "  "
            ]
          },
          "metadata": {},
          "execution_count": 96
        }
      ]
    },
    {
      "cell_type": "code",
      "source": [
        "train_df.info()"
      ],
      "metadata": {
        "colab": {
          "base_uri": "https://localhost:8080/"
        },
        "id": "T99PmfiOaJ-3",
        "outputId": "d26b9fbc-f31d-4e92-b9df-dd5896a9631e"
      },
      "execution_count": 97,
      "outputs": [
        {
          "output_type": "stream",
          "name": "stdout",
          "text": [
            "<class 'pandas.core.frame.DataFrame'>\n",
            "RangeIndex: 110938 entries, 0 to 110937\n",
            "Columns: 190 entries, id to away_team_history_league_id_10\n",
            "dtypes: float64(162), int64(2), object(26)\n",
            "memory usage: 160.8+ MB\n"
          ]
        }
      ]
    },
    {
      "cell_type": "code",
      "source": [
        "train_df.columns[:20]"
      ],
      "metadata": {
        "colab": {
          "base_uri": "https://localhost:8080/"
        },
        "id": "urZWqiNbHTS7",
        "outputId": "02a2fd5b-cbfd-41a9-9883-86de258a7fb6"
      },
      "execution_count": 98,
      "outputs": [
        {
          "output_type": "execute_result",
          "data": {
            "text/plain": [
              "Index(['id', 'target', 'home_team_name', 'away_team_name', 'match_date',\n",
              "       'league_name', 'league_id', 'is_cup', 'home_team_coach_id',\n",
              "       'away_team_coach_id', 'home_team_history_match_date_1',\n",
              "       'home_team_history_match_date_2', 'home_team_history_match_date_3',\n",
              "       'home_team_history_match_date_4', 'home_team_history_match_date_5',\n",
              "       'home_team_history_match_date_6', 'home_team_history_match_date_7',\n",
              "       'home_team_history_match_date_8', 'home_team_history_match_date_9',\n",
              "       'home_team_history_match_date_10'],\n",
              "      dtype='object')"
            ]
          },
          "metadata": {},
          "execution_count": 98
        }
      ]
    },
    {
      "cell_type": "markdown",
      "source": [
        "## Column Descriptions"
      ],
      "metadata": {
        "id": "Fr_j4W7HfZcz"
      }
    },
    {
      "cell_type": "markdown",
      "source": [
        "### Descriptive Columns\n",
        "\n",
        "* **target** - The variable you have to predict the probabilities only available in the train set.\n",
        "* **home_team_name** - The name of the Home the team. Hidden in test set, see this discussion\n",
        "* **away_team_name** - The name of the Away the team. Hidden in test set, see this discussion\n",
        "* **match_date** - The match date (UTC).\n",
        "* **league_name** - The league name.\n",
        "* **league_id** - The league id. Note that league names can be identical for two differents id.\n",
        "* **is_cup** - If the value is 1 the match is played for a cup compettion.\n",
        "* **home_team_coach_id** - The id of the Home team coach.\n",
        "* **away_team_coach_id** - The id of the Away team coach."
      ],
      "metadata": {
        "id": "g8jsEDYeETHX"
      }
    },
    {
      "cell_type": "markdown",
      "source": [
        "### Historical Columns\n",
        "\n",
        "Historical home team features:\n",
        "\n",
        "\n",
        "* **home_team_history_match_date_{i}** - The date of the last i-th match played by Home team.\n",
        "* **home_team_history_is_play_home_{i}** - If 1, the Home team played home.\n",
        "* **home_team_history_is_cup_{i}** - If 1, the match was a cup competition.\n",
        "* **home_team_history_goal_{i}** - The number of goals scored by the Home team on its last i-th match.\n",
        "* **home_team_history_opponent_goal_{i}** - The number of goals conceded by the Home team on its last i-th match.\n",
        "* **home_team_history_rating_{i}** - The rating of the Home team on its last i-th match (pre match rating).\n",
        "* **home_team_history_opponent_rating_{i}** - The rating of the opponent team on Home team last i-th match (pre match rating).\n",
        "* **home_team_history_coach_{i}** - The coach id of the Home team on its last i-th match.\n",
        "* **home_team_history_league_id_{i}** - The league name id by the Home team on its last i-th match.\n",
        "\n",
        "\n",
        "Historical away team features:\n",
        "\n",
        "\n",
        "* **away_team_history_match_date_{i}** - The date of the last i-th match played by Away team.\n",
        "* **away_team_history_is_play_home_{i}** - If 1, the Away team played home.\n",
        "* **away_team_history_is_cup_{i}** - If 1, the match was a cup competition.\n",
        "* **away_team_history_goal_{i}** - The number of goals scored by the Away team on its last i-th match.\n",
        "* **away_team_history_opponent_goal_{i}** - The number of goals conceded by the Away team on its last i-th match.\n",
        "* **away_team_history_rating_{i}** - The rating of the Away team on its last i-th match (pre match rating).\n",
        "* **away_team_history_opponent_rating_{i}** - The rating of the opponent team on Away team last i-th match (pre match rating).\n",
        "* **away_team_history_coach_{i}** - The coach id of the Away team on its last i-th match.\n",
        "* **away_team_history_league_id_{i}** - The league name id played by the Away on its last i-th match."
      ],
      "metadata": {
        "id": "a3d6rWsnEs2N"
      }
    },
    {
      "cell_type": "code",
      "source": [
        "targets_df.head()"
      ],
      "metadata": {
        "colab": {
          "base_uri": "https://localhost:8080/",
          "height": 206
        },
        "id": "0akOcXJ1FwJv",
        "outputId": "e34e9883-e60a-41f9-d66b-fdbe9bdcabc2"
      },
      "execution_count": 99,
      "outputs": [
        {
          "output_type": "execute_result",
          "data": {
            "text/plain": [
              "         id score target\n",
              "0  11906497   2-3   away\n",
              "1  11984383   1-0   home\n",
              "2  11983301   2-2   draw\n",
              "3  11983471   1-2   away\n",
              "4  11883005   1-0   home"
            ],
            "text/html": [
              "\n",
              "  <div id=\"df-fe288d55-00b1-4f23-b060-daadbd6b4773\">\n",
              "    <div class=\"colab-df-container\">\n",
              "      <div>\n",
              "<style scoped>\n",
              "    .dataframe tbody tr th:only-of-type {\n",
              "        vertical-align: middle;\n",
              "    }\n",
              "\n",
              "    .dataframe tbody tr th {\n",
              "        vertical-align: top;\n",
              "    }\n",
              "\n",
              "    .dataframe thead th {\n",
              "        text-align: right;\n",
              "    }\n",
              "</style>\n",
              "<table border=\"1\" class=\"dataframe\">\n",
              "  <thead>\n",
              "    <tr style=\"text-align: right;\">\n",
              "      <th></th>\n",
              "      <th>id</th>\n",
              "      <th>score</th>\n",
              "      <th>target</th>\n",
              "    </tr>\n",
              "  </thead>\n",
              "  <tbody>\n",
              "    <tr>\n",
              "      <th>0</th>\n",
              "      <td>11906497</td>\n",
              "      <td>2-3</td>\n",
              "      <td>away</td>\n",
              "    </tr>\n",
              "    <tr>\n",
              "      <th>1</th>\n",
              "      <td>11984383</td>\n",
              "      <td>1-0</td>\n",
              "      <td>home</td>\n",
              "    </tr>\n",
              "    <tr>\n",
              "      <th>2</th>\n",
              "      <td>11983301</td>\n",
              "      <td>2-2</td>\n",
              "      <td>draw</td>\n",
              "    </tr>\n",
              "    <tr>\n",
              "      <th>3</th>\n",
              "      <td>11983471</td>\n",
              "      <td>1-2</td>\n",
              "      <td>away</td>\n",
              "    </tr>\n",
              "    <tr>\n",
              "      <th>4</th>\n",
              "      <td>11883005</td>\n",
              "      <td>1-0</td>\n",
              "      <td>home</td>\n",
              "    </tr>\n",
              "  </tbody>\n",
              "</table>\n",
              "</div>\n",
              "      <button class=\"colab-df-convert\" onclick=\"convertToInteractive('df-fe288d55-00b1-4f23-b060-daadbd6b4773')\"\n",
              "              title=\"Convert this dataframe to an interactive table.\"\n",
              "              style=\"display:none;\">\n",
              "        \n",
              "  <svg xmlns=\"http://www.w3.org/2000/svg\" height=\"24px\"viewBox=\"0 0 24 24\"\n",
              "       width=\"24px\">\n",
              "    <path d=\"M0 0h24v24H0V0z\" fill=\"none\"/>\n",
              "    <path d=\"M18.56 5.44l.94 2.06.94-2.06 2.06-.94-2.06-.94-.94-2.06-.94 2.06-2.06.94zm-11 1L8.5 8.5l.94-2.06 2.06-.94-2.06-.94L8.5 2.5l-.94 2.06-2.06.94zm10 10l.94 2.06.94-2.06 2.06-.94-2.06-.94-.94-2.06-.94 2.06-2.06.94z\"/><path d=\"M17.41 7.96l-1.37-1.37c-.4-.4-.92-.59-1.43-.59-.52 0-1.04.2-1.43.59L10.3 9.45l-7.72 7.72c-.78.78-.78 2.05 0 2.83L4 21.41c.39.39.9.59 1.41.59.51 0 1.02-.2 1.41-.59l7.78-7.78 2.81-2.81c.8-.78.8-2.07 0-2.86zM5.41 20L4 18.59l7.72-7.72 1.47 1.35L5.41 20z\"/>\n",
              "  </svg>\n",
              "      </button>\n",
              "      \n",
              "  <style>\n",
              "    .colab-df-container {\n",
              "      display:flex;\n",
              "      flex-wrap:wrap;\n",
              "      gap: 12px;\n",
              "    }\n",
              "\n",
              "    .colab-df-convert {\n",
              "      background-color: #E8F0FE;\n",
              "      border: none;\n",
              "      border-radius: 50%;\n",
              "      cursor: pointer;\n",
              "      display: none;\n",
              "      fill: #1967D2;\n",
              "      height: 32px;\n",
              "      padding: 0 0 0 0;\n",
              "      width: 32px;\n",
              "    }\n",
              "\n",
              "    .colab-df-convert:hover {\n",
              "      background-color: #E2EBFA;\n",
              "      box-shadow: 0px 1px 2px rgba(60, 64, 67, 0.3), 0px 1px 3px 1px rgba(60, 64, 67, 0.15);\n",
              "      fill: #174EA6;\n",
              "    }\n",
              "\n",
              "    [theme=dark] .colab-df-convert {\n",
              "      background-color: #3B4455;\n",
              "      fill: #D2E3FC;\n",
              "    }\n",
              "\n",
              "    [theme=dark] .colab-df-convert:hover {\n",
              "      background-color: #434B5C;\n",
              "      box-shadow: 0px 1px 3px 1px rgba(0, 0, 0, 0.15);\n",
              "      filter: drop-shadow(0px 1px 2px rgba(0, 0, 0, 0.3));\n",
              "      fill: #FFFFFF;\n",
              "    }\n",
              "  </style>\n",
              "\n",
              "      <script>\n",
              "        const buttonEl =\n",
              "          document.querySelector('#df-fe288d55-00b1-4f23-b060-daadbd6b4773 button.colab-df-convert');\n",
              "        buttonEl.style.display =\n",
              "          google.colab.kernel.accessAllowed ? 'block' : 'none';\n",
              "\n",
              "        async function convertToInteractive(key) {\n",
              "          const element = document.querySelector('#df-fe288d55-00b1-4f23-b060-daadbd6b4773');\n",
              "          const dataTable =\n",
              "            await google.colab.kernel.invokeFunction('convertToInteractive',\n",
              "                                                     [key], {});\n",
              "          if (!dataTable) return;\n",
              "\n",
              "          const docLinkHtml = 'Like what you see? Visit the ' +\n",
              "            '<a target=\"_blank\" href=https://colab.research.google.com/notebooks/data_table.ipynb>data table notebook</a>'\n",
              "            + ' to learn more about interactive tables.';\n",
              "          element.innerHTML = '';\n",
              "          dataTable['output_type'] = 'display_data';\n",
              "          await google.colab.output.renderOutput(dataTable, element);\n",
              "          const docLink = document.createElement('div');\n",
              "          docLink.innerHTML = docLinkHtml;\n",
              "          element.appendChild(docLink);\n",
              "        }\n",
              "      </script>\n",
              "    </div>\n",
              "  </div>\n",
              "  "
            ]
          },
          "metadata": {},
          "execution_count": 99
        }
      ]
    },
    {
      "cell_type": "code",
      "source": [
        "targets_df.info()"
      ],
      "metadata": {
        "colab": {
          "base_uri": "https://localhost:8080/"
        },
        "id": "1N6pY3sgHIaV",
        "outputId": "1e022e8e-18b2-4bd4-81b3-d14cbf825442"
      },
      "execution_count": 100,
      "outputs": [
        {
          "output_type": "stream",
          "name": "stdout",
          "text": [
            "<class 'pandas.core.frame.DataFrame'>\n",
            "RangeIndex: 110938 entries, 0 to 110937\n",
            "Data columns (total 3 columns):\n",
            " #   Column  Non-Null Count   Dtype \n",
            "---  ------  --------------   ----- \n",
            " 0   id      110938 non-null  int64 \n",
            " 1   score   110938 non-null  object\n",
            " 2   target  110938 non-null  object\n",
            "dtypes: int64(1), object(2)\n",
            "memory usage: 2.5+ MB\n"
          ]
        }
      ]
    },
    {
      "cell_type": "markdown",
      "source": [
        "## EDA"
      ],
      "metadata": {
        "id": "pVcMXP4Q5hEh"
      }
    },
    {
      "cell_type": "code",
      "source": [
        "train_df['target'].value_counts(sort=True)"
      ],
      "metadata": {
        "colab": {
          "base_uri": "https://localhost:8080/"
        },
        "id": "38_xwI-s91SH",
        "outputId": "d99b5fc3-15d1-47e0-eefe-e5a8aa2b8587"
      },
      "execution_count": 101,
      "outputs": [
        {
          "output_type": "execute_result",
          "data": {
            "text/plain": [
              "home    48113\n",
              "away    35174\n",
              "draw    27651\n",
              "Name: target, dtype: int64"
            ]
          },
          "metadata": {},
          "execution_count": 101
        }
      ]
    },
    {
      "cell_type": "code",
      "source": [
        "train_df['target'].value_counts(normalize=True, sort=True)"
      ],
      "metadata": {
        "colab": {
          "base_uri": "https://localhost:8080/"
        },
        "id": "Em2kOdz1u5ac",
        "outputId": "c03fdd4c-4980-40dd-8cda-43274a6c243a"
      },
      "execution_count": 102,
      "outputs": [
        {
          "output_type": "execute_result",
          "data": {
            "text/plain": [
              "home    0.433693\n",
              "away    0.317060\n",
              "draw    0.249247\n",
              "Name: target, dtype: float64"
            ]
          },
          "metadata": {},
          "execution_count": 102
        }
      ]
    },
    {
      "cell_type": "code",
      "source": [
        "train_df['target'].value_counts(normalize=True, sort=True).plot.bar(rot=0, color=['g','r','c'])"
      ],
      "metadata": {
        "colab": {
          "base_uri": "https://localhost:8080/",
          "height": 282
        },
        "id": "_gmtLgvj-fSC",
        "outputId": "07083296-03dd-415c-8c12-51a3747df29a"
      },
      "execution_count": 103,
      "outputs": [
        {
          "output_type": "execute_result",
          "data": {
            "text/plain": [
              "<matplotlib.axes._subplots.AxesSubplot at 0x7f33a93073d0>"
            ]
          },
          "metadata": {},
          "execution_count": 103
        },
        {
          "output_type": "display_data",
          "data": {
            "text/plain": [
              "<Figure size 432x288 with 1 Axes>"
            ],
            "image/png": "[encoded data removed]"
          },
          "metadata": {
            "needs_background": "light"
          }
        }
      ]
    },
    {
      "cell_type": "code",
      "source": [
        "train_df.isna().sum().to_frame()"
      ],
      "metadata": {
        "colab": {
          "base_uri": "https://localhost:8080/",
          "height": 424
        },
        "id": "f6-bMTVmjTvo",
        "outputId": "a812cc50-9d0b-4b09-bccd-d4e7da76f3bd"
      },
      "execution_count": 104,
      "outputs": [
        {
          "output_type": "execute_result",
          "data": {
            "text/plain": [
              "                                    0\n",
              "id                                  0\n",
              "target                              0\n",
              "home_team_name                      1\n",
              "away_team_name                      1\n",
              "match_date                          0\n",
              "...                               ...\n",
              "away_team_history_league_id_6    8426\n",
              "away_team_history_league_id_7    9867\n",
              "away_team_history_league_id_8   11295\n",
              "away_team_history_league_id_9   12762\n",
              "away_team_history_league_id_10  14216\n",
              "\n",
              "[190 rows x 1 columns]"
            ],
            "text/html": [
              "\n",
              "  <div id=\"df-9d3be3b7-cd38-4b90-8e56-482b0d714c27\">\n",
              "    <div class=\"colab-df-container\">\n",
              "      <div>\n",
              "<style scoped>\n",
              "    .dataframe tbody tr th:only-of-type {\n",
              "        vertical-align: middle;\n",
              "    }\n",
              "\n",
              "    .dataframe tbody tr th {\n",
              "        vertical-align: top;\n",
              "    }\n",
              "\n",
              "    .dataframe thead th {\n",
              "        text-align: right;\n",
              "    }\n",
              "</style>\n",
              "<table border=\"1\" class=\"dataframe\">\n",
              "  <thead>\n",
              "    <tr style=\"text-align: right;\">\n",
              "      <th></th>\n",
              "      <th>0</th>\n",
              "    </tr>\n",
              "  </thead>\n",
              "  <tbody>\n",
              "    <tr>\n",
              "      <th>id</th>\n",
              "      <td>0</td>\n",
              "    </tr>\n",
              "    <tr>\n",
              "      <th>target</th>\n",
              "      <td>0</td>\n",
              "    </tr>\n",
              "    <tr>\n",
              "      <th>home_team_name</th>\n",
              "      <td>1</td>\n",
              "    </tr>\n",
              "    <tr>\n",
              "      <th>away_team_name</th>\n",
              "      <td>1</td>\n",
              "    </tr>\n",
              "    <tr>\n",
              "      <th>match_date</th>\n",
              "      <td>0</td>\n",
              "    </tr>\n",
              "    <tr>\n",
              "      <th>...</th>\n",
              "      <td>...</td>\n",
              "    </tr>\n",
              "    <tr>\n",
              "      <th>away_team_history_league_id_6</th>\n",
              "      <td>8426</td>\n",
              "    </tr>\n",
              "    <tr>\n",
              "      <th>away_team_history_league_id_7</th>\n",
              "      <td>9867</td>\n",
              "    </tr>\n",
              "    <tr>\n",
              "      <th>away_team_history_league_id_8</th>\n",
              "      <td>11295</td>\n",
              "    </tr>\n",
              "    <tr>\n",
              "      <th>away_team_history_league_id_9</th>\n",
              "      <td>12762</td>\n",
              "    </tr>\n",
              "    <tr>\n",
              "      <th>away_team_history_league_id_10</th>\n",
              "      <td>14216</td>\n",
              "    </tr>\n",
              "  </tbody>\n",
              "</table>\n",
              "<p>190 rows × 1 columns</p>\n",
              "</div>\n",
              "      <button class=\"colab-df-convert\" onclick=\"convertToInteractive('df-9d3be3b7-cd38-4b90-8e56-482b0d714c27')\"\n",
              "              title=\"Convert this dataframe to an interactive table.\"\n",
              "              style=\"display:none;\">\n",
              "        \n",
              "  <svg xmlns=\"http://www.w3.org/2000/svg\" height=\"24px\"viewBox=\"0 0 24 24\"\n",
              "       width=\"24px\">\n",
              "    <path d=\"M0 0h24v24H0V0z\" fill=\"none\"/>\n",
              "    <path d=\"M18.56 5.44l.94 2.06.94-2.06 2.06-.94-2.06-.94-.94-2.06-.94 2.06-2.06.94zm-11 1L8.5 8.5l.94-2.06 2.06-.94-2.06-.94L8.5 2.5l-.94 2.06-2.06.94zm10 10l.94 2.06.94-2.06 2.06-.94-2.06-.94-.94-2.06-.94 2.06-2.06.94z\"/><path d=\"M17.41 7.96l-1.37-1.37c-.4-.4-.92-.59-1.43-.59-.52 0-1.04.2-1.43.59L10.3 9.45l-7.72 7.72c-.78.78-.78 2.05 0 2.83L4 21.41c.39.39.9.59 1.41.59.51 0 1.02-.2 1.41-.59l7.78-7.78 2.81-2.81c.8-.78.8-2.07 0-2.86zM5.41 20L4 18.59l7.72-7.72 1.47 1.35L5.41 20z\"/>\n",
              "  </svg>\n",
              "      </button>\n",
              "      \n",
              "  <style>\n",
              "    .colab-df-container {\n",
              "      display:flex;\n",
              "      flex-wrap:wrap;\n",
              "      gap: 12px;\n",
              "    }\n",
              "\n",
              "    .colab-df-convert {\n",
              "      background-color: #E8F0FE;\n",
              "      border: none;\n",
              "      border-radius: 50%;\n",
              "      cursor: pointer;\n",
              "      display: none;\n",
              "      fill: #1967D2;\n",
              "      height: 32px;\n",
              "      padding: 0 0 0 0;\n",
              "      width: 32px;\n",
              "    }\n",
              "\n",
              "    .colab-df-convert:hover {\n",
              "      background-color: #E2EBFA;\n",
              "      box-shadow: 0px 1px 2px rgba(60, 64, 67, 0.3), 0px 1px 3px 1px rgba(60, 64, 67, 0.15);\n",
              "      fill: #174EA6;\n",
              "    }\n",
              "\n",
              "    [theme=dark] .colab-df-convert {\n",
              "      background-color: #3B4455;\n",
              "      fill: #D2E3FC;\n",
              "    }\n",
              "\n",
              "    [theme=dark] .colab-df-convert:hover {\n",
              "      background-color: #434B5C;\n",
              "      box-shadow: 0px 1px 3px 1px rgba(0, 0, 0, 0.15);\n",
              "      filter: drop-shadow(0px 1px 2px rgba(0, 0, 0, 0.3));\n",
              "      fill: #FFFFFF;\n",
              "    }\n",
              "  </style>\n",
              "\n",
              "      <script>\n",
              "        const buttonEl =\n",
              "          document.querySelector('#df-9d3be3b7-cd38-4b90-8e56-482b0d714c27 button.colab-df-convert');\n",
              "        buttonEl.style.display =\n",
              "          google.colab.kernel.accessAllowed ? 'block' : 'none';\n",
              "\n",
              "        async function convertToInteractive(key) {\n",
              "          const element = document.querySelector('#df-9d3be3b7-cd38-4b90-8e56-482b0d714c27');\n",
              "          const dataTable =\n",
              "            await google.colab.kernel.invokeFunction('convertToInteractive',\n",
              "                                                     [key], {});\n",
              "          if (!dataTable) return;\n",
              "\n",
              "          const docLinkHtml = 'Like what you see? Visit the ' +\n",
              "            '<a target=\"_blank\" href=https://colab.research.google.com/notebooks/data_table.ipynb>data table notebook</a>'\n",
              "            + ' to learn more about interactive tables.';\n",
              "          element.innerHTML = '';\n",
              "          dataTable['output_type'] = 'display_data';\n",
              "          await google.colab.output.renderOutput(dataTable, element);\n",
              "          const docLink = document.createElement('div');\n",
              "          docLink.innerHTML = docLinkHtml;\n",
              "          element.appendChild(docLink);\n",
              "        }\n",
              "      </script>\n",
              "    </div>\n",
              "  </div>\n",
              "  "
            ]
          },
          "metadata": {},
          "execution_count": 104
        }
      ]
    },
    {
      "cell_type": "code",
      "source": [
        "# rows with NA\n",
        "train_df.isna().any(axis=1).sum()"
      ],
      "metadata": {
        "colab": {
          "base_uri": "https://localhost:8080/"
        },
        "id": "7NfCn1BnvgOo",
        "outputId": "3a05b2fd-6a6e-40b0-c1bd-a28cc0aebafa"
      },
      "execution_count": 105,
      "outputs": [
        {
          "output_type": "execute_result",
          "data": {
            "text/plain": [
              "46821"
            ]
          },
          "metadata": {},
          "execution_count": 105
        }
      ]
    },
    {
      "cell_type": "markdown",
      "source": [
        "We're gonna remove any names, dates, league, and coach related variables."
      ],
      "metadata": {
        "id": "RUbFyHqpLIKI"
      }
    },
    {
      "cell_type": "code",
      "source": [
        "train = train_df.drop(['home_team_name', \n",
        "                       'away_team_name', \n",
        "                       'match_date', \n",
        "                       'league_name', \n",
        "                       'league_id', \n",
        "                       'home_team_coach_id', \n",
        "                       'away_team_coach_id',\n",
        "                       'home_team_history_match_date_1',\n",
        "                       'home_team_history_match_date_2',\n",
        "                       'home_team_history_match_date_3',\n",
        "                       'home_team_history_match_date_4',\n",
        "                       'home_team_history_match_date_5',\n",
        "                       'home_team_history_match_date_6',\n",
        "                       'home_team_history_match_date_7',\n",
        "                       'home_team_history_match_date_8',\n",
        "                       'home_team_history_match_date_9',\n",
        "                       'home_team_history_match_date_10',\n",
        "                       'home_team_history_coach_1',\n",
        "                       'home_team_history_coach_2',\n",
        "                       'home_team_history_coach_3',\n",
        "                       'home_team_history_coach_4',\n",
        "                       'home_team_history_coach_5',\n",
        "                       'home_team_history_coach_6',\n",
        "                       'home_team_history_coach_7',\n",
        "                       'home_team_history_coach_8',\n",
        "                       'home_team_history_coach_9',\n",
        "                       'home_team_history_coach_10',\n",
        "                       'home_team_history_league_id_1',\n",
        "                       'home_team_history_league_id_2',\n",
        "                       'home_team_history_league_id_3',\n",
        "                       'home_team_history_league_id_4',\n",
        "                       'home_team_history_league_id_5',\n",
        "                       'home_team_history_league_id_6',\n",
        "                       'home_team_history_league_id_7',\n",
        "                       'home_team_history_league_id_8',\n",
        "                       'home_team_history_league_id_9',\n",
        "                       'away_team_history_league_id_10',\n",
        "                       'away_team_history_match_date_1',\n",
        "                       'away_team_history_match_date_2',\n",
        "                       'away_team_history_match_date_3',\n",
        "                       'away_team_history_match_date_4',\n",
        "                       'away_team_history_match_date_5',\n",
        "                       'away_team_history_match_date_6',\n",
        "                       'away_team_history_match_date_7',\n",
        "                       'away_team_history_match_date_8',\n",
        "                       'away_team_history_match_date_9',\n",
        "                       'away_team_history_match_date_10',\n",
        "                       'away_team_history_coach_1',\n",
        "                       'away_team_history_coach_2',\n",
        "                       'away_team_history_coach_3',\n",
        "                       'away_team_history_coach_4',\n",
        "                       'away_team_history_coach_5',\n",
        "                       'away_team_history_coach_6',\n",
        "                       'away_team_history_coach_7',\n",
        "                       'away_team_history_coach_8',\n",
        "                       'away_team_history_coach_9',\n",
        "                       'away_team_history_coach_10',\n",
        "                       'away_team_history_league_id_1',\n",
        "                       'away_team_history_league_id_2',\n",
        "                       'away_team_history_league_id_3',\n",
        "                       'away_team_history_league_id_4',\n",
        "                       'away_team_history_league_id_5',\n",
        "                       'away_team_history_league_id_6',\n",
        "                       'away_team_history_league_id_7',\n",
        "                       'away_team_history_league_id_8',\n",
        "                       'away_team_history_league_id_9',\n",
        "                       'away_team_history_league_id_10',], axis=1)"
      ],
      "metadata": {
        "id": "jXuZ8JkW5mVx"
      },
      "execution_count": 106,
      "outputs": []
    },
    {
      "cell_type": "code",
      "source": [
        "train.isna().any(axis=1).sum()"
      ],
      "metadata": {
        "colab": {
          "base_uri": "https://localhost:8080/"
        },
        "id": "xdSTCmSGKv6A",
        "outputId": "59a0d6ed-db49-4eef-a21f-a86a2d3373dd"
      },
      "execution_count": 107,
      "outputs": [
        {
          "output_type": "execute_result",
          "data": {
            "text/plain": [
              "20680"
            ]
          },
          "metadata": {},
          "execution_count": 107
        }
      ]
    },
    {
      "cell_type": "code",
      "source": [
        "train_final = train[['target','id', 'is_cup']]"
      ],
      "metadata": {
        "id": "B3dm2ncOx3L4"
      },
      "execution_count": 108,
      "outputs": []
    },
    {
      "cell_type": "code",
      "source": [
        "temp1 = pd.DataFrame()\n",
        "temp2 = pd.DataFrame()\n",
        "temp3 = pd.DataFrame()\n",
        "temp4 = pd.DataFrame()\n",
        "temp5 = pd.DataFrame()\n",
        "temp6 = pd.DataFrame()\n",
        "temp7 = pd.DataFrame()\n",
        "temp8 = pd.DataFrame()\n",
        "temp9 = train[['home_team_history_rating_1','home_team_history_rating_2','home_team_history_rating_3','home_team_history_rating_4','home_team_history_rating_5','home_team_history_rating_6','home_team_history_rating_7','home_team_history_rating_8','home_team_history_rating_9','home_team_history_rating_10']]\n",
        "temp10 = train[['away_team_history_rating_1','away_team_history_rating_2','away_team_history_rating_3','away_team_history_rating_4','away_team_history_rating_5','away_team_history_rating_6','away_team_history_rating_7','away_team_history_rating_8','away_team_history_rating_9','away_team_history_rating_10']]\n",
        "temp11 = train[['home_team_history_goal_1','home_team_history_goal_2','home_team_history_goal_3','home_team_history_goal_4','home_team_history_goal_5','home_team_history_goal_6','home_team_history_goal_7','home_team_history_goal_8','home_team_history_goal_9','home_team_history_goal_10']]\n",
        "temp12 = train[['away_team_history_goal_1','away_team_history_goal_2','away_team_history_goal_3','away_team_history_goal_4','away_team_history_goal_5','away_team_history_goal_6','away_team_history_goal_7','away_team_history_goal_8','away_team_history_goal_9','away_team_history_goal_10']]"
      ],
      "metadata": {
        "id": "ti6ljMOSQ_CU"
      },
      "execution_count": 109,
      "outputs": []
    },
    {
      "cell_type": "code",
      "source": [
        "for i in range(1, 11):\n",
        "  temp1['goal_diff_home_'+str(i)] = train['home_team_history_goal_'+str(i)] - train['home_team_history_opponent_goal_'+str(i)]\n",
        "  temp2['home_team_rating_diff_'+str(i)] = train['home_team_history_rating_'+str(i)] - train['home_team_history_opponent_rating_'+str(i)]\n",
        "  temp3['home_team_rating_goal_diff_'+str(i)] = temp2['home_team_rating_diff_'+str(i)] * temp1['goal_diff_home_'+str(i)]\n",
        "  temp4['goal_diff_is_home_'+str(i)] = temp1['goal_diff_home_'+str(i)] * train['home_team_history_is_play_home_'+str(i)]\n",
        "  temp5['goal_diff_away_'+str(i)] = train['away_team_history_goal_'+str(i)] - train['away_team_history_opponent_goal_'+str(i)]\n",
        "  temp6['away_team_rating_diff_'+str(i)] = train['away_team_history_rating_'+str(i)] - train['away_team_history_opponent_rating_'+str(i)]\n",
        "  temp7['away_team_rating_goal_diff_'+str(i)] = temp6['away_team_rating_diff_'+str(i)] * temp5['goal_diff_away_'+str(i)]\n",
        "  temp8['goal_diff_is_away_'+str(i)] = temp5['goal_diff_away_'+str(i)] * train['away_team_history_is_play_home_'+str(i)]"
      ],
      "metadata": {
        "id": "r7j8RjI03m8O"
      },
      "execution_count": 110,
      "outputs": []
    },
    {
      "cell_type": "code",
      "source": [
        "train_final['avg_goal_diff_home'] = temp1.mean(axis=1)\n",
        "train_final['avg_home_team_rating_diff'] = temp2.mean(axis=1)\n",
        "train_final['home_team_rating_goal_diff'] = temp3.mean(axis=1)\n",
        "train_final['goal_diff_is_home'] = temp4.mean(axis=1)\n",
        "train_final['avg_goal_diff_away'] = temp5.mean(axis=1)\n",
        "train_final['avg_away_team_rating_diff'] = temp6.mean(axis=1)\n",
        "train_final['away_team_rating_goal_diff'] = temp7.mean(axis=1)\n",
        "train_final['goal_diff_is_home_away'] = temp8.mean(axis=1) * - 1\n",
        "train_final['target_rating_diff'] = temp9.mean(axis=1) - temp10.mean(axis=1)\n",
        "train_final['goals_home_less_2'] = temp11.mean(axis=1) < 2\n",
        "train_final['goals_away_less_2'] = temp12.mean(axis=1) < 2\n",
        "train_final['goals_home_away_less_2'] = train_final['goals_home_less_2'] * train_final['goals_away_less_2']"
      ],
      "metadata": {
        "colab": {
          "base_uri": "https://localhost:8080/"
        },
        "id": "CFBb8UptRM2R",
        "outputId": "64494158-912f-48d2-e6f9-3e55538ae7ca"
      },
      "execution_count": 111,
      "outputs": [
        {
          "output_type": "stream",
          "name": "stderr",
          "text": [
            "/usr/local/lib/python3.7/dist-packages/ipykernel_launcher.py:1: SettingWithCopyWarning: \n",
            "A value is trying to be set on a copy of a slice from a DataFrame.\n",
            "Try using .loc[row_indexer,col_indexer] = value instead\n",
            "\n",
            "See the caveats in the documentation: https://pandas.pydata.org/pandas-docs/stable/user_guide/indexing.html#returning-a-view-versus-a-copy\n",
            "  \"\"\"Entry point for launching an IPython kernel.\n",
            "/usr/local/lib/python3.7/dist-packages/ipykernel_launcher.py:2: SettingWithCopyWarning: \n",
            "A value is trying to be set on a copy of a slice from a DataFrame.\n",
            "Try using .loc[row_indexer,col_indexer] = value instead\n",
            "\n",
            "See the caveats in the documentation: https://pandas.pydata.org/pandas-docs/stable/user_guide/indexing.html#returning-a-view-versus-a-copy\n",
            "  \n",
            "/usr/local/lib/python3.7/dist-packages/ipykernel_launcher.py:3: SettingWithCopyWarning: \n",
            "A value is trying to be set on a copy of a slice from a DataFrame.\n",
            "Try using .loc[row_indexer,col_indexer] = value instead\n",
            "\n",
            "See the caveats in the documentation: https://pandas.pydata.org/pandas-docs/stable/user_guide/indexing.html#returning-a-view-versus-a-copy\n",
            "  This is separate from the ipykernel package so we can avoid doing imports until\n",
            "/usr/local/lib/python3.7/dist-packages/ipykernel_launcher.py:4: SettingWithCopyWarning: \n",
            "A value is trying to be set on a copy of a slice from a DataFrame.\n",
            "Try using .loc[row_indexer,col_indexer] = value instead\n",
            "\n",
            "See the caveats in the documentation: https://pandas.pydata.org/pandas-docs/stable/user_guide/indexing.html#returning-a-view-versus-a-copy\n",
            "  after removing the cwd from sys.path.\n",
            "/usr/local/lib/python3.7/dist-packages/ipykernel_launcher.py:5: SettingWithCopyWarning: \n",
            "A value is trying to be set on a copy of a slice from a DataFrame.\n",
            "Try using .loc[row_indexer,col_indexer] = value instead\n",
            "\n",
            "See the caveats in the documentation: https://pandas.pydata.org/pandas-docs/stable/user_guide/indexing.html#returning-a-view-versus-a-copy\n",
            "  \"\"\"\n",
            "/usr/local/lib/python3.7/dist-packages/ipykernel_launcher.py:6: SettingWithCopyWarning: \n",
            "A value is trying to be set on a copy of a slice from a DataFrame.\n",
            "Try using .loc[row_indexer,col_indexer] = value instead\n",
            "\n",
            "See the caveats in the documentation: https://pandas.pydata.org/pandas-docs/stable/user_guide/indexing.html#returning-a-view-versus-a-copy\n",
            "  \n",
            "/usr/local/lib/python3.7/dist-packages/ipykernel_launcher.py:7: SettingWithCopyWarning: \n",
            "A value is trying to be set on a copy of a slice from a DataFrame.\n",
            "Try using .loc[row_indexer,col_indexer] = value instead\n",
            "\n",
            "See the caveats in the documentation: https://pandas.pydata.org/pandas-docs/stable/user_guide/indexing.html#returning-a-view-versus-a-copy\n",
            "  import sys\n",
            "/usr/local/lib/python3.7/dist-packages/ipykernel_launcher.py:8: SettingWithCopyWarning: \n",
            "A value is trying to be set on a copy of a slice from a DataFrame.\n",
            "Try using .loc[row_indexer,col_indexer] = value instead\n",
            "\n",
            "See the caveats in the documentation: https://pandas.pydata.org/pandas-docs/stable/user_guide/indexing.html#returning-a-view-versus-a-copy\n",
            "  \n",
            "/usr/local/lib/python3.7/dist-packages/ipykernel_launcher.py:9: SettingWithCopyWarning: \n",
            "A value is trying to be set on a copy of a slice from a DataFrame.\n",
            "Try using .loc[row_indexer,col_indexer] = value instead\n",
            "\n",
            "See the caveats in the documentation: https://pandas.pydata.org/pandas-docs/stable/user_guide/indexing.html#returning-a-view-versus-a-copy\n",
            "  if __name__ == '__main__':\n",
            "/usr/local/lib/python3.7/dist-packages/ipykernel_launcher.py:10: SettingWithCopyWarning: \n",
            "A value is trying to be set on a copy of a slice from a DataFrame.\n",
            "Try using .loc[row_indexer,col_indexer] = value instead\n",
            "\n",
            "See the caveats in the documentation: https://pandas.pydata.org/pandas-docs/stable/user_guide/indexing.html#returning-a-view-versus-a-copy\n",
            "  # Remove the CWD from sys.path while we load stuff.\n",
            "/usr/local/lib/python3.7/dist-packages/ipykernel_launcher.py:11: SettingWithCopyWarning: \n",
            "A value is trying to be set on a copy of a slice from a DataFrame.\n",
            "Try using .loc[row_indexer,col_indexer] = value instead\n",
            "\n",
            "See the caveats in the documentation: https://pandas.pydata.org/pandas-docs/stable/user_guide/indexing.html#returning-a-view-versus-a-copy\n",
            "  # This is added back by InteractiveShellApp.init_path()\n",
            "/usr/local/lib/python3.7/dist-packages/ipykernel_launcher.py:12: SettingWithCopyWarning: \n",
            "A value is trying to be set on a copy of a slice from a DataFrame.\n",
            "Try using .loc[row_indexer,col_indexer] = value instead\n",
            "\n",
            "See the caveats in the documentation: https://pandas.pydata.org/pandas-docs/stable/user_guide/indexing.html#returning-a-view-versus-a-copy\n",
            "  if sys.path[0] == '':\n"
          ]
        }
      ]
    },
    {
      "cell_type": "code",
      "source": [
        "train_final.isna().any(axis=1).sum()"
      ],
      "metadata": {
        "colab": {
          "base_uri": "https://localhost:8080/"
        },
        "id": "DMXC9b4qplbN",
        "outputId": "d386c8e7-f813-4d10-a81b-29f2c37bb8af"
      },
      "execution_count": 112,
      "outputs": [
        {
          "output_type": "execute_result",
          "data": {
            "text/plain": [
              "1986"
            ]
          },
          "metadata": {},
          "execution_count": 112
        }
      ]
    },
    {
      "cell_type": "code",
      "source": [
        "train_final.isna().sum()"
      ],
      "metadata": {
        "colab": {
          "base_uri": "https://localhost:8080/"
        },
        "id": "RfurPLnsGemv",
        "outputId": "533110ac-c944-4c5b-f317-de77f07f52b3"
      },
      "execution_count": 113,
      "outputs": [
        {
          "output_type": "execute_result",
          "data": {
            "text/plain": [
              "target                           0\n",
              "id                               0\n",
              "is_cup                           1\n",
              "avg_goal_diff_home            1159\n",
              "avg_home_team_rating_diff     1159\n",
              "home_team_rating_goal_diff    1159\n",
              "goal_diff_is_home             1159\n",
              "avg_goal_diff_away            1226\n",
              "avg_away_team_rating_diff     1226\n",
              "away_team_rating_goal_diff    1226\n",
              "goal_diff_is_home_away        1226\n",
              "target_rating_diff            1985\n",
              "goals_home_less_2                0\n",
              "goals_away_less_2                0\n",
              "goals_home_away_less_2           0\n",
              "dtype: int64"
            ]
          },
          "metadata": {},
          "execution_count": 113
        }
      ]
    },
    {
      "cell_type": "code",
      "source": [
        "train_final['target'].value_counts(normalize=True, sort=True)"
      ],
      "metadata": {
        "colab": {
          "base_uri": "https://localhost:8080/"
        },
        "id": "wLP_1mqP_QyN",
        "outputId": "1ea77a43-33d0-432b-d1f1-e256b8fddc5b"
      },
      "execution_count": 114,
      "outputs": [
        {
          "output_type": "execute_result",
          "data": {
            "text/plain": [
              "home    0.433693\n",
              "away    0.317060\n",
              "draw    0.249247\n",
              "Name: target, dtype: float64"
            ]
          },
          "metadata": {},
          "execution_count": 114
        }
      ]
    },
    {
      "cell_type": "code",
      "source": [
        "train_final['target'].value_counts(normalize=True, sort=True).plot.bar(rot=0, color=['g','r','c'])"
      ],
      "metadata": {
        "colab": {
          "base_uri": "https://localhost:8080/",
          "height": 282
        },
        "id": "Hx9fdBLh_F4k",
        "outputId": "55db2939-37ea-4008-c91e-9212a77d884b"
      },
      "execution_count": 115,
      "outputs": [
        {
          "output_type": "execute_result",
          "data": {
            "text/plain": [
              "<matplotlib.axes._subplots.AxesSubplot at 0x7f33a9c594d0>"
            ]
          },
          "metadata": {},
          "execution_count": 115
        },
        {
          "output_type": "display_data",
          "data": {
            "text/plain": [
              "<Figure size 432x288 with 1 Axes>"
            ],
            "image/png": "[encoded data removed]"
          },
          "metadata": {
            "needs_background": "light"
          }
        }
      ]
    },
    {
      "cell_type": "code",
      "source": [
        "X = train_final.dropna(axis=0)\n",
        "X.isna().sum()"
      ],
      "metadata": {
        "colab": {
          "base_uri": "https://localhost:8080/"
        },
        "id": "PQ7VZfRxWXnh",
        "outputId": "0108d27a-66a7-4654-bbac-bb7abd9864da"
      },
      "execution_count": 116,
      "outputs": [
        {
          "output_type": "execute_result",
          "data": {
            "text/plain": [
              "target                        0\n",
              "id                            0\n",
              "is_cup                        0\n",
              "avg_goal_diff_home            0\n",
              "avg_home_team_rating_diff     0\n",
              "home_team_rating_goal_diff    0\n",
              "goal_diff_is_home             0\n",
              "avg_goal_diff_away            0\n",
              "avg_away_team_rating_diff     0\n",
              "away_team_rating_goal_diff    0\n",
              "goal_diff_is_home_away        0\n",
              "target_rating_diff            0\n",
              "goals_home_less_2             0\n",
              "goals_away_less_2             0\n",
              "goals_home_away_less_2        0\n",
              "dtype: int64"
            ]
          },
          "metadata": {},
          "execution_count": 116
        }
      ]
    },
    {
      "cell_type": "code",
      "source": [
        "y = X['target']"
      ],
      "metadata": {
        "id": "VHaYUSpBTHs9"
      },
      "execution_count": 117,
      "outputs": []
    },
    {
      "cell_type": "code",
      "source": [
        "y[0:10]"
      ],
      "metadata": {
        "colab": {
          "base_uri": "https://localhost:8080/"
        },
        "id": "32nqrk_MX5Rg",
        "outputId": "2cd63ef8-47e3-4375-d477-6501ef429a23"
      },
      "execution_count": 118,
      "outputs": [
        {
          "output_type": "execute_result",
          "data": {
            "text/plain": [
              "0    away\n",
              "1    home\n",
              "2    draw\n",
              "3    away\n",
              "4    home\n",
              "5    draw\n",
              "6    home\n",
              "7    away\n",
              "8    home\n",
              "9    home\n",
              "Name: target, dtype: object"
            ]
          },
          "metadata": {},
          "execution_count": 118
        }
      ]
    },
    {
      "cell_type": "code",
      "source": [
        "X.drop(['target', 'id'], axis=1, inplace=True)\n",
        "X.info()"
      ],
      "metadata": {
        "colab": {
          "base_uri": "https://localhost:8080/"
        },
        "id": "LE3NoiCNXl04",
        "outputId": "2861651c-b139-4325-ae87-fcbd2e6fdeb5"
      },
      "execution_count": 119,
      "outputs": [
        {
          "output_type": "stream",
          "name": "stdout",
          "text": [
            "<class 'pandas.core.frame.DataFrame'>\n",
            "Int64Index: 108952 entries, 0 to 110937\n",
            "Data columns (total 13 columns):\n",
            " #   Column                      Non-Null Count   Dtype  \n",
            "---  ------                      --------------   -----  \n",
            " 0   is_cup                      108952 non-null  object \n",
            " 1   avg_goal_diff_home          108952 non-null  float64\n",
            " 2   avg_home_team_rating_diff   108952 non-null  float64\n",
            " 3   home_team_rating_goal_diff  108952 non-null  float64\n",
            " 4   goal_diff_is_home           108952 non-null  float64\n",
            " 5   avg_goal_diff_away          108952 non-null  float64\n",
            " 6   avg_away_team_rating_diff   108952 non-null  float64\n",
            " 7   away_team_rating_goal_diff  108952 non-null  float64\n",
            " 8   goal_diff_is_home_away      108952 non-null  float64\n",
            " 9   target_rating_diff          108952 non-null  float64\n",
            " 10  goals_home_less_2           108952 non-null  bool   \n",
            " 11  goals_away_less_2           108952 non-null  bool   \n",
            " 12  goals_home_away_less_2      108952 non-null  bool   \n",
            "dtypes: bool(3), float64(9), object(1)\n",
            "memory usage: 9.5+ MB\n"
          ]
        },
        {
          "output_type": "stream",
          "name": "stderr",
          "text": [
            "/usr/local/lib/python3.7/dist-packages/pandas/core/frame.py:4913: SettingWithCopyWarning: \n",
            "A value is trying to be set on a copy of a slice from a DataFrame\n",
            "\n",
            "See the caveats in the documentation: https://pandas.pydata.org/pandas-docs/stable/user_guide/indexing.html#returning-a-view-versus-a-copy\n",
            "  errors=errors,\n"
          ]
        }
      ]
    },
    {
      "cell_type": "markdown",
      "source": [
        "# Modeling"
      ],
      "metadata": {
        "id": "9DcruLdQLzeO"
      }
    },
    {
      "cell_type": "code",
      "source": [
        "from sklearn.model_selection import train_test_split"
      ],
      "metadata": {
        "id": "2-7qUzm8ZDWU"
      },
      "execution_count": 33,
      "outputs": []
    },
    {
      "cell_type": "code",
      "source": [
        "full_train = train.dropna()\n",
        "full_y = full_train['target']\n",
        "full_train = full_train.drop(['id', 'target'], axis=1)"
      ],
      "metadata": {
        "id": "sYzjThVW2nWy"
      },
      "execution_count": 121,
      "outputs": []
    },
    {
      "cell_type": "code",
      "source": [
        "X_train, X_valid, y_train, y_valid = train_test_split(X, y, test_size=0.2, random_state=1234)"
      ],
      "metadata": {
        "id": "vD8ztU19Kkqm"
      },
      "execution_count": 122,
      "outputs": []
    },
    {
      "cell_type": "code",
      "source": [
        "X2_train, X2_valid, y2_train, y2_valid = train_test_split(full_train, full_y, test_size=0.2, random_state=1234)"
      ],
      "metadata": {
        "id": "kCmZYCnpJWDx"
      },
      "execution_count": 123,
      "outputs": []
    },
    {
      "cell_type": "code",
      "source": [
        "from sklearn.cluster import KMeans\n",
        "km_model = KMeans(n_clusters=3, random_state=1234)\n",
        "km_model.fit(X_train)"
      ],
      "metadata": {
        "colab": {
          "base_uri": "https://localhost:8080/"
        },
        "id": "l1nW0zvHKsJt",
        "outputId": "75735527-be62-4930-f317-945f813d9388"
      },
      "execution_count": 124,
      "outputs": [
        {
          "output_type": "execute_result",
          "data": {
            "text/plain": [
              "KMeans(n_clusters=3, random_state=1234)"
            ]
          },
          "metadata": {},
          "execution_count": 124
        }
      ]
    },
    {
      "cell_type": "code",
      "source": [
        "km_model2 = KMeans(n_clusters=3, random_state=1234)\n",
        "km_model2.fit(X2_train)"
      ],
      "metadata": {
        "colab": {
          "base_uri": "https://localhost:8080/"
        },
        "id": "FvEZ6q70oLkd",
        "outputId": "7a783c3c-b61b-41ee-c37a-c6e8ee591f5d"
      },
      "execution_count": 165,
      "outputs": [
        {
          "output_type": "execute_result",
          "data": {
            "text/plain": [
              "KMeans(n_clusters=3, random_state=1234)"
            ]
          },
          "metadata": {},
          "execution_count": 165
        }
      ]
    },
    {
      "cell_type": "markdown",
      "source": [
        "## Predicitons and Accuracy"
      ],
      "metadata": {
        "id": "TJQAgkVwL9Tt"
      }
    },
    {
      "cell_type": "code",
      "source": [
        "preds = km_model.predict(X_train)\n",
        "np.unique(preds, return_counts=True)"
      ],
      "metadata": {
        "colab": {
          "base_uri": "https://localhost:8080/"
        },
        "id": "AWoujfZWyq0O",
        "outputId": "15fefb69-ac45-4f27-f394-6eaeef393789"
      },
      "execution_count": 143,
      "outputs": [
        {
          "output_type": "execute_result",
          "data": {
            "text/plain": [
              "(array([0, 1, 2], dtype=int32), array([70943,  1144, 15074]))"
            ]
          },
          "metadata": {},
          "execution_count": 143
        }
      ]
    },
    {
      "cell_type": "code",
      "source": [
        "import itertools\n",
        "\n",
        "def label_permute_compare(y,preds):\n",
        "    uniques = np.unique(preds)\n",
        "    max_perm = 0\n",
        "    max_accuracy = 0\n",
        "    perms = itertools.permutations(['away', 'home', 'draw'])\n",
        "    for perm in perms:\n",
        "        preds_copy = pd.Series(preds, copy=True)\n",
        "        preds_copy.replace(to_replace=uniques, value=perm, inplace=True)\n",
        "        curr_accuracy = np.sum(np.array(preds_copy) == np.array(y))/len(preds_copy)\n",
        "        if curr_accuracy > max_accuracy:\n",
        "            max_perm = perm\n",
        "            max_accuracy = curr_accuracy\n",
        "    return max_perm, max_accuracy"
      ],
      "metadata": {
        "id": "M4w0jNK-y9Er"
      },
      "execution_count": 163,
      "outputs": []
    },
    {
      "cell_type": "code",
      "source": [
        "label_permute_compare(y_train, preds)"
      ],
      "metadata": {
        "colab": {
          "base_uri": "https://localhost:8080/"
        },
        "id": "JAXqyZeN08dJ",
        "outputId": "c15f036d-9b8b-4ebd-f443-d89ba5e75498"
      },
      "execution_count": 164,
      "outputs": [
        {
          "output_type": "execute_result",
          "data": {
            "text/plain": [
              "(('home', 'draw', 'away'), 0.41285666754626493)"
            ]
          },
          "metadata": {},
          "execution_count": 164
        }
      ]
    },
    {
      "cell_type": "code",
      "source": [
        "preds_full = km_model2.predict(X2_train)"
      ],
      "metadata": {
        "id": "rV1ccsZU3t37"
      },
      "execution_count": 166,
      "outputs": []
    },
    {
      "cell_type": "code",
      "source": [
        "label_permute_compare(y2_train, preds_full)"
      ],
      "metadata": {
        "colab": {
          "base_uri": "https://localhost:8080/"
        },
        "id": "TyMc-Biz4oW-",
        "outputId": "b68586f5-da0f-4234-825d-4436900d6cbe"
      },
      "execution_count": 167,
      "outputs": [
        {
          "output_type": "execute_result",
          "data": {
            "text/plain": [
              "(('home', 'away', 'draw'), 0.35226989446860374)"
            ]
          },
          "metadata": {},
          "execution_count": 167
        }
      ]
    },
    {
      "cell_type": "markdown",
      "source": [
        "Predict on validation set."
      ],
      "metadata": {
        "id": "0A2PHucdIVjN"
      }
    },
    {
      "cell_type": "code",
      "source": [
        "preds_valid = km_model.predict(X_valid)\n",
        "label_permute_compare(y_valid, preds_valid)"
      ],
      "metadata": {
        "colab": {
          "base_uri": "https://localhost:8080/"
        },
        "id": "wkYdsjuy6hFG",
        "outputId": "54bebca8-00c8-4a16-ceb3-ff51d9133129"
      },
      "execution_count": 168,
      "outputs": [
        {
          "output_type": "execute_result",
          "data": {
            "text/plain": [
              "(('home', 'draw', 'away'), 0.4121426276903309)"
            ]
          },
          "metadata": {},
          "execution_count": 168
        }
      ]
    },
    {
      "cell_type": "code",
      "source": [
        "np.unique(preds_valid, return_counts=True)"
      ],
      "metadata": {
        "colab": {
          "base_uri": "https://localhost:8080/"
        },
        "id": "TBqX0qF17DFs",
        "outputId": "e9b64b6e-e51a-4d5f-ed2d-a0cfa9631d51"
      },
      "execution_count": 169,
      "outputs": [
        {
          "output_type": "execute_result",
          "data": {
            "text/plain": [
              "(array([0, 1, 2], dtype=int32), array([17801,   301,  3689]))"
            ]
          },
          "metadata": {},
          "execution_count": 169
        }
      ]
    },
    {
      "cell_type": "code",
      "source": [
        "label_valid = pd.Series(preds_valid).replace(to_replace=[0,1,2], value=('home', 'draw', 'away'))"
      ],
      "metadata": {
        "id": "UWEJfk1sFHAV"
      },
      "execution_count": 172,
      "outputs": []
    },
    {
      "cell_type": "code",
      "source": [
        "from sklearn.metrics import confusion_matrix\n",
        "confusion_matrix(y_valid, label_valid)"
      ],
      "metadata": {
        "colab": {
          "base_uri": "https://localhost:8080/"
        },
        "id": "5NFthu-6Eyjl",
        "outputId": "2edf9194-15e5-4d30-f166-7dbc3fd0070a"
      },
      "execution_count": 175,
      "outputs": [
        {
          "output_type": "execute_result",
          "data": {
            "text/plain": [
              "array([[1302,  114, 5523],\n",
              "       [ 667,   41, 4640],\n",
              "       [1720,  146, 7638]])"
            ]
          },
          "metadata": {},
          "execution_count": 175
        }
      ]
    },
    {
      "cell_type": "markdown",
      "source": [
        "Compared to just predicting the home team every time:"
      ],
      "metadata": {
        "id": "zoY_ucmwIT8-"
      }
    },
    {
      "cell_type": "code",
      "source": [
        "pred_basic = ['home']*len(y_valid)\n",
        "np.sum(pred_basic == y_valid)/len(pred_basic)"
      ],
      "metadata": {
        "colab": {
          "base_uri": "https://localhost:8080/"
        },
        "id": "yhhIe9-Z8cC0",
        "outputId": "f5581966-34c9-4a37-825a-1765ca7fceda"
      },
      "execution_count": 176,
      "outputs": [
        {
          "output_type": "execute_result",
          "data": {
            "text/plain": [
              "0.43614336193841496"
            ]
          },
          "metadata": {},
          "execution_count": 176
        }
      ]
    }
  ]
}