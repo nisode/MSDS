{
 "cells": [
  {
   "cell_type": "code",
   "execution_count": 1,
   "id": "a974bd9f",
   "metadata": {
    "_cell_guid": "b1076dfc-b9ad-4769-8c92-a6c4dae69d19",
    "_uuid": "8f2839f25d086af736a60e9eeb907d3b93b6e0e5",
    "execution": {
     "iopub.execute_input": "2022-08-16T13:04:10.501617Z",
     "iopub.status.busy": "2022-08-16T13:04:10.500690Z",
     "iopub.status.idle": "2022-08-16T13:04:10.534693Z",
     "shell.execute_reply": "2022-08-16T13:04:10.533673Z"
    },
    "papermill": {
     "duration": 0.068597,
     "end_time": "2022-08-16T13:04:10.539095",
     "exception": false,
     "start_time": "2022-08-16T13:04:10.470498",
     "status": "completed"
    },
    "tags": []
   },
   "outputs": [
    {
     "name": "stdout",
     "output_type": "stream",
     "text": [
      "/kaggle/input/nlp-getting-started/sample_submission.csv\n",
      "/kaggle/input/nlp-getting-started/train.csv\n",
      "/kaggle/input/nlp-getting-started/test.csv\n"
     ]
    }
   ],
   "source": [
    "# This Python 3 environment comes with many helpful analytics libraries installed\n",
    "# It is defined by the kaggle/python Docker image: https://github.com/kaggle/docker-python\n",
    "# For example, here's several helpful packages to load\n",
    "\n",
    "import numpy as np # linear algebra\n",
    "import pandas as pd # data processing, CSV file I/O (e.g. pd.read_csv)\n",
    "\n",
    "# Input data files are available in the read-only \"../input/\" directory\n",
    "# For example, running this (by clicking run or pressing Shift+Enter) will list all files under the input directory\n",
    "\n",
    "import os\n",
    "for dirname, _, filenames in os.walk('/kaggle/input'):\n",
    "    for filename in filenames:\n",
    "        print(os.path.join(dirname, filename))\n",
    "\n",
    "# You can write up to 20GB to the current directory (/kaggle/working/) that gets preserved as output when you create a version using \"Save & Run All\" \n",
    "# You can also write temporary files to /kaggle/temp/, but they won't be saved outside of the current session"
   ]
  },
  {
   "cell_type": "markdown",
   "id": "6eaeccf0",
   "metadata": {
    "papermill": {
     "duration": 0.020641,
     "end_time": "2022-08-16T13:04:10.582169",
     "exception": false,
     "start_time": "2022-08-16T13:04:10.561528",
     "status": "completed"
    },
    "tags": []
   },
   "source": [
    "https://github.com/nisode/MSDS/tree/main/Deep%20Learning"
   ]
  },
  {
   "cell_type": "markdown",
   "id": "4c4bb15f",
   "metadata": {
    "papermill": {
     "duration": 0.018426,
     "end_time": "2022-08-16T13:04:10.619134",
     "exception": false,
     "start_time": "2022-08-16T13:04:10.600708",
     "status": "completed"
    },
    "tags": []
   },
   "source": [
    "# Task"
   ]
  },
  {
   "cell_type": "markdown",
   "id": "989e7562",
   "metadata": {
    "papermill": {
     "duration": 0.01849,
     "end_time": "2022-08-16T13:04:10.656602",
     "exception": false,
     "start_time": "2022-08-16T13:04:10.638112",
     "status": "completed"
    },
    "tags": []
   },
   "source": [
    "The goal is to categorize Twitter posts as disaster tweets or not.\n",
    "\n",
    "Twitter posts are fast and can be useful to be monitored to spot the beginnings of a disaster.\n",
    "\n",
    "We are given about 7.6k tweets to train our data and then to categorize on an unseen test set.\n",
    "\n",
    "Some posts have misleading texts which can result in false flags."
   ]
  },
  {
   "cell_type": "markdown",
   "id": "a55fa882",
   "metadata": {
    "papermill": {
     "duration": 0.018385,
     "end_time": "2022-08-16T13:04:10.693092",
     "exception": false,
     "start_time": "2022-08-16T13:04:10.674707",
     "status": "completed"
    },
    "tags": []
   },
   "source": [
    "# Load Data"
   ]
  },
  {
   "cell_type": "code",
   "execution_count": 2,
   "id": "0e718f32",
   "metadata": {
    "execution": {
     "iopub.execute_input": "2022-08-16T13:04:10.732243Z",
     "iopub.status.busy": "2022-08-16T13:04:10.731849Z",
     "iopub.status.idle": "2022-08-16T13:04:10.799706Z",
     "shell.execute_reply": "2022-08-16T13:04:10.798344Z"
    },
    "papermill": {
     "duration": 0.089794,
     "end_time": "2022-08-16T13:04:10.802202",
     "exception": false,
     "start_time": "2022-08-16T13:04:10.712408",
     "status": "completed"
    },
    "tags": []
   },
   "outputs": [
    {
     "data": {
      "text/html": [
       "<div>\n",
       "<style scoped>\n",
       "    .dataframe tbody tr th:only-of-type {\n",
       "        vertical-align: middle;\n",
       "    }\n",
       "\n",
       "    .dataframe tbody tr th {\n",
       "        vertical-align: top;\n",
       "    }\n",
       "\n",
       "    .dataframe thead th {\n",
       "        text-align: right;\n",
       "    }\n",
       "</style>\n",
       "<table border=\"1\" class=\"dataframe\">\n",
       "  <thead>\n",
       "    <tr style=\"text-align: right;\">\n",
       "      <th></th>\n",
       "      <th>id</th>\n",
       "      <th>keyword</th>\n",
       "      <th>location</th>\n",
       "      <th>text</th>\n",
       "      <th>target</th>\n",
       "    </tr>\n",
       "  </thead>\n",
       "  <tbody>\n",
       "    <tr>\n",
       "      <th>0</th>\n",
       "      <td>1</td>\n",
       "      <td>NaN</td>\n",
       "      <td>NaN</td>\n",
       "      <td>Our Deeds are the Reason of this #earthquake M...</td>\n",
       "      <td>1</td>\n",
       "    </tr>\n",
       "    <tr>\n",
       "      <th>1</th>\n",
       "      <td>4</td>\n",
       "      <td>NaN</td>\n",
       "      <td>NaN</td>\n",
       "      <td>Forest fire near La Ronge Sask. Canada</td>\n",
       "      <td>1</td>\n",
       "    </tr>\n",
       "    <tr>\n",
       "      <th>2</th>\n",
       "      <td>5</td>\n",
       "      <td>NaN</td>\n",
       "      <td>NaN</td>\n",
       "      <td>All residents asked to 'shelter in place' are ...</td>\n",
       "      <td>1</td>\n",
       "    </tr>\n",
       "    <tr>\n",
       "      <th>3</th>\n",
       "      <td>6</td>\n",
       "      <td>NaN</td>\n",
       "      <td>NaN</td>\n",
       "      <td>13,000 people receive #wildfires evacuation or...</td>\n",
       "      <td>1</td>\n",
       "    </tr>\n",
       "    <tr>\n",
       "      <th>4</th>\n",
       "      <td>7</td>\n",
       "      <td>NaN</td>\n",
       "      <td>NaN</td>\n",
       "      <td>Just got sent this photo from Ruby #Alaska as ...</td>\n",
       "      <td>1</td>\n",
       "    </tr>\n",
       "  </tbody>\n",
       "</table>\n",
       "</div>"
      ],
      "text/plain": [
       "   id keyword location                                               text  \\\n",
       "0   1     NaN      NaN  Our Deeds are the Reason of this #earthquake M...   \n",
       "1   4     NaN      NaN             Forest fire near La Ronge Sask. Canada   \n",
       "2   5     NaN      NaN  All residents asked to 'shelter in place' are ...   \n",
       "3   6     NaN      NaN  13,000 people receive #wildfires evacuation or...   \n",
       "4   7     NaN      NaN  Just got sent this photo from Ruby #Alaska as ...   \n",
       "\n",
       "   target  \n",
       "0       1  \n",
       "1       1  \n",
       "2       1  \n",
       "3       1  \n",
       "4       1  "
      ]
     },
     "execution_count": 2,
     "metadata": {},
     "output_type": "execute_result"
    }
   ],
   "source": [
    "train_df = pd.read_csv('../input/nlp-getting-started/train.csv')\n",
    "train_df.head()"
   ]
  },
  {
   "cell_type": "markdown",
   "id": "0d37bd71",
   "metadata": {
    "papermill": {
     "duration": 0.019146,
     "end_time": "2022-08-16T13:04:10.841218",
     "exception": false,
     "start_time": "2022-08-16T13:04:10.822072",
     "status": "completed"
    },
    "tags": []
   },
   "source": [
    "Positive target (1) means a disaster related tweet."
   ]
  },
  {
   "cell_type": "markdown",
   "id": "4c05e7d0",
   "metadata": {
    "papermill": {
     "duration": 0.018275,
     "end_time": "2022-08-16T13:04:10.878964",
     "exception": false,
     "start_time": "2022-08-16T13:04:10.860689",
     "status": "completed"
    },
    "tags": []
   },
   "source": [
    "# EDA"
   ]
  },
  {
   "cell_type": "markdown",
   "id": "5186a636",
   "metadata": {
    "papermill": {
     "duration": 0.017881,
     "end_time": "2022-08-16T13:04:10.914955",
     "exception": false,
     "start_time": "2022-08-16T13:04:10.897074",
     "status": "completed"
    },
    "tags": []
   },
   "source": [
    "Let's see what our data looks like and data types are:"
   ]
  },
  {
   "cell_type": "code",
   "execution_count": 3,
   "id": "e68afcb4",
   "metadata": {
    "execution": {
     "iopub.execute_input": "2022-08-16T13:04:10.954678Z",
     "iopub.status.busy": "2022-08-16T13:04:10.954144Z",
     "iopub.status.idle": "2022-08-16T13:04:10.994269Z",
     "shell.execute_reply": "2022-08-16T13:04:10.991892Z"
    },
    "papermill": {
     "duration": 0.067275,
     "end_time": "2022-08-16T13:04:11.001241",
     "exception": false,
     "start_time": "2022-08-16T13:04:10.933966",
     "status": "completed"
    },
    "tags": []
   },
   "outputs": [
    {
     "name": "stdout",
     "output_type": "stream",
     "text": [
      "<class 'pandas.core.frame.DataFrame'>\n",
      "RangeIndex: 7613 entries, 0 to 7612\n",
      "Data columns (total 5 columns):\n",
      " #   Column    Non-Null Count  Dtype \n",
      "---  ------    --------------  ----- \n",
      " 0   id        7613 non-null   int64 \n",
      " 1   keyword   7552 non-null   object\n",
      " 2   location  5080 non-null   object\n",
      " 3   text      7613 non-null   object\n",
      " 4   target    7613 non-null   int64 \n",
      "dtypes: int64(2), object(3)\n",
      "memory usage: 297.5+ KB\n"
     ]
    }
   ],
   "source": [
    "train_df.info()"
   ]
  },
  {
   "cell_type": "code",
   "execution_count": 4,
   "id": "8116d7ae",
   "metadata": {
    "execution": {
     "iopub.execute_input": "2022-08-16T13:04:11.029012Z",
     "iopub.status.busy": "2022-08-16T13:04:11.028120Z",
     "iopub.status.idle": "2022-08-16T13:04:11.251432Z",
     "shell.execute_reply": "2022-08-16T13:04:11.250326Z"
    },
    "papermill": {
     "duration": 0.238996,
     "end_time": "2022-08-16T13:04:11.253673",
     "exception": false,
     "start_time": "2022-08-16T13:04:11.014677",
     "status": "completed"
    },
    "tags": []
   },
   "outputs": [
    {
     "data": {
      "text/plain": [
       "<AxesSubplot:>"
      ]
     },
     "execution_count": 4,
     "metadata": {},
     "output_type": "execute_result"
    },
    {
     "data": {
      "image/png": "[encoded data removed]",
      "text/plain": [
       "<Figure size 432x288 with 1 Axes>"
      ]
     },
     "metadata": {
      "needs_background": "light"
     },
     "output_type": "display_data"
    }
   ],
   "source": [
    "train_df.isnull().sum().plot(kind='bar', color=['red', 'blue'])"
   ]
  },
  {
   "cell_type": "markdown",
   "id": "882dc3e9",
   "metadata": {
    "papermill": {
     "duration": 0.012262,
     "end_time": "2022-08-16T13:04:11.278716",
     "exception": false,
     "start_time": "2022-08-16T13:04:11.266454",
     "status": "completed"
    },
    "tags": []
   },
   "source": [
    "Checking our data columns for missing values, location has around a third of its data missing. That would make it hard for categorization so I think we won't consider using them. Keyword has a few missing as well."
   ]
  },
  {
   "cell_type": "code",
   "execution_count": 5,
   "id": "8d9f82b3",
   "metadata": {
    "execution": {
     "iopub.execute_input": "2022-08-16T13:04:11.305705Z",
     "iopub.status.busy": "2022-08-16T13:04:11.305297Z",
     "iopub.status.idle": "2022-08-16T13:04:11.335270Z",
     "shell.execute_reply": "2022-08-16T13:04:11.334333Z"
    },
    "papermill": {
     "duration": 0.046159,
     "end_time": "2022-08-16T13:04:11.337293",
     "exception": false,
     "start_time": "2022-08-16T13:04:11.291134",
     "status": "completed"
    },
    "tags": []
   },
   "outputs": [
    {
     "data": {
      "text/html": [
       "<div>\n",
       "<style scoped>\n",
       "    .dataframe tbody tr th:only-of-type {\n",
       "        vertical-align: middle;\n",
       "    }\n",
       "\n",
       "    .dataframe tbody tr th {\n",
       "        vertical-align: top;\n",
       "    }\n",
       "\n",
       "    .dataframe thead th {\n",
       "        text-align: right;\n",
       "    }\n",
       "</style>\n",
       "<table border=\"1\" class=\"dataframe\">\n",
       "  <thead>\n",
       "    <tr style=\"text-align: right;\">\n",
       "      <th></th>\n",
       "      <th>id</th>\n",
       "      <th>keyword</th>\n",
       "      <th>location</th>\n",
       "      <th>text</th>\n",
       "    </tr>\n",
       "  </thead>\n",
       "  <tbody>\n",
       "    <tr>\n",
       "      <th>0</th>\n",
       "      <td>0</td>\n",
       "      <td>NaN</td>\n",
       "      <td>NaN</td>\n",
       "      <td>Just happened a terrible car crash</td>\n",
       "    </tr>\n",
       "    <tr>\n",
       "      <th>1</th>\n",
       "      <td>2</td>\n",
       "      <td>NaN</td>\n",
       "      <td>NaN</td>\n",
       "      <td>Heard about #earthquake is different cities, s...</td>\n",
       "    </tr>\n",
       "    <tr>\n",
       "      <th>2</th>\n",
       "      <td>3</td>\n",
       "      <td>NaN</td>\n",
       "      <td>NaN</td>\n",
       "      <td>there is a forest fire at spot pond, geese are...</td>\n",
       "    </tr>\n",
       "    <tr>\n",
       "      <th>3</th>\n",
       "      <td>9</td>\n",
       "      <td>NaN</td>\n",
       "      <td>NaN</td>\n",
       "      <td>Apocalypse lighting. #Spokane #wildfires</td>\n",
       "    </tr>\n",
       "    <tr>\n",
       "      <th>4</th>\n",
       "      <td>11</td>\n",
       "      <td>NaN</td>\n",
       "      <td>NaN</td>\n",
       "      <td>Typhoon Soudelor kills 28 in China and Taiwan</td>\n",
       "    </tr>\n",
       "  </tbody>\n",
       "</table>\n",
       "</div>"
      ],
      "text/plain": [
       "   id keyword location                                               text\n",
       "0   0     NaN      NaN                 Just happened a terrible car crash\n",
       "1   2     NaN      NaN  Heard about #earthquake is different cities, s...\n",
       "2   3     NaN      NaN  there is a forest fire at spot pond, geese are...\n",
       "3   9     NaN      NaN           Apocalypse lighting. #Spokane #wildfires\n",
       "4  11     NaN      NaN      Typhoon Soudelor kills 28 in China and Taiwan"
      ]
     },
     "execution_count": 5,
     "metadata": {},
     "output_type": "execute_result"
    }
   ],
   "source": [
    "test_df = pd.read_csv('../input/nlp-getting-started/test.csv')\n",
    "test_df.head()"
   ]
  },
  {
   "cell_type": "code",
   "execution_count": 6,
   "id": "66d581dc",
   "metadata": {
    "execution": {
     "iopub.execute_input": "2022-08-16T13:04:11.364199Z",
     "iopub.status.busy": "2022-08-16T13:04:11.363440Z",
     "iopub.status.idle": "2022-08-16T13:04:11.375649Z",
     "shell.execute_reply": "2022-08-16T13:04:11.374343Z"
    },
    "papermill": {
     "duration": 0.028286,
     "end_time": "2022-08-16T13:04:11.378376",
     "exception": false,
     "start_time": "2022-08-16T13:04:11.350090",
     "status": "completed"
    },
    "tags": []
   },
   "outputs": [
    {
     "name": "stdout",
     "output_type": "stream",
     "text": [
      "<class 'pandas.core.frame.DataFrame'>\n",
      "RangeIndex: 3263 entries, 0 to 3262\n",
      "Data columns (total 4 columns):\n",
      " #   Column    Non-Null Count  Dtype \n",
      "---  ------    --------------  ----- \n",
      " 0   id        3263 non-null   int64 \n",
      " 1   keyword   3237 non-null   object\n",
      " 2   location  2158 non-null   object\n",
      " 3   text      3263 non-null   object\n",
      "dtypes: int64(1), object(3)\n",
      "memory usage: 102.1+ KB\n"
     ]
    }
   ],
   "source": [
    "test_df.info()"
   ]
  },
  {
   "cell_type": "code",
   "execution_count": 7,
   "id": "4de358a7",
   "metadata": {
    "execution": {
     "iopub.execute_input": "2022-08-16T13:04:11.405752Z",
     "iopub.status.busy": "2022-08-16T13:04:11.405486Z",
     "iopub.status.idle": "2022-08-16T13:04:11.414155Z",
     "shell.execute_reply": "2022-08-16T13:04:11.413137Z"
    },
    "papermill": {
     "duration": 0.024127,
     "end_time": "2022-08-16T13:04:11.416157",
     "exception": false,
     "start_time": "2022-08-16T13:04:11.392030",
     "status": "completed"
    },
    "tags": []
   },
   "outputs": [
    {
     "data": {
      "text/plain": [
       "id             0\n",
       "keyword       26\n",
       "location    1105\n",
       "text           0\n",
       "dtype: int64"
      ]
     },
     "execution_count": 7,
     "metadata": {},
     "output_type": "execute_result"
    }
   ],
   "source": [
    "test_df.isnull().sum()"
   ]
  },
  {
   "cell_type": "markdown",
   "id": "13589f1f",
   "metadata": {
    "papermill": {
     "duration": 0.013272,
     "end_time": "2022-08-16T13:04:11.442275",
     "exception": false,
     "start_time": "2022-08-16T13:04:11.429003",
     "status": "completed"
    },
    "tags": []
   },
   "source": [
    "In the test data, location also has about a third of its data missing. I think I will be dropping this and keyword because I'm not sure how I would include either in a matrix of tokens."
   ]
  },
  {
   "cell_type": "code",
   "execution_count": 8,
   "id": "a16392f5",
   "metadata": {
    "execution": {
     "iopub.execute_input": "2022-08-16T13:04:11.470295Z",
     "iopub.status.busy": "2022-08-16T13:04:11.469958Z",
     "iopub.status.idle": "2022-08-16T13:04:11.474697Z",
     "shell.execute_reply": "2022-08-16T13:04:11.473530Z"
    },
    "papermill": {
     "duration": 0.020755,
     "end_time": "2022-08-16T13:04:11.476675",
     "exception": false,
     "start_time": "2022-08-16T13:04:11.455920",
     "status": "completed"
    },
    "tags": []
   },
   "outputs": [],
   "source": [
    "import matplotlib.pyplot as plt"
   ]
  },
  {
   "cell_type": "markdown",
   "id": "9b62300d",
   "metadata": {
    "papermill": {
     "duration": 0.01282,
     "end_time": "2022-08-16T13:04:11.502853",
     "exception": false,
     "start_time": "2022-08-16T13:04:11.490033",
     "status": "completed"
    },
    "tags": []
   },
   "source": [
    "Let's take a look at the target value breakdown:"
   ]
  },
  {
   "cell_type": "code",
   "execution_count": 9,
   "id": "6f6d906d",
   "metadata": {
    "execution": {
     "iopub.execute_input": "2022-08-16T13:04:11.530533Z",
     "iopub.status.busy": "2022-08-16T13:04:11.530174Z",
     "iopub.status.idle": "2022-08-16T13:04:11.648234Z",
     "shell.execute_reply": "2022-08-16T13:04:11.646833Z"
    },
    "papermill": {
     "duration": 0.136158,
     "end_time": "2022-08-16T13:04:11.652043",
     "exception": false,
     "start_time": "2022-08-16T13:04:11.515885",
     "status": "completed"
    },
    "tags": []
   },
   "outputs": [
    {
     "data": {
      "text/plain": [
       "<AxesSubplot:ylabel='target'>"
      ]
     },
     "execution_count": 9,
     "metadata": {},
     "output_type": "execute_result"
    },
    {
     "data": {
      "image/png": "[encoded data removed]",
      "text/plain": [
       "<Figure size 432x432 with 1 Axes>"
      ]
     },
     "metadata": {},
     "output_type": "display_data"
    }
   ],
   "source": [
    "plt.figure(figsize=(6,6))\n",
    "train_df['target'].value_counts(normalize=True).plot(kind=\"pie\", autopct='%1.1f%%')"
   ]
  },
  {
   "cell_type": "code",
   "execution_count": 10,
   "id": "f1c5b97e",
   "metadata": {
    "execution": {
     "iopub.execute_input": "2022-08-16T13:04:11.731816Z",
     "iopub.status.busy": "2022-08-16T13:04:11.731109Z",
     "iopub.status.idle": "2022-08-16T13:04:11.896643Z",
     "shell.execute_reply": "2022-08-16T13:04:11.895557Z"
    },
    "papermill": {
     "duration": 0.208075,
     "end_time": "2022-08-16T13:04:11.898825",
     "exception": false,
     "start_time": "2022-08-16T13:04:11.690750",
     "status": "completed"
    },
    "tags": []
   },
   "outputs": [
    {
     "data": {
      "text/plain": [
       "<AxesSubplot:>"
      ]
     },
     "execution_count": 10,
     "metadata": {},
     "output_type": "execute_result"
    },
    {
     "data": {
      "image/png": "[encoded data removed]",
      "text/plain": [
       "<Figure size 432x288 with 1 Axes>"
      ]
     },
     "metadata": {
      "needs_background": "light"
     },
     "output_type": "display_data"
    }
   ],
   "source": [
    "train_df['target'].value_counts().plot(kind='barh', color=['blue','red'])"
   ]
  },
  {
   "cell_type": "markdown",
   "id": "bbcecc0f",
   "metadata": {
    "papermill": {
     "duration": 0.013477,
     "end_time": "2022-08-16T13:04:11.926375",
     "exception": false,
     "start_time": "2022-08-16T13:04:11.912898",
     "status": "completed"
    },
    "tags": []
   },
   "source": [
    "About 57% not disaster and 43% disaster. It is a bit imbalance, but I won't worry about it this time."
   ]
  },
  {
   "cell_type": "code",
   "execution_count": 11,
   "id": "ee9a8dd5",
   "metadata": {
    "execution": {
     "iopub.execute_input": "2022-08-16T13:04:11.954794Z",
     "iopub.status.busy": "2022-08-16T13:04:11.953961Z",
     "iopub.status.idle": "2022-08-16T13:04:11.962217Z",
     "shell.execute_reply": "2022-08-16T13:04:11.961167Z"
    },
    "papermill": {
     "duration": 0.024567,
     "end_time": "2022-08-16T13:04:11.964292",
     "exception": false,
     "start_time": "2022-08-16T13:04:11.939725",
     "status": "completed"
    },
    "tags": []
   },
   "outputs": [
    {
     "data": {
      "text/plain": [
       "fatalities     45\n",
       "deluge         42\n",
       "armageddon     42\n",
       "sinking        41\n",
       "damage         41\n",
       "harm           41\n",
       "body%20bags    41\n",
       "outbreak       40\n",
       "evacuate       40\n",
       "fear           40\n",
       "Name: keyword, dtype: int64"
      ]
     },
     "execution_count": 11,
     "metadata": {},
     "output_type": "execute_result"
    }
   ],
   "source": [
    "train_df['keyword'].value_counts()[0:10]"
   ]
  },
  {
   "cell_type": "markdown",
   "id": "85ae3ec8",
   "metadata": {
    "papermill": {
     "duration": 0.014671,
     "end_time": "2022-08-16T13:04:11.993371",
     "exception": false,
     "start_time": "2022-08-16T13:04:11.978700",
     "status": "completed"
    },
    "tags": []
   },
   "source": [
    "Just a look at what the keywords are and how they might be used in another attempt."
   ]
  },
  {
   "cell_type": "markdown",
   "id": "4dbf8e6e",
   "metadata": {
    "papermill": {
     "duration": 0.013729,
     "end_time": "2022-08-16T13:04:12.021023",
     "exception": false,
     "start_time": "2022-08-16T13:04:12.007294",
     "status": "completed"
    },
    "tags": []
   },
   "source": [
    "# Cleaning Data"
   ]
  },
  {
   "cell_type": "markdown",
   "id": "61a8cf1c",
   "metadata": {
    "papermill": {
     "duration": 0.013302,
     "end_time": "2022-08-16T13:04:12.048463",
     "exception": false,
     "start_time": "2022-08-16T13:04:12.035161",
     "status": "completed"
    },
    "tags": []
   },
   "source": [
    "I see a lot of notebooks use this preprocessing pipeline or something very similar, so it must be popular and effective solution to this problem. I have one of the notebooks where I found it linked in the comment section below.\n",
    "\n",
    "It goes through a 9 step procress:\n",
    "\n",
    "1. removes any @ tagging\n",
    "2. removes any digits\n",
    "3. removes any hastag symbols\n",
    "4. removes links such as emails and websites\n",
    "5. removes anything that doesn't start with a character\n",
    "6. lower cases everything\n",
    "7. removes any stopwords\n",
    "8. lemmatize which turns words to their base words\n",
    "9. joins it all back together"
   ]
  },
  {
   "cell_type": "code",
   "execution_count": 12,
   "id": "40799553",
   "metadata": {
    "execution": {
     "iopub.execute_input": "2022-08-16T13:04:12.076616Z",
     "iopub.status.busy": "2022-08-16T13:04:12.076277Z",
     "iopub.status.idle": "2022-08-16T13:04:13.816968Z",
     "shell.execute_reply": "2022-08-16T13:04:13.815977Z"
    },
    "papermill": {
     "duration": 1.757661,
     "end_time": "2022-08-16T13:04:13.819450",
     "exception": false,
     "start_time": "2022-08-16T13:04:12.061789",
     "status": "completed"
    },
    "tags": []
   },
   "outputs": [
    {
     "name": "stderr",
     "output_type": "stream",
     "text": [
      "[nltk_data] Downloading package omw-1.4 to /usr/share/nltk_data...\n"
     ]
    }
   ],
   "source": [
    "# preprocessPipeline base from here: https://www.kaggle.com/code/alid3bs/lstm-vs-gru-vs-bidirectional/notebook\n",
    "import re\n",
    "from nltk.corpus import stopwords\n",
    "from nltk.stem import WordNetLemmatizer\n",
    "from nltk.corpus import wordnet\n",
    "\n",
    "import nltk\n",
    "nltk.download('omw-1.4')\n",
    "\n",
    "lemmatizer = WordNetLemmatizer()\n",
    "stop_words = stopwords.words('english')\n",
    "\n",
    "def preprocessPipline(data, labelName):\n",
    "    \n",
    "    dataTemp = data.copy()\n",
    "    dataTemp[labelName] = dataTemp[labelName].apply(lambda x: re.sub('(\\s*)@\\w+(\\s*)','', x))\n",
    "    dataTemp[labelName] = dataTemp[labelName].apply(lambda x: re.sub('\\d+','', x))\n",
    "    dataTemp[labelName] = dataTemp[labelName].apply(lambda x: re.sub('#','', x))\n",
    "    dataTemp[labelName] = dataTemp[labelName].apply(lambda x: re.sub('https?://\\S+|www\\.\\S+','',x))\n",
    "    dataTemp[labelName] = dataTemp[labelName].apply(lambda x: re.sub('[^A-Za-z]',' ',x))\n",
    "    dataTemp[labelName] = dataTemp[labelName].apply(lambda x: x.lower())\n",
    "    dataTemp[labelName] = dataTemp[labelName].apply(lambda x : [word for word in x.split()  if word not in stop_words])\n",
    "    dataTemp[labelName] = dataTemp[labelName].apply(lambda x: [lemmatizer.lemmatize(word) for word in x])\n",
    "    dataTemp[labelName] = dataTemp[labelName].apply(lambda x: ' '.join(x))\n",
    "    return dataTemp"
   ]
  },
  {
   "cell_type": "code",
   "execution_count": 13,
   "id": "d4fe2396",
   "metadata": {
    "execution": {
     "iopub.execute_input": "2022-08-16T13:04:13.849887Z",
     "iopub.status.busy": "2022-08-16T13:04:13.849514Z",
     "iopub.status.idle": "2022-08-16T13:04:16.223486Z",
     "shell.execute_reply": "2022-08-16T13:04:16.222534Z"
    },
    "papermill": {
     "duration": 2.390686,
     "end_time": "2022-08-16T13:04:16.225542",
     "exception": false,
     "start_time": "2022-08-16T13:04:13.834856",
     "status": "completed"
    },
    "tags": []
   },
   "outputs": [
    {
     "data": {
      "text/plain": [
       "0           deed reason earthquake may allah forgive u\n",
       "1                forest fire near la ronge sask canada\n",
       "2    resident asked shelter place notified officer ...\n",
       "3    people receive wildfire evacuation order calif...\n",
       "4    got sent photo ruby alaska smoke wildfire pour...\n",
       "Name: text, dtype: object"
      ]
     },
     "execution_count": 13,
     "metadata": {},
     "output_type": "execute_result"
    }
   ],
   "source": [
    "train_df_cleaned = preprocessPipline(train_df, \"text\")\n",
    "clean_text = train_df_cleaned['text']\n",
    "clean_text[0:5]"
   ]
  },
  {
   "cell_type": "markdown",
   "id": "a406dd79",
   "metadata": {
    "papermill": {
     "duration": 0.014006,
     "end_time": "2022-08-16T13:04:16.253856",
     "exception": false,
     "start_time": "2022-08-16T13:04:16.239850",
     "status": "completed"
    },
    "tags": []
   },
   "source": [
    "# Preparing Data"
   ]
  },
  {
   "cell_type": "markdown",
   "id": "1464e7ed",
   "metadata": {
    "papermill": {
     "duration": 0.013741,
     "end_time": "2022-08-16T13:04:16.281829",
     "exception": false,
     "start_time": "2022-08-16T13:04:16.268088",
     "status": "completed"
    },
    "tags": []
   },
   "source": [
    "Using tokenizer, we will turn the token counts into integer sequences to represent the order of words in the twitter posts with respect to the token in the tokenizer dictionary. Then padding makes it so all the sequences are the same length as the longest one."
   ]
  },
  {
   "cell_type": "code",
   "execution_count": 14,
   "id": "54b1ab87",
   "metadata": {
    "execution": {
     "iopub.execute_input": "2022-08-16T13:04:16.310873Z",
     "iopub.status.busy": "2022-08-16T13:04:16.310537Z",
     "iopub.status.idle": "2022-08-16T13:04:22.115863Z",
     "shell.execute_reply": "2022-08-16T13:04:22.114900Z"
    },
    "papermill": {
     "duration": 5.822303,
     "end_time": "2022-08-16T13:04:22.118069",
     "exception": false,
     "start_time": "2022-08-16T13:04:16.295766",
     "status": "completed"
    },
    "tags": []
   },
   "outputs": [
    {
     "data": {
      "text/plain": [
       "array([[3890,  486,  163, ...,    0,    0,    0],\n",
       "       [ 108,    2,  146, ...,    0,    0,    0],\n",
       "       [1515, 1401, 1681, ...,    0,    0,    0],\n",
       "       ...,\n",
       "       [ 631,  524,  417, ...,    0,    0,    0],\n",
       "       [  19,  993,  393, ...,    0,    0,    0],\n",
       "       [ 130,   18,  443, ...,    0,    0,    0]], dtype=int32)"
      ]
     },
     "execution_count": 14,
     "metadata": {},
     "output_type": "execute_result"
    }
   ],
   "source": [
    "from tensorflow.keras.preprocessing.text import Tokenizer\n",
    "from tensorflow.keras.preprocessing.sequence import pad_sequences\n",
    "\n",
    "tokenizer = Tokenizer(oov_token=\"unk\")\n",
    "tokenizer.fit_on_texts(clean_text)\n",
    "X = tokenizer.texts_to_sequences(clean_text)\n",
    "\n",
    "X = pad_sequences(X, padding='post',truncating='post')\n",
    "X"
   ]
  },
  {
   "cell_type": "code",
   "execution_count": 15,
   "id": "82600be6",
   "metadata": {
    "execution": {
     "iopub.execute_input": "2022-08-16T13:04:22.148641Z",
     "iopub.status.busy": "2022-08-16T13:04:22.148039Z",
     "iopub.status.idle": "2022-08-16T13:04:22.154252Z",
     "shell.execute_reply": "2022-08-16T13:04:22.153353Z"
    },
    "papermill": {
     "duration": 0.024088,
     "end_time": "2022-08-16T13:04:22.156412",
     "exception": false,
     "start_time": "2022-08-16T13:04:22.132324",
     "status": "completed"
    },
    "tags": []
   },
   "outputs": [
    {
     "data": {
      "text/plain": [
       "(7613, 23)"
      ]
     },
     "execution_count": 15,
     "metadata": {},
     "output_type": "execute_result"
    }
   ],
   "source": [
    "X.shape"
   ]
  },
  {
   "cell_type": "markdown",
   "id": "d9cc42a1",
   "metadata": {
    "papermill": {
     "duration": 0.014024,
     "end_time": "2022-08-16T13:04:22.184376",
     "exception": false,
     "start_time": "2022-08-16T13:04:22.170352",
     "status": "completed"
    },
    "tags": []
   },
   "source": [
    "We can see the longest post (minus stopwords) is 23 tokens long."
   ]
  },
  {
   "cell_type": "markdown",
   "id": "1e97dbe4",
   "metadata": {
    "papermill": {
     "duration": 0.0139,
     "end_time": "2022-08-16T13:04:22.212101",
     "exception": false,
     "start_time": "2022-08-16T13:04:22.198201",
     "status": "completed"
    },
    "tags": []
   },
   "source": [
    "We put the targets as their own series and split the data into train and validation set by 0.2 and keeping a proportional amount of Y."
   ]
  },
  {
   "cell_type": "code",
   "execution_count": 16,
   "id": "22a60940",
   "metadata": {
    "execution": {
     "iopub.execute_input": "2022-08-16T13:04:22.241480Z",
     "iopub.status.busy": "2022-08-16T13:04:22.241180Z",
     "iopub.status.idle": "2022-08-16T13:04:22.250042Z",
     "shell.execute_reply": "2022-08-16T13:04:22.249070Z"
    },
    "papermill": {
     "duration": 0.025821,
     "end_time": "2022-08-16T13:04:22.252282",
     "exception": false,
     "start_time": "2022-08-16T13:04:22.226461",
     "status": "completed"
    },
    "tags": []
   },
   "outputs": [
    {
     "data": {
      "text/plain": [
       "0       1\n",
       "1       1\n",
       "2       1\n",
       "3       1\n",
       "4       1\n",
       "       ..\n",
       "7608    1\n",
       "7609    1\n",
       "7610    1\n",
       "7611    1\n",
       "7612    1\n",
       "Name: target, Length: 7613, dtype: int64"
      ]
     },
     "execution_count": 16,
     "metadata": {},
     "output_type": "execute_result"
    }
   ],
   "source": [
    "Y = train_df_cleaned['target']\n",
    "Y "
   ]
  },
  {
   "cell_type": "code",
   "execution_count": 17,
   "id": "55a0301f",
   "metadata": {
    "execution": {
     "iopub.execute_input": "2022-08-16T13:04:22.282009Z",
     "iopub.status.busy": "2022-08-16T13:04:22.281465Z",
     "iopub.status.idle": "2022-08-16T13:04:22.295385Z",
     "shell.execute_reply": "2022-08-16T13:04:22.294431Z"
    },
    "papermill": {
     "duration": 0.030869,
     "end_time": "2022-08-16T13:04:22.297598",
     "exception": false,
     "start_time": "2022-08-16T13:04:22.266729",
     "status": "completed"
    },
    "tags": []
   },
   "outputs": [
    {
     "data": {
      "text/plain": [
       "(6090, 23)"
      ]
     },
     "execution_count": 17,
     "metadata": {},
     "output_type": "execute_result"
    }
   ],
   "source": [
    "from sklearn.model_selection import train_test_split\n",
    "x_train, x_val ,y_train ,y_val = train_test_split(X, Y, test_size=0.2, stratify=Y)\n",
    "x_train.shape"
   ]
  },
  {
   "cell_type": "code",
   "execution_count": 18,
   "id": "fb0ddb57",
   "metadata": {
    "execution": {
     "iopub.execute_input": "2022-08-16T13:04:22.327338Z",
     "iopub.status.busy": "2022-08-16T13:04:22.326484Z",
     "iopub.status.idle": "2022-08-16T13:04:22.332641Z",
     "shell.execute_reply": "2022-08-16T13:04:22.331675Z"
    },
    "papermill": {
     "duration": 0.022851,
     "end_time": "2022-08-16T13:04:22.334454",
     "exception": false,
     "start_time": "2022-08-16T13:04:22.311603",
     "status": "completed"
    },
    "tags": []
   },
   "outputs": [
    {
     "data": {
      "text/plain": [
       "12811"
      ]
     },
     "execution_count": 18,
     "metadata": {},
     "output_type": "execute_result"
    }
   ],
   "source": [
    "vocab_size = len(tokenizer.word_index)\n",
    "vocab_size"
   ]
  },
  {
   "cell_type": "markdown",
   "id": "97d2a098",
   "metadata": {
    "papermill": {
     "duration": 0.013862,
     "end_time": "2022-08-16T13:04:22.363037",
     "exception": false,
     "start_time": "2022-08-16T13:04:22.349175",
     "status": "completed"
    },
    "tags": []
   },
   "source": [
    "# Model Architecture"
   ]
  },
  {
   "cell_type": "code",
   "execution_count": 19,
   "id": "f152d7f9",
   "metadata": {
    "execution": {
     "iopub.execute_input": "2022-08-16T13:04:22.393109Z",
     "iopub.status.busy": "2022-08-16T13:04:22.392842Z",
     "iopub.status.idle": "2022-08-16T13:04:22.400290Z",
     "shell.execute_reply": "2022-08-16T13:04:22.399444Z"
    },
    "papermill": {
     "duration": 0.024578,
     "end_time": "2022-08-16T13:04:22.402292",
     "exception": false,
     "start_time": "2022-08-16T13:04:22.377714",
     "status": "completed"
    },
    "tags": []
   },
   "outputs": [],
   "source": [
    "import tensorflow as tf\n",
    "from tensorflow import keras\n",
    "from tensorflow.keras import layers\n",
    "from tensorflow.keras.layers import BatchNormalization\n",
    "from tensorflow.keras.models import Sequential\n",
    "from tensorflow.keras.layers import Input, Dropout, Flatten, Conv2D, MaxPooling2D, Dense, Activation\n",
    "from tensorflow.keras.optimizers import Adam\n",
    "from tensorflow.keras.callbacks import EarlyStopping, ReduceLROnPlateau"
   ]
  },
  {
   "cell_type": "markdown",
   "id": "3cc94ef9",
   "metadata": {
    "papermill": {
     "duration": 0.013844,
     "end_time": "2022-08-16T13:04:22.430545",
     "exception": false,
     "start_time": "2022-08-16T13:04:22.416701",
     "status": "completed"
    },
    "tags": []
   },
   "source": [
    "Some explanations for architecture choices:\n",
    "1. embedding apparently needs vocab_size + 1 according to keras documentation\n",
    "2. relus seem to work good previously, so I will be reusing them\n",
    "3. sigmoid with 1 output in the output layer because it is a binary classification problem\n",
    "3. Adam seems to work well in general so this will also be reused.\n",
    "4. I will be tuning number of hidden layers, drop out thresholds, and learning rates\n",
    "6. Will try versions where lstm is bidirectional and versions where it is not\n",
    "7. I pick LSTM for this problem, because sentences can be seen as time series data and it can help us deal with any vanishing gradient problems"
   ]
  },
  {
   "cell_type": "code",
   "execution_count": 20,
   "id": "cbe4f480",
   "metadata": {
    "execution": {
     "iopub.execute_input": "2022-08-16T13:04:22.460924Z",
     "iopub.status.busy": "2022-08-16T13:04:22.460625Z",
     "iopub.status.idle": "2022-08-16T13:04:25.913227Z",
     "shell.execute_reply": "2022-08-16T13:04:25.912032Z"
    },
    "papermill": {
     "duration": 3.470768,
     "end_time": "2022-08-16T13:04:25.915804",
     "exception": false,
     "start_time": "2022-08-16T13:04:22.445036",
     "status": "completed"
    },
    "tags": []
   },
   "outputs": [
    {
     "name": "stderr",
     "output_type": "stream",
     "text": [
      "2022-08-16 13:04:22.568660: I tensorflow/stream_executor/cuda/cuda_gpu_executor.cc:937] successful NUMA node read from SysFS had negative value (-1), but there must be at least one NUMA node, so returning NUMA node zero\n",
      "2022-08-16 13:04:22.720625: I tensorflow/stream_executor/cuda/cuda_gpu_executor.cc:937] successful NUMA node read from SysFS had negative value (-1), but there must be at least one NUMA node, so returning NUMA node zero\n",
      "2022-08-16 13:04:22.721487: I tensorflow/stream_executor/cuda/cuda_gpu_executor.cc:937] successful NUMA node read from SysFS had negative value (-1), but there must be at least one NUMA node, so returning NUMA node zero\n",
      "2022-08-16 13:04:22.722972: I tensorflow/core/platform/cpu_feature_guard.cc:142] This TensorFlow binary is optimized with oneAPI Deep Neural Network Library (oneDNN) to use the following CPU instructions in performance-critical operations:  AVX2 AVX512F FMA\n",
      "To enable them in other operations, rebuild TensorFlow with the appropriate compiler flags.\n",
      "2022-08-16 13:04:22.723334: I tensorflow/stream_executor/cuda/cuda_gpu_executor.cc:937] successful NUMA node read from SysFS had negative value (-1), but there must be at least one NUMA node, so returning NUMA node zero\n",
      "2022-08-16 13:04:22.724070: I tensorflow/stream_executor/cuda/cuda_gpu_executor.cc:937] successful NUMA node read from SysFS had negative value (-1), but there must be at least one NUMA node, so returning NUMA node zero\n",
      "2022-08-16 13:04:22.724812: I tensorflow/stream_executor/cuda/cuda_gpu_executor.cc:937] successful NUMA node read from SysFS had negative value (-1), but there must be at least one NUMA node, so returning NUMA node zero\n",
      "2022-08-16 13:04:25.226327: I tensorflow/stream_executor/cuda/cuda_gpu_executor.cc:937] successful NUMA node read from SysFS had negative value (-1), but there must be at least one NUMA node, so returning NUMA node zero\n",
      "2022-08-16 13:04:25.227382: I tensorflow/stream_executor/cuda/cuda_gpu_executor.cc:937] successful NUMA node read from SysFS had negative value (-1), but there must be at least one NUMA node, so returning NUMA node zero\n",
      "2022-08-16 13:04:25.228183: I tensorflow/stream_executor/cuda/cuda_gpu_executor.cc:937] successful NUMA node read from SysFS had negative value (-1), but there must be at least one NUMA node, so returning NUMA node zero\n",
      "2022-08-16 13:04:25.228825: I tensorflow/core/common_runtime/gpu/gpu_device.cc:1510] Created device /job:localhost/replica:0/task:0/device:GPU:0 with 15403 MB memory:  -> device: 0, name: Tesla P100-PCIE-16GB, pci bus id: 0000:00:04.0, compute capability: 6.0\n"
     ]
    },
    {
     "name": "stdout",
     "output_type": "stream",
     "text": [
      "Model: \"sequential\"\n",
      "_________________________________________________________________\n",
      "Layer (type)                 Output Shape              Param #   \n",
      "=================================================================\n",
      "embedding (Embedding)        (None, None, 64)          819968    \n",
      "_________________________________________________________________\n",
      "dropout (Dropout)            (None, None, 64)          0         \n",
      "_________________________________________________________________\n",
      "lstm (LSTM)                  (None, 64)                33024     \n",
      "_________________________________________________________________\n",
      "dense (Dense)                (None, 23)                1495      \n",
      "_________________________________________________________________\n",
      "dropout_1 (Dropout)          (None, 23)                0         \n",
      "_________________________________________________________________\n",
      "dense_1 (Dense)              (None, 23)                552       \n",
      "_________________________________________________________________\n",
      "dense_2 (Dense)              (None, 1)                 24        \n",
      "=================================================================\n",
      "Total params: 855,063\n",
      "Trainable params: 855,063\n",
      "Non-trainable params: 0\n",
      "_________________________________________________________________\n"
     ]
    }
   ],
   "source": [
    "lstm_model1 = Sequential([\n",
    "    layers.Embedding(vocab_size + 1,64),\n",
    "    Dropout(0.2),\n",
    "    layers.LSTM(64),\n",
    "    Dense(23, activation = 'relu'),\n",
    "    Dropout(0.2),\n",
    "    Dense(23, activation = 'relu'),\n",
    "    Dense(1, activation = 'sigmoid')\n",
    "])\n",
    "\n",
    "lstm_model1.compile(optimizer = Adam(learning_rate=0.001),\n",
    "                    loss=\"binary_crossentropy\", \n",
    "                    metrics = ['accuracy', tf.keras.metrics.AUC()])\n",
    "\n",
    "lstm_model1.summary()"
   ]
  },
  {
   "cell_type": "markdown",
   "id": "debdf526",
   "metadata": {
    "papermill": {
     "duration": 0.014342,
     "end_time": "2022-08-16T13:04:25.945533",
     "exception": false,
     "start_time": "2022-08-16T13:04:25.931191",
     "status": "completed"
    },
    "tags": []
   },
   "source": [
    "# Results"
   ]
  },
  {
   "cell_type": "code",
   "execution_count": 21,
   "id": "ad230c09",
   "metadata": {
    "execution": {
     "iopub.execute_input": "2022-08-16T13:04:25.976355Z",
     "iopub.status.busy": "2022-08-16T13:04:25.975532Z",
     "iopub.status.idle": "2022-08-16T13:04:43.276270Z",
     "shell.execute_reply": "2022-08-16T13:04:43.275329Z"
    },
    "papermill": {
     "duration": 17.318172,
     "end_time": "2022-08-16T13:04:43.278294",
     "exception": false,
     "start_time": "2022-08-16T13:04:25.960122",
     "status": "completed"
    },
    "tags": []
   },
   "outputs": [
    {
     "name": "stdout",
     "output_type": "stream",
     "text": [
      "Epoch 1/10\n"
     ]
    },
    {
     "name": "stderr",
     "output_type": "stream",
     "text": [
      "2022-08-16 13:04:26.029081: I tensorflow/compiler/mlir/mlir_graph_optimization_pass.cc:185] None of the MLIR Optimization Passes are enabled (registered 2)\n",
      "2022-08-16 13:04:28.971934: I tensorflow/stream_executor/cuda/cuda_dnn.cc:369] Loaded cuDNN version 8005\n"
     ]
    },
    {
     "name": "stdout",
     "output_type": "stream",
     "text": [
      "191/191 [==============================] - 6s 9ms/step - loss: 0.5629 - accuracy: 0.7010 - auc: 0.7603 - val_loss: 0.4855 - val_accuracy: 0.7919 - val_auc: 0.8613\n",
      "Epoch 2/10\n",
      "191/191 [==============================] - 2s 8ms/step - loss: 0.3333 - accuracy: 0.8722 - auc: 0.9232 - val_loss: 0.4457 - val_accuracy: 0.7932 - val_auc: 0.8638\n",
      "Epoch 3/10\n",
      "191/191 [==============================] - 1s 6ms/step - loss: 0.2109 - accuracy: 0.9266 - auc: 0.9643 - val_loss: 0.5027 - val_accuracy: 0.7669 - val_auc: 0.8483\n",
      "Epoch 4/10\n",
      "191/191 [==============================] - 1s 6ms/step - loss: 0.1534 - accuracy: 0.9519 - auc: 0.9792 - val_loss: 0.7110 - val_accuracy: 0.7676 - val_auc: 0.8432\n",
      "Epoch 5/10\n",
      "191/191 [==============================] - 1s 6ms/step - loss: 0.1151 - accuracy: 0.9635 - auc: 0.9851 - val_loss: 0.7609 - val_accuracy: 0.7761 - val_auc: 0.8213\n",
      "Epoch 6/10\n",
      "191/191 [==============================] - 1s 6ms/step - loss: 0.1001 - accuracy: 0.9665 - auc: 0.9879 - val_loss: 0.7538 - val_accuracy: 0.7774 - val_auc: 0.8247\n",
      "Epoch 7/10\n",
      "191/191 [==============================] - 1s 6ms/step - loss: 0.0869 - accuracy: 0.9703 - auc: 0.9905 - val_loss: 0.6266 - val_accuracy: 0.7853 - val_auc: 0.8347\n",
      "Epoch 8/10\n",
      "191/191 [==============================] - 1s 6ms/step - loss: 0.0754 - accuracy: 0.9731 - auc: 0.9931 - val_loss: 0.9288 - val_accuracy: 0.7735 - val_auc: 0.8080\n",
      "Epoch 9/10\n",
      "191/191 [==============================] - 1s 6ms/step - loss: 0.0710 - accuracy: 0.9741 - auc: 0.9946 - val_loss: 1.0590 - val_accuracy: 0.7623 - val_auc: 0.8106\n",
      "Epoch 10/10\n",
      "191/191 [==============================] - 1s 6ms/step - loss: 0.0719 - accuracy: 0.9745 - auc: 0.9950 - val_loss: 0.9335 - val_accuracy: 0.7636 - val_auc: 0.8109\n"
     ]
    }
   ],
   "source": [
    "lstm_model1_hist = lstm_model1.fit(x = x_train,\n",
    "                                   y = y_train,\n",
    "                                   validation_data = (x_val, y_val),\n",
    "                                   epochs = 10,\n",
    "                                   verbose = 1)"
   ]
  },
  {
   "cell_type": "code",
   "execution_count": 22,
   "id": "20145d89",
   "metadata": {
    "execution": {
     "iopub.execute_input": "2022-08-16T13:04:43.331836Z",
     "iopub.status.busy": "2022-08-16T13:04:43.331211Z",
     "iopub.status.idle": "2022-08-16T13:04:43.340546Z",
     "shell.execute_reply": "2022-08-16T13:04:43.339691Z"
    },
    "papermill": {
     "duration": 0.038046,
     "end_time": "2022-08-16T13:04:43.342667",
     "exception": false,
     "start_time": "2022-08-16T13:04:43.304621",
     "status": "completed"
    },
    "tags": []
   },
   "outputs": [],
   "source": [
    "def metrics_plot(history):\n",
    "    xs = np.arange(1, len(history['loss'])+1)\n",
    "    plt.figure(figsize=[16,4])\n",
    "    \n",
    "    plt.subplot(1,3,1)\n",
    "    plt.plot(xs, history['loss'], label='Training')\n",
    "    plt.plot(xs, history['val_loss'], label='Validation')\n",
    "    plt.xlabel('Epoch') \n",
    "    plt.ylabel('Loss') \n",
    "    plt.title('Loss')\n",
    "    plt.legend()\n",
    "    \n",
    "    plt.subplot(1,3,2)\n",
    "    plt.plot(xs, history['accuracy'], label='Training')\n",
    "    plt.plot(xs, history['val_accuracy'], label='Validation')\n",
    "    plt.xlabel('Epoch') \n",
    "    plt.ylabel('Accuracy')\n",
    "    plt.title('Accuracy')\n",
    "    plt.legend()\n",
    "    \n",
    "    plt.subplot(1,3,3)\n",
    "    plt.plot(xs, history[list(history.keys())[2]], label='Training')\n",
    "    plt.plot(xs, history[list(history.keys())[5]], label='Validation')\n",
    "    plt.xlabel('Epoch') \n",
    "    plt.ylabel('AUC') \n",
    "    plt.title('AUC')\n",
    "    plt.legend()\n",
    "    plt.tight_layout()\n",
    "    \n",
    "    plt.show()"
   ]
  },
  {
   "cell_type": "code",
   "execution_count": 23,
   "id": "5ff9141e",
   "metadata": {
    "execution": {
     "iopub.execute_input": "2022-08-16T13:04:43.394789Z",
     "iopub.status.busy": "2022-08-16T13:04:43.394507Z",
     "iopub.status.idle": "2022-08-16T13:04:44.123214Z",
     "shell.execute_reply": "2022-08-16T13:04:44.122099Z"
    },
    "papermill": {
     "duration": 0.757604,
     "end_time": "2022-08-16T13:04:44.125688",
     "exception": false,
     "start_time": "2022-08-16T13:04:43.368084",
     "status": "completed"
    },
    "tags": []
   },
   "outputs": [
    {
     "data": {
      "image/png": "[encoded data removed]",
      "text/plain": [
       "<Figure size 1152x288 with 3 Axes>"
      ]
     },
     "metadata": {
      "needs_background": "light"
     },
     "output_type": "display_data"
    }
   ],
   "source": [
    "metrics_plot(lstm_model1_hist.history)"
   ]
  },
  {
   "cell_type": "code",
   "execution_count": 24,
   "id": "b48e1622",
   "metadata": {
    "execution": {
     "iopub.execute_input": "2022-08-16T13:04:44.181995Z",
     "iopub.status.busy": "2022-08-16T13:04:44.181698Z",
     "iopub.status.idle": "2022-08-16T13:04:44.420901Z",
     "shell.execute_reply": "2022-08-16T13:04:44.418447Z"
    },
    "papermill": {
     "duration": 0.270799,
     "end_time": "2022-08-16T13:04:44.424161",
     "exception": false,
     "start_time": "2022-08-16T13:04:44.153362",
     "status": "completed"
    },
    "tags": []
   },
   "outputs": [
    {
     "name": "stdout",
     "output_type": "stream",
     "text": [
      "Model: \"sequential_1\"\n",
      "_________________________________________________________________\n",
      "Layer (type)                 Output Shape              Param #   \n",
      "=================================================================\n",
      "embedding_1 (Embedding)      (None, None, 64)          819968    \n",
      "_________________________________________________________________\n",
      "dropout_2 (Dropout)          (None, None, 64)          0         \n",
      "_________________________________________________________________\n",
      "lstm_1 (LSTM)                (None, 64)                33024     \n",
      "_________________________________________________________________\n",
      "dense_3 (Dense)              (None, 23)                1495      \n",
      "_________________________________________________________________\n",
      "dropout_3 (Dropout)          (None, 23)                0         \n",
      "_________________________________________________________________\n",
      "dense_4 (Dense)              (None, 23)                552       \n",
      "_________________________________________________________________\n",
      "dense_5 (Dense)              (None, 1)                 24        \n",
      "=================================================================\n",
      "Total params: 855,063\n",
      "Trainable params: 855,063\n",
      "Non-trainable params: 0\n",
      "_________________________________________________________________\n"
     ]
    }
   ],
   "source": [
    "lstm_model2 = Sequential([\n",
    "    layers.Embedding(vocab_size + 1,64),\n",
    "    Dropout(0.5),\n",
    "    layers.LSTM(64),\n",
    "    Dense(23, activation = 'relu'),\n",
    "    Dropout(0.5),\n",
    "    Dense(23, activation = 'relu'),\n",
    "    Dense(1, activation = 'sigmoid')\n",
    "])\n",
    "\n",
    "lstm_model2.compile(optimizer = Adam(learning_rate=0.001),\n",
    "                    loss=\"binary_crossentropy\", \n",
    "                    metrics = ['accuracy', tf.keras.metrics.AUC()])\n",
    "\n",
    "lstm_model2.summary()"
   ]
  },
  {
   "cell_type": "code",
   "execution_count": 25,
   "id": "107de3bb",
   "metadata": {
    "execution": {
     "iopub.execute_input": "2022-08-16T13:04:44.479743Z",
     "iopub.status.busy": "2022-08-16T13:04:44.479338Z",
     "iopub.status.idle": "2022-08-16T13:04:59.629153Z",
     "shell.execute_reply": "2022-08-16T13:04:59.627834Z"
    },
    "papermill": {
     "duration": 15.180615,
     "end_time": "2022-08-16T13:04:59.631945",
     "exception": false,
     "start_time": "2022-08-16T13:04:44.451330",
     "status": "completed"
    },
    "tags": []
   },
   "outputs": [
    {
     "name": "stdout",
     "output_type": "stream",
     "text": [
      "Epoch 1/10\n",
      "191/191 [==============================] - 3s 9ms/step - loss: 0.6481 - accuracy: 0.6176 - auc_1: 0.6235 - val_loss: 0.4785 - val_accuracy: 0.7846 - val_auc_1: 0.8446\n",
      "Epoch 2/10\n",
      "191/191 [==============================] - 1s 6ms/step - loss: 0.4280 - accuracy: 0.8287 - auc_1: 0.8734 - val_loss: 0.4418 - val_accuracy: 0.8011 - val_auc_1: 0.8670\n",
      "Epoch 3/10\n",
      "191/191 [==============================] - 1s 6ms/step - loss: 0.2990 - accuracy: 0.8888 - auc_1: 0.9369 - val_loss: 0.4917 - val_accuracy: 0.7984 - val_auc_1: 0.8623\n",
      "Epoch 4/10\n",
      "191/191 [==============================] - 1s 6ms/step - loss: 0.2265 - accuracy: 0.9256 - auc_1: 0.9606 - val_loss: 0.5010 - val_accuracy: 0.7905 - val_auc_1: 0.8572\n",
      "Epoch 5/10\n",
      "191/191 [==============================] - 1s 6ms/step - loss: 0.1778 - accuracy: 0.9443 - auc_1: 0.9731 - val_loss: 0.5130 - val_accuracy: 0.7945 - val_auc_1: 0.8537\n",
      "Epoch 6/10\n",
      "191/191 [==============================] - 1s 6ms/step - loss: 0.1450 - accuracy: 0.9544 - auc_1: 0.9828 - val_loss: 0.8228 - val_accuracy: 0.7774 - val_auc_1: 0.8279\n",
      "Epoch 7/10\n",
      "191/191 [==============================] - 2s 11ms/step - loss: 0.1181 - accuracy: 0.9585 - auc_1: 0.9889 - val_loss: 0.7944 - val_accuracy: 0.7505 - val_auc_1: 0.8301\n",
      "Epoch 8/10\n",
      "191/191 [==============================] - 1s 6ms/step - loss: 0.0989 - accuracy: 0.9644 - auc_1: 0.9922 - val_loss: 0.7869 - val_accuracy: 0.7722 - val_auc_1: 0.8308\n",
      "Epoch 9/10\n",
      "191/191 [==============================] - 1s 6ms/step - loss: 0.0883 - accuracy: 0.9655 - auc_1: 0.9942 - val_loss: 0.7995 - val_accuracy: 0.7676 - val_auc_1: 0.8256\n",
      "Epoch 10/10\n",
      "191/191 [==============================] - 1s 7ms/step - loss: 0.0743 - accuracy: 0.9714 - auc_1: 0.9955 - val_loss: 0.8797 - val_accuracy: 0.7630 - val_auc_1: 0.8203\n"
     ]
    }
   ],
   "source": [
    "lstm_model2_hist = lstm_model2.fit(x = x_train,\n",
    "                                   y = y_train,\n",
    "                                   validation_data = (x_val, y_val),\n",
    "                                   epochs = 10,\n",
    "                                   verbose = 1)"
   ]
  },
  {
   "cell_type": "code",
   "execution_count": 26,
   "id": "d5d51112",
   "metadata": {
    "execution": {
     "iopub.execute_input": "2022-08-16T13:04:59.708554Z",
     "iopub.status.busy": "2022-08-16T13:04:59.708114Z",
     "iopub.status.idle": "2022-08-16T13:05:00.231241Z",
     "shell.execute_reply": "2022-08-16T13:05:00.230267Z"
    },
    "papermill": {
     "duration": 0.563775,
     "end_time": "2022-08-16T13:05:00.233473",
     "exception": false,
     "start_time": "2022-08-16T13:04:59.669698",
     "status": "completed"
    },
    "tags": []
   },
   "outputs": [
    {
     "data": {
      "image/png": "[encoded data removed]",
      "text/plain": [
       "<Figure size 1152x288 with 3 Axes>"
      ]
     },
     "metadata": {
      "needs_background": "light"
     },
     "output_type": "display_data"
    }
   ],
   "source": [
    "metrics_plot(lstm_model2_hist.history)"
   ]
  },
  {
   "cell_type": "code",
   "execution_count": 27,
   "id": "69f480ba",
   "metadata": {
    "execution": {
     "iopub.execute_input": "2022-08-16T13:05:00.313284Z",
     "iopub.status.busy": "2022-08-16T13:05:00.312672Z",
     "iopub.status.idle": "2022-08-16T13:05:00.554825Z",
     "shell.execute_reply": "2022-08-16T13:05:00.552877Z"
    },
    "papermill": {
     "duration": 0.283846,
     "end_time": "2022-08-16T13:05:00.557165",
     "exception": false,
     "start_time": "2022-08-16T13:05:00.273319",
     "status": "completed"
    },
    "tags": []
   },
   "outputs": [
    {
     "name": "stdout",
     "output_type": "stream",
     "text": [
      "Model: \"sequential_2\"\n",
      "_________________________________________________________________\n",
      "Layer (type)                 Output Shape              Param #   \n",
      "=================================================================\n",
      "embedding_2 (Embedding)      (None, None, 64)          819968    \n",
      "_________________________________________________________________\n",
      "dropout_4 (Dropout)          (None, None, 64)          0         \n",
      "_________________________________________________________________\n",
      "lstm_2 (LSTM)                (None, 64)                33024     \n",
      "_________________________________________________________________\n",
      "dense_6 (Dense)              (None, 23)                1495      \n",
      "_________________________________________________________________\n",
      "dropout_5 (Dropout)          (None, 23)                0         \n",
      "_________________________________________________________________\n",
      "dense_7 (Dense)              (None, 23)                552       \n",
      "_________________________________________________________________\n",
      "dense_8 (Dense)              (None, 1)                 24        \n",
      "=================================================================\n",
      "Total params: 855,063\n",
      "Trainable params: 855,063\n",
      "Non-trainable params: 0\n",
      "_________________________________________________________________\n"
     ]
    }
   ],
   "source": [
    "lstm_model3 = Sequential([\n",
    "    layers.Embedding(vocab_size + 1,64),\n",
    "    Dropout(0.5),\n",
    "    layers.LSTM(64),\n",
    "    Dense(23, activation = 'relu'),\n",
    "    Dropout(0.5),\n",
    "    Dense(23, activation = 'relu'),\n",
    "    Dense(1, activation = 'sigmoid')\n",
    "])\n",
    "\n",
    "lstm_model3.compile(optimizer = Adam(learning_rate=0.0001),\n",
    "                    loss=\"binary_crossentropy\", \n",
    "                    metrics = ['accuracy', tf.keras.metrics.AUC()])\n",
    "\n",
    "lstm_model3.summary()"
   ]
  },
  {
   "cell_type": "code",
   "execution_count": 28,
   "id": "f0565ec1",
   "metadata": {
    "execution": {
     "iopub.execute_input": "2022-08-16T13:05:00.640576Z",
     "iopub.status.busy": "2022-08-16T13:05:00.640245Z",
     "iopub.status.idle": "2022-08-16T13:05:15.080999Z",
     "shell.execute_reply": "2022-08-16T13:05:15.079721Z"
    },
    "papermill": {
     "duration": 14.485115,
     "end_time": "2022-08-16T13:05:15.083443",
     "exception": false,
     "start_time": "2022-08-16T13:05:00.598328",
     "status": "completed"
    },
    "tags": []
   },
   "outputs": [
    {
     "name": "stdout",
     "output_type": "stream",
     "text": [
      "Epoch 1/10\n",
      "191/191 [==============================] - 3s 9ms/step - loss: 0.6874 - accuracy: 0.5626 - auc_2: 0.5058 - val_loss: 0.6824 - val_accuracy: 0.5706 - val_auc_2: 0.5956\n",
      "Epoch 2/10\n",
      "191/191 [==============================] - 1s 6ms/step - loss: 0.6781 - accuracy: 0.5703 - auc_2: 0.5510 - val_loss: 0.6459 - val_accuracy: 0.5706 - val_auc_2: 0.7510\n",
      "Epoch 3/10\n",
      "191/191 [==============================] - 1s 8ms/step - loss: 0.5466 - accuracy: 0.7461 - auc_2: 0.8127 - val_loss: 0.4828 - val_accuracy: 0.7840 - val_auc_2: 0.8524\n",
      "Epoch 4/10\n",
      "191/191 [==============================] - 1s 6ms/step - loss: 0.4200 - accuracy: 0.8365 - auc_2: 0.8796 - val_loss: 0.4532 - val_accuracy: 0.7978 - val_auc_2: 0.8606\n",
      "Epoch 5/10\n",
      "191/191 [==============================] - 1s 6ms/step - loss: 0.3602 - accuracy: 0.8626 - auc_2: 0.9104 - val_loss: 0.4578 - val_accuracy: 0.7978 - val_auc_2: 0.8618\n",
      "Epoch 6/10\n",
      "191/191 [==============================] - 1s 6ms/step - loss: 0.3274 - accuracy: 0.8803 - auc_2: 0.9270 - val_loss: 0.4519 - val_accuracy: 0.7958 - val_auc_2: 0.8648\n",
      "Epoch 7/10\n",
      "191/191 [==============================] - 1s 6ms/step - loss: 0.2899 - accuracy: 0.8952 - auc_2: 0.9439 - val_loss: 0.4736 - val_accuracy: 0.7886 - val_auc_2: 0.8639\n",
      "Epoch 8/10\n",
      "191/191 [==============================] - 1s 6ms/step - loss: 0.2664 - accuracy: 0.9049 - auc_2: 0.9513 - val_loss: 0.5198 - val_accuracy: 0.7853 - val_auc_2: 0.8598\n",
      "Epoch 9/10\n",
      "191/191 [==============================] - 1s 6ms/step - loss: 0.2376 - accuracy: 0.9195 - auc_2: 0.9609 - val_loss: 0.5147 - val_accuracy: 0.7840 - val_auc_2: 0.8606\n",
      "Epoch 10/10\n",
      "191/191 [==============================] - 1s 6ms/step - loss: 0.2163 - accuracy: 0.9269 - auc_2: 0.9675 - val_loss: 0.5260 - val_accuracy: 0.7866 - val_auc_2: 0.8595\n"
     ]
    }
   ],
   "source": [
    "lstm_model3_hist = lstm_model3.fit(x = x_train,\n",
    "                                   y = y_train,\n",
    "                                   validation_data = (x_val, y_val),\n",
    "                                   epochs = 10,\n",
    "                                   verbose = 1)"
   ]
  },
  {
   "cell_type": "code",
   "execution_count": 29,
   "id": "24ea3486",
   "metadata": {
    "execution": {
     "iopub.execute_input": "2022-08-16T13:05:15.187435Z",
     "iopub.status.busy": "2022-08-16T13:05:15.185882Z",
     "iopub.status.idle": "2022-08-16T13:05:15.688454Z",
     "shell.execute_reply": "2022-08-16T13:05:15.687420Z"
    },
    "papermill": {
     "duration": 0.555662,
     "end_time": "2022-08-16T13:05:15.690845",
     "exception": false,
     "start_time": "2022-08-16T13:05:15.135183",
     "status": "completed"
    },
    "tags": []
   },
   "outputs": [
    {
     "data": {
      "image/png": "[encoded data removed]",
      "text/plain": [
       "<Figure size 1152x288 with 3 Axes>"
      ]
     },
     "metadata": {
      "needs_background": "light"
     },
     "output_type": "display_data"
    }
   ],
   "source": [
    "metrics_plot(lstm_model3_hist.history)"
   ]
  },
  {
   "cell_type": "code",
   "execution_count": 30,
   "id": "42af69a3",
   "metadata": {
    "execution": {
     "iopub.execute_input": "2022-08-16T13:05:15.794672Z",
     "iopub.status.busy": "2022-08-16T13:05:15.793823Z",
     "iopub.status.idle": "2022-08-16T13:05:16.035496Z",
     "shell.execute_reply": "2022-08-16T13:05:16.034435Z"
    },
    "papermill": {
     "duration": 0.294412,
     "end_time": "2022-08-16T13:05:16.038205",
     "exception": false,
     "start_time": "2022-08-16T13:05:15.743793",
     "status": "completed"
    },
    "tags": []
   },
   "outputs": [
    {
     "name": "stdout",
     "output_type": "stream",
     "text": [
      "Model: \"sequential_3\"\n",
      "_________________________________________________________________\n",
      "Layer (type)                 Output Shape              Param #   \n",
      "=================================================================\n",
      "embedding_3 (Embedding)      (None, None, 64)          819968    \n",
      "_________________________________________________________________\n",
      "dropout_6 (Dropout)          (None, None, 64)          0         \n",
      "_________________________________________________________________\n",
      "lstm_3 (LSTM)                (None, 64)                33024     \n",
      "_________________________________________________________________\n",
      "dense_9 (Dense)              (None, 23)                1495      \n",
      "_________________________________________________________________\n",
      "dropout_7 (Dropout)          (None, 23)                0         \n",
      "_________________________________________________________________\n",
      "dense_10 (Dense)             (None, 23)                552       \n",
      "_________________________________________________________________\n",
      "dense_11 (Dense)             (None, 1)                 24        \n",
      "=================================================================\n",
      "Total params: 855,063\n",
      "Trainable params: 855,063\n",
      "Non-trainable params: 0\n",
      "_________________________________________________________________\n"
     ]
    }
   ],
   "source": [
    "lstm_model4 = Sequential([\n",
    "    layers.Embedding(vocab_size + 1,64),\n",
    "    Dropout(0.2),\n",
    "    layers.LSTM(64),\n",
    "    Dense(23, activation = 'relu'),\n",
    "    Dropout(0.2),\n",
    "    Dense(23, activation = 'relu'),\n",
    "    Dense(1, activation = 'sigmoid')\n",
    "])\n",
    "\n",
    "lstm_model4.compile(optimizer = Adam(learning_rate=0.0001),\n",
    "                    loss=\"binary_crossentropy\", \n",
    "                    metrics = ['accuracy', tf.keras.metrics.AUC()])\n",
    "\n",
    "lstm_model4.summary()"
   ]
  },
  {
   "cell_type": "code",
   "execution_count": 31,
   "id": "129fae93",
   "metadata": {
    "execution": {
     "iopub.execute_input": "2022-08-16T13:05:16.142003Z",
     "iopub.status.busy": "2022-08-16T13:05:16.141676Z",
     "iopub.status.idle": "2022-08-16T13:05:31.047994Z",
     "shell.execute_reply": "2022-08-16T13:05:31.046810Z"
    },
    "papermill": {
     "duration": 14.961115,
     "end_time": "2022-08-16T13:05:31.050580",
     "exception": false,
     "start_time": "2022-08-16T13:05:16.089465",
     "status": "completed"
    },
    "tags": []
   },
   "outputs": [
    {
     "name": "stdout",
     "output_type": "stream",
     "text": [
      "Epoch 1/10\n",
      "191/191 [==============================] - 4s 9ms/step - loss: 0.6859 - accuracy: 0.5703 - auc_3: 0.5024 - val_loss: 0.6804 - val_accuracy: 0.5706 - val_auc_3: 0.6121\n",
      "Epoch 2/10\n",
      "191/191 [==============================] - 1s 6ms/step - loss: 0.6555 - accuracy: 0.5941 - auc_3: 0.6694 - val_loss: 0.5763 - val_accuracy: 0.7636 - val_auc_3: 0.8312\n",
      "Epoch 3/10\n",
      "191/191 [==============================] - 1s 6ms/step - loss: 0.4751 - accuracy: 0.8222 - auc_3: 0.8703 - val_loss: 0.4771 - val_accuracy: 0.7879 - val_auc_3: 0.8494\n",
      "Epoch 4/10\n",
      "191/191 [==============================] - 1s 6ms/step - loss: 0.3432 - accuracy: 0.8675 - auc_3: 0.9226 - val_loss: 0.4730 - val_accuracy: 0.7971 - val_auc_3: 0.8540\n",
      "Epoch 5/10\n",
      "191/191 [==============================] - 1s 6ms/step - loss: 0.2766 - accuracy: 0.9026 - auc_3: 0.9466 - val_loss: 0.5238 - val_accuracy: 0.7702 - val_auc_3: 0.8539\n",
      "Epoch 6/10\n",
      "191/191 [==============================] - 1s 6ms/step - loss: 0.2209 - accuracy: 0.9268 - auc_3: 0.9647 - val_loss: 0.5823 - val_accuracy: 0.7695 - val_auc_3: 0.8491\n",
      "Epoch 7/10\n",
      "191/191 [==============================] - 1s 6ms/step - loss: 0.1886 - accuracy: 0.9392 - auc_3: 0.9728 - val_loss: 0.6099 - val_accuracy: 0.7728 - val_auc_3: 0.8442\n",
      "Epoch 8/10\n",
      "191/191 [==============================] - 2s 8ms/step - loss: 0.1616 - accuracy: 0.9486 - auc_3: 0.9789 - val_loss: 0.6029 - val_accuracy: 0.7748 - val_auc_3: 0.8430\n",
      "Epoch 9/10\n",
      "191/191 [==============================] - 1s 6ms/step - loss: 0.1394 - accuracy: 0.9540 - auc_3: 0.9844 - val_loss: 0.6906 - val_accuracy: 0.7551 - val_auc_3: 0.8378\n",
      "Epoch 10/10\n",
      "191/191 [==============================] - 1s 6ms/step - loss: 0.1235 - accuracy: 0.9608 - auc_3: 0.9872 - val_loss: 0.7018 - val_accuracy: 0.7722 - val_auc_3: 0.8349\n"
     ]
    }
   ],
   "source": [
    "lstm_model4_hist = lstm_model4.fit(x = x_train,\n",
    "                                   y = y_train,\n",
    "                                   validation_data = (x_val, y_val),\n",
    "                                   epochs = 10,\n",
    "                                   verbose = 1)"
   ]
  },
  {
   "cell_type": "code",
   "execution_count": 32,
   "id": "9427832b",
   "metadata": {
    "execution": {
     "iopub.execute_input": "2022-08-16T13:05:31.176606Z",
     "iopub.status.busy": "2022-08-16T13:05:31.175677Z",
     "iopub.status.idle": "2022-08-16T13:05:31.682901Z",
     "shell.execute_reply": "2022-08-16T13:05:31.681488Z"
    },
    "papermill": {
     "duration": 0.572964,
     "end_time": "2022-08-16T13:05:31.686147",
     "exception": false,
     "start_time": "2022-08-16T13:05:31.113183",
     "status": "completed"
    },
    "tags": []
   },
   "outputs": [
    {
     "data": {
      "image/png": "[encoded data removed]",
      "text/plain": [
       "<Figure size 1152x288 with 3 Axes>"
      ]
     },
     "metadata": {
      "needs_background": "light"
     },
     "output_type": "display_data"
    }
   ],
   "source": [
    "metrics_plot(lstm_model4_hist.history)"
   ]
  },
  {
   "cell_type": "code",
   "execution_count": 33,
   "id": "e88d846d",
   "metadata": {
    "execution": {
     "iopub.execute_input": "2022-08-16T13:05:31.900537Z",
     "iopub.status.busy": "2022-08-16T13:05:31.899957Z",
     "iopub.status.idle": "2022-08-16T13:05:47.010045Z",
     "shell.execute_reply": "2022-08-16T13:05:47.009030Z"
    },
    "papermill": {
     "duration": 15.207427,
     "end_time": "2022-08-16T13:05:47.012472",
     "exception": false,
     "start_time": "2022-08-16T13:05:31.805045",
     "status": "completed"
    },
    "tags": []
   },
   "outputs": [
    {
     "name": "stdout",
     "output_type": "stream",
     "text": [
      "Model: \"sequential_4\"\n",
      "_________________________________________________________________\n",
      "Layer (type)                 Output Shape              Param #   \n",
      "=================================================================\n",
      "embedding_4 (Embedding)      (None, None, 64)          819968    \n",
      "_________________________________________________________________\n",
      "dropout_8 (Dropout)          (None, None, 64)          0         \n",
      "_________________________________________________________________\n",
      "lstm_4 (LSTM)                (None, 64)                33024     \n",
      "_________________________________________________________________\n",
      "dense_12 (Dense)             (None, 23)                1495      \n",
      "_________________________________________________________________\n",
      "dense_13 (Dense)             (None, 1)                 24        \n",
      "=================================================================\n",
      "Total params: 854,511\n",
      "Trainable params: 854,511\n",
      "Non-trainable params: 0\n",
      "_________________________________________________________________\n",
      "Epoch 1/10\n",
      "191/191 [==============================] - 4s 10ms/step - loss: 0.6834 - accuracy: 0.5704 - auc_4: 0.5274 - val_loss: 0.6731 - val_accuracy: 0.5706 - val_auc_4: 0.6653\n",
      "Epoch 2/10\n",
      "191/191 [==============================] - 1s 6ms/step - loss: 0.5522 - accuracy: 0.7118 - auc_4: 0.8060 - val_loss: 0.4752 - val_accuracy: 0.7866 - val_auc_4: 0.8506\n",
      "Epoch 3/10\n",
      "191/191 [==============================] - 1s 6ms/step - loss: 0.3671 - accuracy: 0.8486 - auc_4: 0.9107 - val_loss: 0.4675 - val_accuracy: 0.7919 - val_auc_4: 0.8595\n",
      "Epoch 4/10\n",
      "191/191 [==============================] - 1s 8ms/step - loss: 0.2965 - accuracy: 0.8837 - auc_4: 0.9407 - val_loss: 0.4729 - val_accuracy: 0.7945 - val_auc_4: 0.8609\n",
      "Epoch 5/10\n",
      "191/191 [==============================] - 1s 6ms/step - loss: 0.2391 - accuracy: 0.9143 - auc_4: 0.9596 - val_loss: 0.5087 - val_accuracy: 0.7866 - val_auc_4: 0.8585\n",
      "Epoch 6/10\n",
      "191/191 [==============================] - 1s 6ms/step - loss: 0.1985 - accuracy: 0.9282 - auc_4: 0.9710 - val_loss: 0.5461 - val_accuracy: 0.7820 - val_auc_4: 0.8562\n",
      "Epoch 7/10\n",
      "191/191 [==============================] - 1s 6ms/step - loss: 0.1692 - accuracy: 0.9425 - auc_4: 0.9772 - val_loss: 0.5974 - val_accuracy: 0.7735 - val_auc_4: 0.8505\n",
      "Epoch 8/10\n",
      "191/191 [==============================] - 1s 6ms/step - loss: 0.1408 - accuracy: 0.9522 - auc_4: 0.9832 - val_loss: 0.6577 - val_accuracy: 0.7748 - val_auc_4: 0.8444\n",
      "Epoch 9/10\n",
      "191/191 [==============================] - 1s 6ms/step - loss: 0.1264 - accuracy: 0.9575 - auc_4: 0.9862 - val_loss: 0.6878 - val_accuracy: 0.7702 - val_auc_4: 0.8403\n",
      "Epoch 10/10\n",
      "191/191 [==============================] - 1s 6ms/step - loss: 0.1177 - accuracy: 0.9621 - auc_4: 0.9876 - val_loss: 0.7555 - val_accuracy: 0.7695 - val_auc_4: 0.8347\n"
     ]
    }
   ],
   "source": [
    "lstm_model5 = Sequential([\n",
    "    layers.Embedding(vocab_size + 1,64),\n",
    "    Dropout(0.2),\n",
    "    layers.LSTM(64),\n",
    "    Dense(23, activation = 'relu'),\n",
    "    Dense(1, activation = 'sigmoid')\n",
    "])\n",
    "\n",
    "lstm_model5.compile(optimizer = Adam(learning_rate=0.0001),\n",
    "                    loss=\"binary_crossentropy\", \n",
    "                    metrics = ['accuracy', tf.keras.metrics.AUC()])\n",
    "\n",
    "lstm_model5.summary()\n",
    "\n",
    "lstm_model5_hist = lstm_model5.fit(x = x_train,\n",
    "                                   y = y_train,\n",
    "                                   validation_data = (x_val, y_val),\n",
    "                                   epochs = 10,\n",
    "                                   verbose = 1)"
   ]
  },
  {
   "cell_type": "code",
   "execution_count": 34,
   "id": "21497898",
   "metadata": {
    "execution": {
     "iopub.execute_input": "2022-08-16T13:05:47.162949Z",
     "iopub.status.busy": "2022-08-16T13:05:47.162583Z",
     "iopub.status.idle": "2022-08-16T13:05:47.656505Z",
     "shell.execute_reply": "2022-08-16T13:05:47.655588Z"
    },
    "papermill": {
     "duration": 0.571092,
     "end_time": "2022-08-16T13:05:47.658591",
     "exception": false,
     "start_time": "2022-08-16T13:05:47.087499",
     "status": "completed"
    },
    "tags": []
   },
   "outputs": [
    {
     "data": {
      "image/png": "[encoded data removed]",
      "text/plain": [
       "<Figure size 1152x288 with 3 Axes>"
      ]
     },
     "metadata": {
      "needs_background": "light"
     },
     "output_type": "display_data"
    }
   ],
   "source": [
    "metrics_plot(lstm_model5_hist.history)"
   ]
  },
  {
   "cell_type": "markdown",
   "id": "35bfc85c",
   "metadata": {
    "papermill": {
     "duration": 0.073145,
     "end_time": "2022-08-16T13:05:47.805516",
     "exception": false,
     "start_time": "2022-08-16T13:05:47.732371",
     "status": "completed"
    },
    "tags": []
   },
   "source": [
    "So far these results have not been very interesting. There isn't much variation in results, but let's try to see if it's different if we make the lstm bidirectional."
   ]
  },
  {
   "cell_type": "code",
   "execution_count": 35,
   "id": "6eee76bc",
   "metadata": {
    "execution": {
     "iopub.execute_input": "2022-08-16T13:05:47.955583Z",
     "iopub.status.busy": "2022-08-16T13:05:47.955154Z",
     "iopub.status.idle": "2022-08-16T13:06:11.655049Z",
     "shell.execute_reply": "2022-08-16T13:06:11.653912Z"
    },
    "papermill": {
     "duration": 23.77816,
     "end_time": "2022-08-16T13:06:11.658165",
     "exception": false,
     "start_time": "2022-08-16T13:05:47.880005",
     "status": "completed"
    },
    "tags": []
   },
   "outputs": [
    {
     "name": "stdout",
     "output_type": "stream",
     "text": [
      "Model: \"sequential_5\"\n",
      "_________________________________________________________________\n",
      "Layer (type)                 Output Shape              Param #   \n",
      "=================================================================\n",
      "embedding_5 (Embedding)      (None, None, 128)         1639936   \n",
      "_________________________________________________________________\n",
      "dropout_9 (Dropout)          (None, None, 128)         0         \n",
      "_________________________________________________________________\n",
      "bidirectional (Bidirectional (None, 128)               98816     \n",
      "_________________________________________________________________\n",
      "dense_14 (Dense)             (None, 23)                2967      \n",
      "_________________________________________________________________\n",
      "dense_15 (Dense)             (None, 1)                 24        \n",
      "=================================================================\n",
      "Total params: 1,741,743\n",
      "Trainable params: 1,741,743\n",
      "Non-trainable params: 0\n",
      "_________________________________________________________________\n",
      "Epoch 1/10\n",
      "191/191 [==============================] - 5s 12ms/step - loss: 0.6801 - accuracy: 0.5645 - auc_5: 0.5439 - val_loss: 0.6614 - val_accuracy: 0.5726 - val_auc_5: 0.6854\n",
      "Epoch 2/10\n",
      "191/191 [==============================] - 2s 8ms/step - loss: 0.6163 - accuracy: 0.6834 - auc_5: 0.7386 - val_loss: 0.5527 - val_accuracy: 0.7360 - val_auc_5: 0.7912\n",
      "Epoch 3/10\n",
      "191/191 [==============================] - 2s 8ms/step - loss: 0.4372 - accuracy: 0.8174 - auc_5: 0.8778 - val_loss: 0.4519 - val_accuracy: 0.7951 - val_auc_5: 0.8632\n",
      "Epoch 4/10\n",
      "191/191 [==============================] - 2s 8ms/step - loss: 0.3233 - accuracy: 0.8696 - auc_5: 0.9328 - val_loss: 0.4388 - val_accuracy: 0.8063 - val_auc_5: 0.8686\n",
      "Epoch 5/10\n",
      "191/191 [==============================] - 2s 8ms/step - loss: 0.2693 - accuracy: 0.8967 - auc_5: 0.9532 - val_loss: 0.4525 - val_accuracy: 0.8024 - val_auc_5: 0.8685\n",
      "Epoch 6/10\n",
      "191/191 [==============================] - 2s 9ms/step - loss: 0.2162 - accuracy: 0.9215 - auc_5: 0.9690 - val_loss: 0.4974 - val_accuracy: 0.8011 - val_auc_5: 0.8656\n",
      "Epoch 7/10\n",
      "191/191 [==============================] - 2s 8ms/step - loss: 0.1779 - accuracy: 0.9337 - auc_5: 0.9769 - val_loss: 0.5399 - val_accuracy: 0.7899 - val_auc_5: 0.8597\n",
      "Epoch 8/10\n",
      "191/191 [==============================] - 2s 8ms/step - loss: 0.1476 - accuracy: 0.9486 - auc_5: 0.9830 - val_loss: 0.6066 - val_accuracy: 0.7741 - val_auc_5: 0.8536\n",
      "Epoch 9/10\n",
      "191/191 [==============================] - 2s 8ms/step - loss: 0.1244 - accuracy: 0.9573 - auc_5: 0.9868 - val_loss: 0.6383 - val_accuracy: 0.7774 - val_auc_5: 0.8485\n",
      "Epoch 10/10\n",
      "191/191 [==============================] - 2s 10ms/step - loss: 0.1109 - accuracy: 0.9624 - auc_5: 0.9892 - val_loss: 0.6522 - val_accuracy: 0.7774 - val_auc_5: 0.8455\n"
     ]
    }
   ],
   "source": [
    "bid_model1 = Sequential([\n",
    "    layers.Embedding(vocab_size + 1,128),\n",
    "    Dropout(0.2),\n",
    "    layers.Bidirectional(layers.LSTM(64)),\n",
    "    Dense(23, activation = 'relu'),\n",
    "    Dense(1, activation = 'sigmoid')\n",
    "])\n",
    "\n",
    "bid_model1.compile(optimizer = Adam(learning_rate=0.0001),\n",
    "                    loss=\"binary_crossentropy\", \n",
    "                    metrics = ['accuracy', tf.keras.metrics.AUC()])\n",
    "\n",
    "bid_model1.summary()\n",
    "\n",
    "bid_model1_hist = bid_model1.fit(x = x_train,\n",
    "                                   y = y_train,\n",
    "                                   validation_data = (x_val, y_val),\n",
    "                                   epochs = 10,\n",
    "                                 verbose = 1)"
   ]
  },
  {
   "cell_type": "code",
   "execution_count": 36,
   "id": "2df51ff8",
   "metadata": {
    "execution": {
     "iopub.execute_input": "2022-08-16T13:06:11.947215Z",
     "iopub.status.busy": "2022-08-16T13:06:11.946564Z",
     "iopub.status.idle": "2022-08-16T13:06:12.450973Z",
     "shell.execute_reply": "2022-08-16T13:06:12.449906Z"
    },
    "papermill": {
     "duration": 0.647968,
     "end_time": "2022-08-16T13:06:12.453377",
     "exception": false,
     "start_time": "2022-08-16T13:06:11.805409",
     "status": "completed"
    },
    "tags": []
   },
   "outputs": [
    {
     "data": {
      "image/png": "[encoded data removed]",
      "text/plain": [
       "<Figure size 1152x288 with 3 Axes>"
      ]
     },
     "metadata": {
      "needs_background": "light"
     },
     "output_type": "display_data"
    }
   ],
   "source": [
    "metrics_plot(bid_model1_hist.history)"
   ]
  },
  {
   "cell_type": "code",
   "execution_count": 37,
   "id": "461ac573",
   "metadata": {
    "execution": {
     "iopub.execute_input": "2022-08-16T13:06:12.633695Z",
     "iopub.status.busy": "2022-08-16T13:06:12.633313Z",
     "iopub.status.idle": "2022-08-16T13:06:31.773107Z",
     "shell.execute_reply": "2022-08-16T13:06:31.772157Z"
    },
    "papermill": {
     "duration": 19.232155,
     "end_time": "2022-08-16T13:06:31.775502",
     "exception": false,
     "start_time": "2022-08-16T13:06:12.543347",
     "status": "completed"
    },
    "tags": []
   },
   "outputs": [
    {
     "name": "stdout",
     "output_type": "stream",
     "text": [
      "Model: \"sequential_6\"\n",
      "_________________________________________________________________\n",
      "Layer (type)                 Output Shape              Param #   \n",
      "=================================================================\n",
      "embedding_6 (Embedding)      (None, None, 128)         1639936   \n",
      "_________________________________________________________________\n",
      "dropout_10 (Dropout)         (None, None, 128)         0         \n",
      "_________________________________________________________________\n",
      "bidirectional_1 (Bidirection (None, 128)               98816     \n",
      "_________________________________________________________________\n",
      "dense_16 (Dense)             (None, 1)                 129       \n",
      "=================================================================\n",
      "Total params: 1,738,881\n",
      "Trainable params: 1,738,881\n",
      "Non-trainable params: 0\n",
      "_________________________________________________________________\n",
      "Epoch 1/10\n",
      "191/191 [==============================] - 5s 12ms/step - loss: 0.6791 - accuracy: 0.5675 - auc_6: 0.5510 - val_loss: 0.6685 - val_accuracy: 0.5706 - val_auc_6: 0.6534\n",
      "Epoch 2/10\n",
      "191/191 [==============================] - 1s 8ms/step - loss: 0.6500 - accuracy: 0.6061 - auc_6: 0.6875 - val_loss: 0.6263 - val_accuracy: 0.6999 - val_auc_6: 0.7379\n",
      "Epoch 3/10\n",
      "191/191 [==============================] - 1s 8ms/step - loss: 0.5219 - accuracy: 0.7695 - auc_6: 0.8201 - val_loss: 0.4746 - val_accuracy: 0.7840 - val_auc_6: 0.8536\n",
      "Epoch 4/10\n",
      "191/191 [==============================] - 2s 8ms/step - loss: 0.3587 - accuracy: 0.8537 - auc_6: 0.9120 - val_loss: 0.4611 - val_accuracy: 0.7879 - val_auc_6: 0.8623\n",
      "Epoch 5/10\n",
      "191/191 [==============================] - 2s 9ms/step - loss: 0.3090 - accuracy: 0.8762 - auc_6: 0.9347 - val_loss: 0.4727 - val_accuracy: 0.7905 - val_auc_6: 0.8644\n",
      "Epoch 6/10\n",
      "191/191 [==============================] - 1s 8ms/step - loss: 0.2655 - accuracy: 0.8975 - auc_6: 0.9513 - val_loss: 0.4833 - val_accuracy: 0.7899 - val_auc_6: 0.8638\n",
      "Epoch 7/10\n",
      "191/191 [==============================] - 1s 8ms/step - loss: 0.2331 - accuracy: 0.9136 - auc_6: 0.9629 - val_loss: 0.4995 - val_accuracy: 0.7925 - val_auc_6: 0.8642\n",
      "Epoch 8/10\n",
      "191/191 [==============================] - 1s 8ms/step - loss: 0.2046 - accuracy: 0.9243 - auc_6: 0.9703 - val_loss: 0.5352 - val_accuracy: 0.7800 - val_auc_6: 0.8607\n",
      "Epoch 9/10\n",
      "191/191 [==============================] - 2s 8ms/step - loss: 0.1842 - accuracy: 0.9325 - auc_6: 0.9754 - val_loss: 0.5555 - val_accuracy: 0.7807 - val_auc_6: 0.8577\n",
      "Epoch 10/10\n",
      "191/191 [==============================] - 1s 8ms/step - loss: 0.1638 - accuracy: 0.9414 - auc_6: 0.9804 - val_loss: 0.5814 - val_accuracy: 0.7807 - val_auc_6: 0.8567\n"
     ]
    }
   ],
   "source": [
    "bid_model2 = Sequential([\n",
    "    layers.Embedding(vocab_size + 1,128),\n",
    "    Dropout(0.5),\n",
    "    layers.Bidirectional(layers.LSTM(64)),\n",
    "    Dense(1, activation = 'sigmoid')\n",
    "])\n",
    "\n",
    "bid_model2.compile(optimizer = Adam(learning_rate=0.0001),\n",
    "                    loss=\"binary_crossentropy\", \n",
    "                    metrics = ['accuracy', tf.keras.metrics.AUC()])\n",
    "\n",
    "bid_model2.summary()\n",
    "\n",
    "bid_model2_hist = bid_model2.fit(x = x_train,\n",
    "                                   y = y_train,\n",
    "                                   validation_data = (x_val, y_val),\n",
    "                                   epochs = 10,\n",
    "                                 verbose = 1)"
   ]
  },
  {
   "cell_type": "code",
   "execution_count": 38,
   "id": "f219148d",
   "metadata": {
    "execution": {
     "iopub.execute_input": "2022-08-16T13:06:31.985317Z",
     "iopub.status.busy": "2022-08-16T13:06:31.984664Z",
     "iopub.status.idle": "2022-08-16T13:06:32.489872Z",
     "shell.execute_reply": "2022-08-16T13:06:32.488802Z"
    },
    "papermill": {
     "duration": 0.612812,
     "end_time": "2022-08-16T13:06:32.492077",
     "exception": false,
     "start_time": "2022-08-16T13:06:31.879265",
     "status": "completed"
    },
    "tags": []
   },
   "outputs": [
    {
     "data": {
      "image/png": "[encoded data removed]",
      "text/plain": [
       "<Figure size 1152x288 with 3 Axes>"
      ]
     },
     "metadata": {
      "needs_background": "light"
     },
     "output_type": "display_data"
    }
   ],
   "source": [
    "metrics_plot(bid_model2_hist.history)"
   ]
  },
  {
   "cell_type": "code",
   "execution_count": 39,
   "id": "2e646712",
   "metadata": {
    "execution": {
     "iopub.execute_input": "2022-08-16T13:06:32.761469Z",
     "iopub.status.busy": "2022-08-16T13:06:32.760472Z",
     "iopub.status.idle": "2022-08-16T13:06:56.437020Z",
     "shell.execute_reply": "2022-08-16T13:06:56.435816Z"
    },
    "papermill": {
     "duration": 23.840337,
     "end_time": "2022-08-16T13:06:56.439957",
     "exception": false,
     "start_time": "2022-08-16T13:06:32.599620",
     "status": "completed"
    },
    "tags": []
   },
   "outputs": [
    {
     "name": "stdout",
     "output_type": "stream",
     "text": [
      "Model: \"sequential_7\"\n",
      "_________________________________________________________________\n",
      "Layer (type)                 Output Shape              Param #   \n",
      "=================================================================\n",
      "embedding_7 (Embedding)      (None, None, 128)         1639936   \n",
      "_________________________________________________________________\n",
      "dropout_11 (Dropout)         (None, None, 128)         0         \n",
      "_________________________________________________________________\n",
      "bidirectional_2 (Bidirection (None, 128)               98816     \n",
      "_________________________________________________________________\n",
      "dense_17 (Dense)             (None, 1)                 129       \n",
      "=================================================================\n",
      "Total params: 1,738,881\n",
      "Trainable params: 1,738,881\n",
      "Non-trainable params: 0\n",
      "_________________________________________________________________\n",
      "Epoch 1/10\n",
      "191/191 [==============================] - 6s 14ms/step - loss: 0.5516 - accuracy: 0.7159 - auc_7: 0.7790 - val_loss: 0.4440 - val_accuracy: 0.8043 - val_auc_7: 0.8691\n",
      "Epoch 2/10\n",
      "191/191 [==============================] - 1s 8ms/step - loss: 0.3315 - accuracy: 0.8667 - auc_7: 0.9253 - val_loss: 0.4447 - val_accuracy: 0.8024 - val_auc_7: 0.8697\n",
      "Epoch 3/10\n",
      "191/191 [==============================] - 1s 8ms/step - loss: 0.2308 - accuracy: 0.9125 - auc_7: 0.9633 - val_loss: 0.5060 - val_accuracy: 0.7938 - val_auc_7: 0.8606\n",
      "Epoch 4/10\n",
      "191/191 [==============================] - 1s 8ms/step - loss: 0.1606 - accuracy: 0.9433 - auc_7: 0.9814 - val_loss: 0.5686 - val_accuracy: 0.7754 - val_auc_7: 0.8481\n",
      "Epoch 5/10\n",
      "191/191 [==============================] - 2s 9ms/step - loss: 0.1248 - accuracy: 0.9558 - auc_7: 0.9885 - val_loss: 0.6047 - val_accuracy: 0.7840 - val_auc_7: 0.8423\n",
      "Epoch 6/10\n",
      "191/191 [==============================] - 2s 8ms/step - loss: 0.1025 - accuracy: 0.9640 - auc_7: 0.9921 - val_loss: 0.6561 - val_accuracy: 0.7676 - val_auc_7: 0.8369\n",
      "Epoch 7/10\n",
      "191/191 [==============================] - 1s 8ms/step - loss: 0.0862 - accuracy: 0.9683 - auc_7: 0.9949 - val_loss: 0.7519 - val_accuracy: 0.7781 - val_auc_7: 0.8336\n",
      "Epoch 8/10\n",
      "191/191 [==============================] - 2s 8ms/step - loss: 0.0700 - accuracy: 0.9721 - auc_7: 0.9963 - val_loss: 0.8027 - val_accuracy: 0.7695 - val_auc_7: 0.8303\n",
      "Epoch 9/10\n",
      "191/191 [==============================] - 1s 8ms/step - loss: 0.0684 - accuracy: 0.9739 - auc_7: 0.9967 - val_loss: 0.8408 - val_accuracy: 0.7781 - val_auc_7: 0.8258\n",
      "Epoch 10/10\n",
      "191/191 [==============================] - 1s 8ms/step - loss: 0.0599 - accuracy: 0.9752 - auc_7: 0.9976 - val_loss: 0.9286 - val_accuracy: 0.7603 - val_auc_7: 0.8215\n"
     ]
    }
   ],
   "source": [
    "bid_model3 = Sequential([\n",
    "    layers.Embedding(vocab_size + 1,128),\n",
    "    Dropout(0.5),\n",
    "    layers.Bidirectional(layers.LSTM(64)),\n",
    "    Dense(1, activation = 'sigmoid')\n",
    "])\n",
    "\n",
    "bid_model3.compile(optimizer = Adam(learning_rate=0.001),\n",
    "                    loss=\"binary_crossentropy\", \n",
    "                    metrics = ['accuracy', tf.keras.metrics.AUC()])\n",
    "\n",
    "bid_model3.summary()\n",
    "\n",
    "bid_model3_hist = bid_model3.fit(x = x_train,\n",
    "                                 y = y_train,\n",
    "                                 validation_data = (x_val, y_val),\n",
    "                                 epochs = 10,\n",
    "                                 verbose = 1)"
   ]
  },
  {
   "cell_type": "code",
   "execution_count": 40,
   "id": "891017c7",
   "metadata": {
    "execution": {
     "iopub.execute_input": "2022-08-16T13:06:56.677161Z",
     "iopub.status.busy": "2022-08-16T13:06:56.676785Z",
     "iopub.status.idle": "2022-08-16T13:06:57.161468Z",
     "shell.execute_reply": "2022-08-16T13:06:57.160375Z"
    },
    "papermill": {
     "duration": 0.605754,
     "end_time": "2022-08-16T13:06:57.163546",
     "exception": false,
     "start_time": "2022-08-16T13:06:56.557792",
     "status": "completed"
    },
    "tags": []
   },
   "outputs": [
    {
     "data": {
      "image/png": "[encoded data removed]",
      "text/plain": [
       "<Figure size 1152x288 with 3 Axes>"
      ]
     },
     "metadata": {
      "needs_background": "light"
     },
     "output_type": "display_data"
    }
   ],
   "source": [
    "metrics_plot(bid_model3_hist.history)"
   ]
  },
  {
   "cell_type": "markdown",
   "id": "f99c2f0b",
   "metadata": {
    "papermill": {
     "duration": 0.117929,
     "end_time": "2022-08-16T13:06:57.402903",
     "exception": false,
     "start_time": "2022-08-16T13:06:57.284974",
     "status": "completed"
    },
    "tags": []
   },
   "source": [
    "I ran every model for 10 epochs. This runs much much faster than the cancer image set. The first epoch was always slowest, but even then it was multitudes faster. Here are the results if I were to stop at the highest validation accuracy. Disappointingly, they didn't seem to vary all that much from 79% validation accuracy. The best performing model seems to be the last model, but that was also at the first epoch. The learning rates that were one magnitude lower at 0.0001 were a lot more stable at reaching around 0.79 than the higher magnitude of 0.001. Train accuracy usually got very high toward the end of the epochs, but validation accuracy scores rarely saw consistent improvement. Instead, it would usally drop off very early in the epochs and you can see this in the metric graphs for every model. This likely means that model overfits to the data and overfits it fast. There seems to be a very slight improvement in validation accuracy with the bidirection model when compared to the non bidirection lstms. With scores this close it's hard to tell which direction to head, especially with 8 models run with varying hyper parameters. It is notable that the bidirectional models had double the parameters usually because of how I was encoding the embedded. Maybe a diffirent architechture would do better."
   ]
  },
  {
   "cell_type": "markdown",
   "id": "6499f9c0",
   "metadata": {
    "papermill": {
     "duration": 0.117109,
     "end_time": "2022-08-16T13:06:57.636658",
     "exception": false,
     "start_time": "2022-08-16T13:06:57.519549",
     "status": "completed"
    },
    "tags": []
   },
   "source": [
    "| model | type | drop_out | learning rate | train_acc | val_acc | val_auc\n",
    "| ---- | ---- | ---- | ---- | --- | --- | --- | \n",
    "| lstm_model1 | 2 Hidden | 0.2 | 0.001 | 0.8713 | 0.7905 | 0.8514 |\n",
    "| lstm_model2 | 2 Hidden | 0.5 | 0.001 | 0.8997 | 0.7814 | 0.8478 |\n",
    "| lstm_model3 | 2 Hidden | 0.5 | 0.0001 | 0.8568 | 0.7866 | 0.8498 |\n",
    "| lstm_model4 | 2 Hidden | 0.2 | 0.0001 | 0.9112 | 0.7859 | 0.8495 |\n",
    "| lstm_model5 | 1 Hidden | 0.2 | 0.0001 | 0.9039 | 0.7919 | 0.850 |\n",
    "| bid_model1 | 1 Hidden | 0.2 | 0.0001 | 0.8363 | 0.7951 | 0.8540 |\n",
    "| bid_model2 | 1 Hidden | 0.5 | 0.0001 | 0.8747 | 0.7938 | 0.8580 |\n",
    "| bid_model3 | 1 Hidden | 0.5 | 0.001 | 0.7223 | 0.7965 | 0.8556 |"
   ]
  },
  {
   "cell_type": "markdown",
   "id": "8ddbf027",
   "metadata": {
    "papermill": {
     "duration": 0.117044,
     "end_time": "2022-08-16T13:06:57.871743",
     "exception": false,
     "start_time": "2022-08-16T13:06:57.754699",
     "status": "completed"
    },
    "tags": []
   },
   "source": [
    "# Conclusion"
   ]
  },
  {
   "cell_type": "code",
   "execution_count": 41,
   "id": "f4e5abc1",
   "metadata": {
    "execution": {
     "iopub.execute_input": "2022-08-16T13:06:58.109841Z",
     "iopub.status.busy": "2022-08-16T13:06:58.109459Z",
     "iopub.status.idle": "2022-08-16T13:07:11.393182Z",
     "shell.execute_reply": "2022-08-16T13:07:11.392267Z"
    },
    "papermill": {
     "duration": 13.404879,
     "end_time": "2022-08-16T13:07:11.395286",
     "exception": false,
     "start_time": "2022-08-16T13:06:57.990407",
     "status": "completed"
    },
    "tags": []
   },
   "outputs": [
    {
     "name": "stdout",
     "output_type": "stream",
     "text": [
      "Model: \"sequential_8\"\n",
      "_________________________________________________________________\n",
      "Layer (type)                 Output Shape              Param #   \n",
      "=================================================================\n",
      "embedding_8 (Embedding)      (None, None, 128)         1639936   \n",
      "_________________________________________________________________\n",
      "dropout_12 (Dropout)         (None, None, 128)         0         \n",
      "_________________________________________________________________\n",
      "bidirectional_3 (Bidirection (None, 128)               98816     \n",
      "_________________________________________________________________\n",
      "dense_18 (Dense)             (None, 23)                2967      \n",
      "_________________________________________________________________\n",
      "dense_19 (Dense)             (None, 1)                 24        \n",
      "=================================================================\n",
      "Total params: 1,741,743\n",
      "Trainable params: 1,741,743\n",
      "Non-trainable params: 0\n",
      "_________________________________________________________________\n",
      "Epoch 1/10\n",
      "191/191 [==============================] - 5s 12ms/step - loss: 0.6784 - accuracy: 0.5703 - auc_8: 0.5706 - val_loss: 0.6646 - val_accuracy: 0.5706 - val_auc_8: 0.7048\n",
      "Epoch 2/10\n",
      "191/191 [==============================] - 2s 8ms/step - loss: 0.6167 - accuracy: 0.6693 - auc_8: 0.7647 - val_loss: 0.5545 - val_accuracy: 0.7617 - val_auc_8: 0.8175\n",
      "Epoch 3/10\n",
      "191/191 [==============================] - 2s 8ms/step - loss: 0.4307 - accuracy: 0.8250 - auc_8: 0.8871 - val_loss: 0.4492 - val_accuracy: 0.8030 - val_auc_8: 0.8640\n",
      "Epoch 4/10\n",
      "191/191 [==============================] - 2s 9ms/step - loss: 0.3133 - accuracy: 0.8764 - auc_8: 0.9375 - val_loss: 0.4580 - val_accuracy: 0.8083 - val_auc_8: 0.8662\n",
      "Epoch 5/10\n",
      "191/191 [==============================] - 2s 8ms/step - loss: 0.2454 - accuracy: 0.9049 - auc_8: 0.9626 - val_loss: 0.4791 - val_accuracy: 0.7925 - val_auc_8: 0.8631\n",
      "Epoch 6/10\n",
      "191/191 [==============================] - 2s 8ms/step - loss: 0.2057 - accuracy: 0.9233 - auc_8: 0.9726 - val_loss: 0.4998 - val_accuracy: 0.7951 - val_auc_8: 0.8601\n"
     ]
    }
   ],
   "source": [
    "callback = tf.keras.callbacks.EarlyStopping(monitor='val_accuracy', patience=2, restore_best_weights=True)\n",
    "bid_model1 = Sequential([\n",
    "    layers.Embedding(vocab_size + 1,128),\n",
    "    Dropout(0.2),\n",
    "    layers.Bidirectional(layers.LSTM(64)),\n",
    "    Dense(23, activation = 'relu'),\n",
    "    Dense(1, activation = 'sigmoid')\n",
    "])\n",
    "\n",
    "bid_model1.compile(optimizer = Adam(learning_rate=0.0001),\n",
    "                    loss=\"binary_crossentropy\", \n",
    "                    metrics = ['accuracy', tf.keras.metrics.AUC()])\n",
    "\n",
    "bid_model1.summary()\n",
    "\n",
    "bid_model1_hist = bid_model1.fit(x = x_train,\n",
    "                                 y = y_train,\n",
    "                                 validation_data = (x_val, y_val),\n",
    "                                 epochs = 10,\n",
    "                                 callbacks=[callback],\n",
    "                                 verbose = 1)"
   ]
  },
  {
   "cell_type": "code",
   "execution_count": 42,
   "id": "4c9fcd92",
   "metadata": {
    "execution": {
     "iopub.execute_input": "2022-08-16T13:07:11.648894Z",
     "iopub.status.busy": "2022-08-16T13:07:11.648531Z",
     "iopub.status.idle": "2022-08-16T13:07:22.636365Z",
     "shell.execute_reply": "2022-08-16T13:07:22.635351Z"
    },
    "papermill": {
     "duration": 11.117382,
     "end_time": "2022-08-16T13:07:22.638421",
     "exception": false,
     "start_time": "2022-08-16T13:07:11.521039",
     "status": "completed"
    },
    "tags": []
   },
   "outputs": [
    {
     "name": "stdout",
     "output_type": "stream",
     "text": [
      "48/48 [==============================] - 1s 2ms/step\n"
     ]
    },
    {
     "data": {
      "text/plain": [
       "Text(0.5, 1.0, 'Confusion Matrix')"
      ]
     },
     "execution_count": 42,
     "metadata": {},
     "output_type": "execute_result"
    },
    {
     "data": {
      "image/png": "[encoded data removed]",
      "text/plain": [
       "<Figure size 432x288 with 2 Axes>"
      ]
     },
     "metadata": {
      "needs_background": "light"
     },
     "output_type": "display_data"
    }
   ],
   "source": [
    "from sklearn.metrics import confusion_matrix\n",
    "import seaborn as sns\n",
    "y_preds1 = bid_model1.predict(x_val, verbose=1)\n",
    "y_hat_labels1 = np.round(y_preds1)\n",
    "conf_mat1 = confusion_matrix(y_val, y_hat_labels1)/len(y_val)\n",
    "sns.heatmap(conf_mat1, annot=True, linewidths=0.01,cmap=\"Greens\",linecolor=\"gray\")\n",
    "plt.title(\"Confusion Matrix\")"
   ]
  },
  {
   "cell_type": "markdown",
   "id": "6954ef45",
   "metadata": {
    "papermill": {
     "duration": 0.124773,
     "end_time": "2022-08-16T13:07:22.891132",
     "exception": false,
     "start_time": "2022-08-16T13:07:22.766359",
     "status": "completed"
    },
    "tags": []
   },
   "source": [
    "I reran with early stopping for the last model which was bidirectional, since it performed best, although the difference was very slight. I had it restore the weights to the epoch that had the best validation accuracy scores. It stopped at a slightly higher validation and managed to break 0.8, but these small increases are random and aren't really good indicators. From the confusion matrix using this model, you can see that this model has a harder time predicting true positives as there seems to be a quite a lot more false negatives than false positives, nearly double the amount. It's likely that this model is bias toward predicting not disaster when it is a disaster. To improve, we need to try different architectures and perhaps try to think of a way that also includes data about the keywords."
   ]
  },
  {
   "cell_type": "markdown",
   "id": "527aee82",
   "metadata": {
    "papermill": {
     "duration": 0.129471,
     "end_time": "2022-08-16T13:07:23.149179",
     "exception": false,
     "start_time": "2022-08-16T13:07:23.019708",
     "status": "completed"
    },
    "tags": []
   },
   "source": [
    "# Create Submission"
   ]
  },
  {
   "cell_type": "code",
   "execution_count": 43,
   "id": "bf7bf435",
   "metadata": {
    "execution": {
     "iopub.execute_input": "2022-08-16T13:07:23.447186Z",
     "iopub.status.busy": "2022-08-16T13:07:23.446822Z",
     "iopub.status.idle": "2022-08-16T13:07:23.780717Z",
     "shell.execute_reply": "2022-08-16T13:07:23.779696Z"
    },
    "papermill": {
     "duration": 0.505839,
     "end_time": "2022-08-16T13:07:23.783111",
     "exception": false,
     "start_time": "2022-08-16T13:07:23.277272",
     "status": "completed"
    },
    "tags": []
   },
   "outputs": [],
   "source": [
    "test_df_clean = preprocessPipline(test_df, 'text')\n",
    "\n",
    "test_df_clean = tokenizer.texts_to_sequences(test_df_clean['text'])\n",
    "\n",
    "test_pad = pad_sequences(test_df_clean,\n",
    "                                maxlen=23, \n",
    "                                truncating='post', \n",
    "                                padding='post'\n",
    "                               )"
   ]
  },
  {
   "cell_type": "code",
   "execution_count": 44,
   "id": "32c637f2",
   "metadata": {
    "execution": {
     "iopub.execute_input": "2022-08-16T13:07:24.043864Z",
     "iopub.status.busy": "2022-08-16T13:07:24.043503Z",
     "iopub.status.idle": "2022-08-16T13:07:24.325905Z",
     "shell.execute_reply": "2022-08-16T13:07:24.324584Z"
    },
    "papermill": {
     "duration": 0.417217,
     "end_time": "2022-08-16T13:07:24.328477",
     "exception": false,
     "start_time": "2022-08-16T13:07:23.911260",
     "status": "completed"
    },
    "tags": []
   },
   "outputs": [
    {
     "name": "stdout",
     "output_type": "stream",
     "text": [
      "102/102 [==============================] - 0s 2ms/step\n"
     ]
    }
   ],
   "source": [
    "test_y = bid_model1.predict(test_pad, verbose=1)\n",
    "test_y = np.round(test_y)"
   ]
  },
  {
   "cell_type": "code",
   "execution_count": 45,
   "id": "c72b6160",
   "metadata": {
    "execution": {
     "iopub.execute_input": "2022-08-16T13:07:24.591862Z",
     "iopub.status.busy": "2022-08-16T13:07:24.591189Z",
     "iopub.status.idle": "2022-08-16T13:07:24.613295Z",
     "shell.execute_reply": "2022-08-16T13:07:24.612422Z"
    },
    "papermill": {
     "duration": 0.156283,
     "end_time": "2022-08-16T13:07:24.615294",
     "exception": false,
     "start_time": "2022-08-16T13:07:24.459011",
     "status": "completed"
    },
    "tags": []
   },
   "outputs": [
    {
     "data": {
      "text/html": [
       "<div>\n",
       "<style scoped>\n",
       "    .dataframe tbody tr th:only-of-type {\n",
       "        vertical-align: middle;\n",
       "    }\n",
       "\n",
       "    .dataframe tbody tr th {\n",
       "        vertical-align: top;\n",
       "    }\n",
       "\n",
       "    .dataframe thead th {\n",
       "        text-align: right;\n",
       "    }\n",
       "</style>\n",
       "<table border=\"1\" class=\"dataframe\">\n",
       "  <thead>\n",
       "    <tr style=\"text-align: right;\">\n",
       "      <th></th>\n",
       "      <th>id</th>\n",
       "      <th>target</th>\n",
       "    </tr>\n",
       "  </thead>\n",
       "  <tbody>\n",
       "    <tr>\n",
       "      <th>0</th>\n",
       "      <td>0</td>\n",
       "      <td>1</td>\n",
       "    </tr>\n",
       "    <tr>\n",
       "      <th>1</th>\n",
       "      <td>2</td>\n",
       "      <td>0</td>\n",
       "    </tr>\n",
       "    <tr>\n",
       "      <th>2</th>\n",
       "      <td>3</td>\n",
       "      <td>1</td>\n",
       "    </tr>\n",
       "    <tr>\n",
       "      <th>3</th>\n",
       "      <td>9</td>\n",
       "      <td>1</td>\n",
       "    </tr>\n",
       "    <tr>\n",
       "      <th>4</th>\n",
       "      <td>11</td>\n",
       "      <td>1</td>\n",
       "    </tr>\n",
       "  </tbody>\n",
       "</table>\n",
       "</div>"
      ],
      "text/plain": [
       "   id  target\n",
       "0   0       1\n",
       "1   2       0\n",
       "2   3       1\n",
       "3   9       1\n",
       "4  11       1"
      ]
     },
     "execution_count": 45,
     "metadata": {},
     "output_type": "execute_result"
    }
   ],
   "source": [
    "submission = pd.read_csv('../input/nlp-getting-started/sample_submission.csv')\n",
    "submission['target']=test_y.astype('int')\n",
    "submission.head()"
   ]
  },
  {
   "cell_type": "code",
   "execution_count": 46,
   "id": "5ea5dd7c",
   "metadata": {
    "execution": {
     "iopub.execute_input": "2022-08-16T13:07:24.881278Z",
     "iopub.status.busy": "2022-08-16T13:07:24.880223Z",
     "iopub.status.idle": "2022-08-16T13:07:24.890666Z",
     "shell.execute_reply": "2022-08-16T13:07:24.889739Z"
    },
    "papermill": {
     "duration": 0.143369,
     "end_time": "2022-08-16T13:07:24.892554",
     "exception": false,
     "start_time": "2022-08-16T13:07:24.749185",
     "status": "completed"
    },
    "tags": []
   },
   "outputs": [],
   "source": [
    "submission.to_csv('submission.csv', index=False)"
   ]
  },
  {
   "cell_type": "markdown",
   "id": "46c92b4d",
   "metadata": {
    "papermill": {
     "duration": 0.129359,
     "end_time": "2022-08-16T13:07:25.149291",
     "exception": false,
     "start_time": "2022-08-16T13:07:25.019932",
     "status": "completed"
    },
    "tags": []
   },
   "source": [
    "# References:\n",
    "\n",
    "https://www.kaggle.com/code/mariapushkareva/nlp-disaster-tweets-with-glove-and-lstm/notebook\n",
    "\n",
    "https://www.kaggle.com/code/andreshg/nlp-glove-bert-tf-idf-lstm-explained\n",
    "\n",
    "https://www.kaggle.com/code/alid3bs/lstm-vs-gru-vs-bidirectional/notebook\n",
    "\n",
    "https://www.kaggle.com/code/danilastepochkin/disaster-tweets-dl-with-lstm-and-language-model\n",
    "\n",
    "https://www.kaggle.com/code/ltrahul/nlp-disaster-tweets-prediction-with-nltk-and-lstm"
   ]
  }
 ],
 "metadata": {
  "kernelspec": {
   "display_name": "Python 3",
   "language": "python",
   "name": "python3"
  },
  "language_info": {
   "codemirror_mode": {
    "name": "ipython",
    "version": 3
   },
   "file_extension": ".py",
   "mimetype": "text/x-python",
   "name": "python",
   "nbconvert_exporter": "python",
   "pygments_lexer": "ipython3",
   "version": "3.7.12"
  },
  "papermill": {
   "default_parameters": {},
   "duration": 206.488031,
   "end_time": "2022-08-16T13:07:28.278210",
   "environment_variables": {},
   "exception": null,
   "input_path": "__notebook__.ipynb",
   "output_path": "__notebook__.ipynb",
   "parameters": {},
   "start_time": "2022-08-16T13:04:01.790179",
   "version": "2.3.4"
  }
 },
 "nbformat": 4,
 "nbformat_minor": 5
}
